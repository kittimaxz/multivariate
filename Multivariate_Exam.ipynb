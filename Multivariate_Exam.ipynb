{
  "nbformat": 4,
  "nbformat_minor": 0,
  "metadata": {
    "colab": {
      "name": "Multivariate Exam.ipynb",
      "provenance": [],
      "include_colab_link": true
    },
    "kernelspec": {
      "name": "python3",
      "display_name": "Python 3"
    },
    "language_info": {
      "name": "python"
    }
  },
  "cells": [
    {
      "cell_type": "markdown",
      "metadata": {
        "id": "view-in-github",
        "colab_type": "text"
      },
      "source": [
        "<a href=\"https://colab.research.google.com/github/kittimaxz/multivariate/blob/main/Multivariate_Exam.ipynb\" target=\"_parent\"><img src=\"https://colab.research.google.com/assets/colab-badge.svg\" alt=\"Open In Colab\"/></a>"
      ]
    },
    {
      "cell_type": "markdown",
      "metadata": {
        "id": "JZxiNADfaDtv"
      },
      "source": [
        "ให้นักศึกษาทำข้อสอบใน Colab Notebook นี้โดยกรอกข้อมูลของตัวเองใน cell ที่ 2 แล้วรัน cell ที่ 1 - 5 และเริ่มทำข้อสอบใน cell ที่ 6 เป็นต้นไป\n",
        "\n",
        "โดยโจทย์คือ\n",
        "1. ข้อมูลโจทย์ อยู่ใน ตัวแปร ```Data```\n",
        "2. ทำ clustering แล้วทำ visualize ข้อมูลแบบ 2 มิติ\n",
        "3. ลด Dimension ของข้อมูลเหลือ 2 มิติ แล้วทำ clustering แล้ว visualize ข้อมูลแบบ 2 มิติ\n",
        "4. เปรียบเทียบความแตกต่างของผลข้อ 2. กับ ข้อ 3.\n",
        "5. เขียน comments อธิบายทุกขั้นตอน\n",
        "6. อัด video อธิบาย code ทุกๆขั้นตอนรวมถึงผลแล้วอัพลง youtube ในรูปแบบ unlist \n",
        "7. commit โดยใช้ชื่อ commit เป็น link youtube ที่อธิบาย code ในข้อ 6.\n",
        "\n",
        "กำหนดส่งวันที่ 2 พฤษภาคม 2564 (โดยให้มากรอกวันที่ commit ครั้งสุดท้ายใน sheet: https://docs.google.com/spreadsheets/d/1_qJwLDJVtOW1HxBcf_FHVc6UT4J_SOonuR6o3EEnVzw/edit?usp=sharing ช่อง Final)"
      ]
    },
    {
      "cell_type": "code",
      "metadata": {
        "id": "cWl2x1bPGtQl"
      },
      "source": [
        "from sklearn.datasets import make_blobs\n",
        "import random,math\n",
        "import numpy as np\n",
        "import pandas"
      ],
      "execution_count": 2,
      "outputs": []
    },
    {
      "cell_type": "code",
      "metadata": {
        "id": "gZfzuiHsZksh"
      },
      "source": [
        "Name = 'กิตติมา อุปสุข'\n",
        "ID = '6230210409'"
      ],
      "execution_count": 3,
      "outputs": []
    },
    {
      "cell_type": "code",
      "metadata": {
        "id": "8hFQXkF5aAiA"
      },
      "source": [
        "def DataGenerator(name,id):\n",
        "    random.seed(int(id[3:6]))\n",
        "    numfeat = random.randint(20,30)\n",
        "    ct = random.randint(len(name)-6,len(name))\n",
        "    \n",
        "    X, y = make_blobs(n_samples=10000, centers=ct, n_features=numfeat , random_state=int(id[3:6]))\n",
        "\n",
        "    print(f'{id[3:6]}:{numfeat}:{ct}')\n",
        "    X_t = (X[:,1]*2)+int(id[3])\n",
        "    X_t2 = (X[:,-1]*5)+int(id[4])\n",
        "\n",
        "    DT = np.append(X,X_t.reshape([10000,1]),axis=1)\n",
        "    DT = np.append(DT,X_t2.reshape([10000,1]),axis=1)\n",
        "    \n",
        "    return pandas.DataFrame(DT)"
      ],
      "execution_count": 4,
      "outputs": []
    },
    {
      "cell_type": "code",
      "metadata": {
        "colab": {
          "base_uri": "https://localhost:8080/"
        },
        "id": "hbXlxumSBX9i",
        "outputId": "9d09bff7-2b5a-46c9-cd02-027fc7555caf"
      },
      "source": [
        "Data = DataGenerator(Name,ID)"
      ],
      "execution_count": 5,
      "outputs": [
        {
          "output_type": "stream",
          "text": [
            "021:22:11\n"
          ],
          "name": "stdout"
        }
      ]
    },
    {
      "cell_type": "code",
      "metadata": {
        "colab": {
          "base_uri": "https://localhost:8080/",
          "height": 422
        },
        "id": "pQcCySXvBdN-",
        "outputId": "004dd38a-446b-457d-85ef-14664fadd20d"
      },
      "source": [
        "Data"
      ],
      "execution_count": 6,
      "outputs": [
        {
          "output_type": "execute_result",
          "data": {
            "text/html": [
              "<div>\n",
              "<style scoped>\n",
              "    .dataframe tbody tr th:only-of-type {\n",
              "        vertical-align: middle;\n",
              "    }\n",
              "\n",
              "    .dataframe tbody tr th {\n",
              "        vertical-align: top;\n",
              "    }\n",
              "\n",
              "    .dataframe thead th {\n",
              "        text-align: right;\n",
              "    }\n",
              "</style>\n",
              "<table border=\"1\" class=\"dataframe\">\n",
              "  <thead>\n",
              "    <tr style=\"text-align: right;\">\n",
              "      <th></th>\n",
              "      <th>0</th>\n",
              "      <th>1</th>\n",
              "      <th>2</th>\n",
              "      <th>3</th>\n",
              "      <th>4</th>\n",
              "      <th>5</th>\n",
              "      <th>6</th>\n",
              "      <th>7</th>\n",
              "      <th>8</th>\n",
              "      <th>9</th>\n",
              "      <th>10</th>\n",
              "      <th>11</th>\n",
              "      <th>12</th>\n",
              "      <th>13</th>\n",
              "      <th>14</th>\n",
              "      <th>15</th>\n",
              "      <th>16</th>\n",
              "      <th>17</th>\n",
              "      <th>18</th>\n",
              "      <th>19</th>\n",
              "      <th>20</th>\n",
              "      <th>21</th>\n",
              "      <th>22</th>\n",
              "      <th>23</th>\n",
              "    </tr>\n",
              "  </thead>\n",
              "  <tbody>\n",
              "    <tr>\n",
              "      <th>0</th>\n",
              "      <td>-0.889351</td>\n",
              "      <td>-3.687852</td>\n",
              "      <td>5.854784</td>\n",
              "      <td>-3.415873</td>\n",
              "      <td>-5.610665</td>\n",
              "      <td>-2.582173</td>\n",
              "      <td>3.694650</td>\n",
              "      <td>-5.062654</td>\n",
              "      <td>-4.586200</td>\n",
              "      <td>6.457132</td>\n",
              "      <td>2.304650</td>\n",
              "      <td>4.329046</td>\n",
              "      <td>7.206710</td>\n",
              "      <td>-5.144610</td>\n",
              "      <td>-1.245484</td>\n",
              "      <td>-7.250447</td>\n",
              "      <td>9.249019</td>\n",
              "      <td>4.797001</td>\n",
              "      <td>5.020432</td>\n",
              "      <td>-3.889117</td>\n",
              "      <td>8.994408</td>\n",
              "      <td>-11.231579</td>\n",
              "      <td>-7.375703</td>\n",
              "      <td>-54.157893</td>\n",
              "    </tr>\n",
              "    <tr>\n",
              "      <th>1</th>\n",
              "      <td>6.888596</td>\n",
              "      <td>-6.324905</td>\n",
              "      <td>-5.740092</td>\n",
              "      <td>5.299575</td>\n",
              "      <td>-2.842515</td>\n",
              "      <td>2.372734</td>\n",
              "      <td>7.933971</td>\n",
              "      <td>-9.659946</td>\n",
              "      <td>6.361068</td>\n",
              "      <td>-10.214856</td>\n",
              "      <td>0.338380</td>\n",
              "      <td>-1.412124</td>\n",
              "      <td>3.624184</td>\n",
              "      <td>4.602672</td>\n",
              "      <td>-8.628475</td>\n",
              "      <td>-7.482172</td>\n",
              "      <td>-0.471848</td>\n",
              "      <td>5.111467</td>\n",
              "      <td>-7.731085</td>\n",
              "      <td>2.441740</td>\n",
              "      <td>-7.366802</td>\n",
              "      <td>-1.858061</td>\n",
              "      <td>-12.649810</td>\n",
              "      <td>-7.290306</td>\n",
              "    </tr>\n",
              "    <tr>\n",
              "      <th>2</th>\n",
              "      <td>8.017362</td>\n",
              "      <td>8.473604</td>\n",
              "      <td>3.038962</td>\n",
              "      <td>-6.893468</td>\n",
              "      <td>-7.191756</td>\n",
              "      <td>-2.181812</td>\n",
              "      <td>-8.602517</td>\n",
              "      <td>1.635662</td>\n",
              "      <td>-4.501795</td>\n",
              "      <td>-8.114539</td>\n",
              "      <td>-6.316734</td>\n",
              "      <td>-4.982942</td>\n",
              "      <td>1.302537</td>\n",
              "      <td>-2.022844</td>\n",
              "      <td>0.086704</td>\n",
              "      <td>-2.306383</td>\n",
              "      <td>-8.802485</td>\n",
              "      <td>-6.781084</td>\n",
              "      <td>-3.476832</td>\n",
              "      <td>-4.668904</td>\n",
              "      <td>-9.690799</td>\n",
              "      <td>5.240675</td>\n",
              "      <td>16.947207</td>\n",
              "      <td>28.203376</td>\n",
              "    </tr>\n",
              "    <tr>\n",
              "      <th>3</th>\n",
              "      <td>-5.259314</td>\n",
              "      <td>7.534503</td>\n",
              "      <td>7.437431</td>\n",
              "      <td>4.414411</td>\n",
              "      <td>-0.059253</td>\n",
              "      <td>-7.445860</td>\n",
              "      <td>-4.424710</td>\n",
              "      <td>-3.564299</td>\n",
              "      <td>-3.465228</td>\n",
              "      <td>-0.862653</td>\n",
              "      <td>2.011504</td>\n",
              "      <td>-4.724475</td>\n",
              "      <td>6.885026</td>\n",
              "      <td>4.804179</td>\n",
              "      <td>7.909228</td>\n",
              "      <td>-4.198045</td>\n",
              "      <td>4.079989</td>\n",
              "      <td>2.923757</td>\n",
              "      <td>-2.001206</td>\n",
              "      <td>-2.269056</td>\n",
              "      <td>6.894771</td>\n",
              "      <td>1.137825</td>\n",
              "      <td>15.069006</td>\n",
              "      <td>7.689124</td>\n",
              "    </tr>\n",
              "    <tr>\n",
              "      <th>4</th>\n",
              "      <td>11.803001</td>\n",
              "      <td>-5.373877</td>\n",
              "      <td>-6.309848</td>\n",
              "      <td>5.999780</td>\n",
              "      <td>-2.165905</td>\n",
              "      <td>3.767224</td>\n",
              "      <td>8.701775</td>\n",
              "      <td>-8.471486</td>\n",
              "      <td>5.789175</td>\n",
              "      <td>-9.041266</td>\n",
              "      <td>0.967662</td>\n",
              "      <td>-0.752092</td>\n",
              "      <td>4.443130</td>\n",
              "      <td>3.572116</td>\n",
              "      <td>-9.602990</td>\n",
              "      <td>-7.327553</td>\n",
              "      <td>2.603626</td>\n",
              "      <td>3.287083</td>\n",
              "      <td>-6.879058</td>\n",
              "      <td>1.562324</td>\n",
              "      <td>-6.132335</td>\n",
              "      <td>-0.672218</td>\n",
              "      <td>-10.747753</td>\n",
              "      <td>-1.361092</td>\n",
              "    </tr>\n",
              "    <tr>\n",
              "      <th>...</th>\n",
              "      <td>...</td>\n",
              "      <td>...</td>\n",
              "      <td>...</td>\n",
              "      <td>...</td>\n",
              "      <td>...</td>\n",
              "      <td>...</td>\n",
              "      <td>...</td>\n",
              "      <td>...</td>\n",
              "      <td>...</td>\n",
              "      <td>...</td>\n",
              "      <td>...</td>\n",
              "      <td>...</td>\n",
              "      <td>...</td>\n",
              "      <td>...</td>\n",
              "      <td>...</td>\n",
              "      <td>...</td>\n",
              "      <td>...</td>\n",
              "      <td>...</td>\n",
              "      <td>...</td>\n",
              "      <td>...</td>\n",
              "      <td>...</td>\n",
              "      <td>...</td>\n",
              "      <td>...</td>\n",
              "      <td>...</td>\n",
              "    </tr>\n",
              "    <tr>\n",
              "      <th>9995</th>\n",
              "      <td>9.386310</td>\n",
              "      <td>0.143661</td>\n",
              "      <td>7.034918</td>\n",
              "      <td>8.043940</td>\n",
              "      <td>6.736725</td>\n",
              "      <td>6.999241</td>\n",
              "      <td>4.103643</td>\n",
              "      <td>-2.564332</td>\n",
              "      <td>-3.517837</td>\n",
              "      <td>6.354337</td>\n",
              "      <td>-7.514451</td>\n",
              "      <td>-2.221127</td>\n",
              "      <td>-5.829928</td>\n",
              "      <td>2.024862</td>\n",
              "      <td>6.591702</td>\n",
              "      <td>-3.938688</td>\n",
              "      <td>6.786948</td>\n",
              "      <td>5.749472</td>\n",
              "      <td>2.184205</td>\n",
              "      <td>-5.268825</td>\n",
              "      <td>6.337545</td>\n",
              "      <td>-0.350062</td>\n",
              "      <td>0.287322</td>\n",
              "      <td>0.249688</td>\n",
              "    </tr>\n",
              "    <tr>\n",
              "      <th>9996</th>\n",
              "      <td>-5.933911</td>\n",
              "      <td>7.865360</td>\n",
              "      <td>7.554697</td>\n",
              "      <td>5.966666</td>\n",
              "      <td>-0.086257</td>\n",
              "      <td>-5.588988</td>\n",
              "      <td>-3.534003</td>\n",
              "      <td>-2.527750</td>\n",
              "      <td>-4.761734</td>\n",
              "      <td>-0.426129</td>\n",
              "      <td>1.003535</td>\n",
              "      <td>-6.136890</td>\n",
              "      <td>5.449768</td>\n",
              "      <td>3.955082</td>\n",
              "      <td>6.685563</td>\n",
              "      <td>-6.451825</td>\n",
              "      <td>3.396171</td>\n",
              "      <td>3.630983</td>\n",
              "      <td>-1.397212</td>\n",
              "      <td>-3.044932</td>\n",
              "      <td>5.194200</td>\n",
              "      <td>1.544812</td>\n",
              "      <td>15.730721</td>\n",
              "      <td>9.724062</td>\n",
              "    </tr>\n",
              "    <tr>\n",
              "      <th>9997</th>\n",
              "      <td>-9.191507</td>\n",
              "      <td>-5.048968</td>\n",
              "      <td>4.294216</td>\n",
              "      <td>-9.342154</td>\n",
              "      <td>-7.362920</td>\n",
              "      <td>-9.229852</td>\n",
              "      <td>-4.192468</td>\n",
              "      <td>3.754275</td>\n",
              "      <td>-2.734278</td>\n",
              "      <td>4.230375</td>\n",
              "      <td>-9.031066</td>\n",
              "      <td>7.426534</td>\n",
              "      <td>-6.797743</td>\n",
              "      <td>-5.650139</td>\n",
              "      <td>2.036746</td>\n",
              "      <td>8.826735</td>\n",
              "      <td>5.432167</td>\n",
              "      <td>9.468526</td>\n",
              "      <td>6.800718</td>\n",
              "      <td>-1.900056</td>\n",
              "      <td>-3.067357</td>\n",
              "      <td>3.287883</td>\n",
              "      <td>-10.097935</td>\n",
              "      <td>18.439417</td>\n",
              "    </tr>\n",
              "    <tr>\n",
              "      <th>9998</th>\n",
              "      <td>-2.169208</td>\n",
              "      <td>11.419935</td>\n",
              "      <td>-5.335483</td>\n",
              "      <td>3.089792</td>\n",
              "      <td>8.711882</td>\n",
              "      <td>6.311260</td>\n",
              "      <td>-4.494053</td>\n",
              "      <td>11.339766</td>\n",
              "      <td>-1.473491</td>\n",
              "      <td>10.446842</td>\n",
              "      <td>-9.495673</td>\n",
              "      <td>9.596118</td>\n",
              "      <td>5.562927</td>\n",
              "      <td>-7.996054</td>\n",
              "      <td>4.785754</td>\n",
              "      <td>-5.670202</td>\n",
              "      <td>1.141286</td>\n",
              "      <td>0.046121</td>\n",
              "      <td>-7.345678</td>\n",
              "      <td>5.898585</td>\n",
              "      <td>8.302183</td>\n",
              "      <td>2.210728</td>\n",
              "      <td>22.839871</td>\n",
              "      <td>13.053641</td>\n",
              "    </tr>\n",
              "    <tr>\n",
              "      <th>9999</th>\n",
              "      <td>-1.127325</td>\n",
              "      <td>7.843972</td>\n",
              "      <td>-4.099255</td>\n",
              "      <td>4.558747</td>\n",
              "      <td>7.852268</td>\n",
              "      <td>5.034660</td>\n",
              "      <td>-4.552104</td>\n",
              "      <td>8.939836</td>\n",
              "      <td>-1.925336</td>\n",
              "      <td>6.983523</td>\n",
              "      <td>-8.159121</td>\n",
              "      <td>7.927639</td>\n",
              "      <td>7.834505</td>\n",
              "      <td>-9.620846</td>\n",
              "      <td>3.095374</td>\n",
              "      <td>-6.055264</td>\n",
              "      <td>0.180302</td>\n",
              "      <td>-1.477641</td>\n",
              "      <td>-9.056913</td>\n",
              "      <td>5.848816</td>\n",
              "      <td>7.980008</td>\n",
              "      <td>0.949692</td>\n",
              "      <td>15.687945</td>\n",
              "      <td>6.748462</td>\n",
              "    </tr>\n",
              "  </tbody>\n",
              "</table>\n",
              "<p>10000 rows × 24 columns</p>\n",
              "</div>"
            ],
            "text/plain": [
              "             0          1         2   ...         21         22         23\n",
              "0     -0.889351  -3.687852  5.854784  ... -11.231579  -7.375703 -54.157893\n",
              "1      6.888596  -6.324905 -5.740092  ...  -1.858061 -12.649810  -7.290306\n",
              "2      8.017362   8.473604  3.038962  ...   5.240675  16.947207  28.203376\n",
              "3     -5.259314   7.534503  7.437431  ...   1.137825  15.069006   7.689124\n",
              "4     11.803001  -5.373877 -6.309848  ...  -0.672218 -10.747753  -1.361092\n",
              "...         ...        ...       ...  ...        ...        ...        ...\n",
              "9995   9.386310   0.143661  7.034918  ...  -0.350062   0.287322   0.249688\n",
              "9996  -5.933911   7.865360  7.554697  ...   1.544812  15.730721   9.724062\n",
              "9997  -9.191507  -5.048968  4.294216  ...   3.287883 -10.097935  18.439417\n",
              "9998  -2.169208  11.419935 -5.335483  ...   2.210728  22.839871  13.053641\n",
              "9999  -1.127325   7.843972 -4.099255  ...   0.949692  15.687945   6.748462\n",
              "\n",
              "[10000 rows x 24 columns]"
            ]
          },
          "metadata": {
            "tags": []
          },
          "execution_count": 6
        }
      ]
    },
    {
      "cell_type": "markdown",
      "metadata": {
        "id": "AfRjHvBpY3ir"
      },
      "source": [
        "ลอง plot scatter matrix เพื่อดูการกระจายของ data ในมุมมองต่างๆ"
      ]
    },
    {
      "cell_type": "code",
      "metadata": {
        "id": "Mg9xlE9KZaTB"
      },
      "source": [
        "import pandas as pd"
      ],
      "execution_count": 7,
      "outputs": []
    },
    {
      "cell_type": "code",
      "metadata": {
        "id": "Refo8ZzEZOXz",
        "colab": {
          "base_uri": "https://localhost:8080/",
          "height": 289
        },
        "outputId": "21256948-817c-4627-f308-6f3beff3c29f"
      },
      "source": [
        "pd.plotting.scatter_matrix(Data);"
      ],
      "execution_count": 8,
      "outputs": [
        {
          "output_type": "display_data",
          "data": {
            "image/png": "[encoded data removed]",
            "text/plain": [
              "<Figure size 432x288 with 576 Axes>"
            ]
          },
          "metadata": {
            "tags": [],
            "needs_background": "light"
          }
        }
      ]
    },
    {
      "cell_type": "code",
      "metadata": {
        "id": "bcx1VoaTQxWX",
        "colab": {
          "base_uri": "https://localhost:8080/"
        },
        "outputId": "7143025d-61ad-4b80-c0c6-d55f54c12559"
      },
      "source": [
        "Data.shape ###ดูขนาดของข้อมูล Data"
      ],
      "execution_count": 9,
      "outputs": [
        {
          "output_type": "execute_result",
          "data": {
            "text/plain": [
              "(10000, 24)"
            ]
          },
          "metadata": {
            "tags": []
          },
          "execution_count": 9
        }
      ]
    },
    {
      "cell_type": "markdown",
      "metadata": {
        "id": "RR-2aGnPQ44j"
      },
      "source": [
        "เตรียมข้อมูลก่อนที่จะนำไปใช้ โดยการตัดตัวที่มี correlation กันออกไปก่อน เพื่อลดข้อมูลที่เหมือนกันออกจาก  Data"
      ]
    },
    {
      "cell_type": "code",
      "metadata": {
        "id": "57HzdT5URONK"
      },
      "source": [
        "corr=np.corrcoef(Data.to_numpy().T)"
      ],
      "execution_count": 10,
      "outputs": []
    },
    {
      "cell_type": "code",
      "metadata": {
        "id": "pocdnfu2Rh__",
        "colab": {
          "base_uri": "https://localhost:8080/"
        },
        "outputId": "ec9e311e-a1c5-4047-9150-bab5eef798fe"
      },
      "source": [
        "corr.shape ###ดูขนาดของ corrcoef ของ Data"
      ],
      "execution_count": 11,
      "outputs": [
        {
          "output_type": "execute_result",
          "data": {
            "text/plain": [
              "(24, 24)"
            ]
          },
          "metadata": {
            "tags": []
          },
          "execution_count": 11
        }
      ]
    },
    {
      "cell_type": "markdown",
      "metadata": {
        "id": "7hCTBOpgR2GZ"
      },
      "source": [
        "ทำการวนลูปหาค่า correlation ที่ซ้ำกัน เพื่อนำค่าที่ซ้ำกันออก"
      ]
    },
    {
      "cell_type": "code",
      "metadata": {
        "id": "7G_FXM9MRy5I",
        "colab": {
          "base_uri": "https://localhost:8080/"
        },
        "outputId": "dcde46bf-40f6-4dcd-d514-a38db5e5602b"
      },
      "source": [
        "for i in range(corr.shape[0]):\n",
        "  for j in range(corr.shape[1]):\n",
        "    if (i != j) and (corr[i,j] == 1.):\n",
        "      print (f' row={i} column={j} corrcoef={corr[i,j]}')"
      ],
      "execution_count": 12,
      "outputs": [
        {
          "output_type": "stream",
          "text": [
            " row=1 column=22 corrcoef=1.0\n",
            " row=21 column=23 corrcoef=1.0\n",
            " row=22 column=1 corrcoef=1.0\n",
            " row=23 column=21 corrcoef=1.0\n"
          ],
          "name": "stdout"
        }
      ]
    },
    {
      "cell_type": "markdown",
      "metadata": {
        "id": "OCXl0T-BStrR"
      },
      "source": [
        "จากการวนลูป จะเห็นได้ว่ามี correlation ที่ซ้ำกันอยู่ 2 ค่า ดังนั้นจึงต้องทำการนำข้อมูลที่ซ้ำกันออกก่อน จึงจะนำข้อมูลไปใช้ได้"
      ]
    },
    {
      "cell_type": "code",
      "metadata": {
        "id": "0FMtKqOcRlTH",
        "colab": {
          "base_uri": "https://localhost:8080/",
          "height": 215
        },
        "outputId": "d4bd81c2-59a3-4087-940b-7e8e8d15d5b5"
      },
      "source": [
        "Data.iloc[:5,1:21]"
      ],
      "execution_count": 13,
      "outputs": [
        {
          "output_type": "execute_result",
          "data": {
            "text/html": [
              "<div>\n",
              "<style scoped>\n",
              "    .dataframe tbody tr th:only-of-type {\n",
              "        vertical-align: middle;\n",
              "    }\n",
              "\n",
              "    .dataframe tbody tr th {\n",
              "        vertical-align: top;\n",
              "    }\n",
              "\n",
              "    .dataframe thead th {\n",
              "        text-align: right;\n",
              "    }\n",
              "</style>\n",
              "<table border=\"1\" class=\"dataframe\">\n",
              "  <thead>\n",
              "    <tr style=\"text-align: right;\">\n",
              "      <th></th>\n",
              "      <th>1</th>\n",
              "      <th>2</th>\n",
              "      <th>3</th>\n",
              "      <th>4</th>\n",
              "      <th>5</th>\n",
              "      <th>6</th>\n",
              "      <th>7</th>\n",
              "      <th>8</th>\n",
              "      <th>9</th>\n",
              "      <th>10</th>\n",
              "      <th>11</th>\n",
              "      <th>12</th>\n",
              "      <th>13</th>\n",
              "      <th>14</th>\n",
              "      <th>15</th>\n",
              "      <th>16</th>\n",
              "      <th>17</th>\n",
              "      <th>18</th>\n",
              "      <th>19</th>\n",
              "      <th>20</th>\n",
              "    </tr>\n",
              "  </thead>\n",
              "  <tbody>\n",
              "    <tr>\n",
              "      <th>0</th>\n",
              "      <td>-3.687852</td>\n",
              "      <td>5.854784</td>\n",
              "      <td>-3.415873</td>\n",
              "      <td>-5.610665</td>\n",
              "      <td>-2.582173</td>\n",
              "      <td>3.694650</td>\n",
              "      <td>-5.062654</td>\n",
              "      <td>-4.586200</td>\n",
              "      <td>6.457132</td>\n",
              "      <td>2.304650</td>\n",
              "      <td>4.329046</td>\n",
              "      <td>7.206710</td>\n",
              "      <td>-5.144610</td>\n",
              "      <td>-1.245484</td>\n",
              "      <td>-7.250447</td>\n",
              "      <td>9.249019</td>\n",
              "      <td>4.797001</td>\n",
              "      <td>5.020432</td>\n",
              "      <td>-3.889117</td>\n",
              "      <td>8.994408</td>\n",
              "    </tr>\n",
              "    <tr>\n",
              "      <th>1</th>\n",
              "      <td>-6.324905</td>\n",
              "      <td>-5.740092</td>\n",
              "      <td>5.299575</td>\n",
              "      <td>-2.842515</td>\n",
              "      <td>2.372734</td>\n",
              "      <td>7.933971</td>\n",
              "      <td>-9.659946</td>\n",
              "      <td>6.361068</td>\n",
              "      <td>-10.214856</td>\n",
              "      <td>0.338380</td>\n",
              "      <td>-1.412124</td>\n",
              "      <td>3.624184</td>\n",
              "      <td>4.602672</td>\n",
              "      <td>-8.628475</td>\n",
              "      <td>-7.482172</td>\n",
              "      <td>-0.471848</td>\n",
              "      <td>5.111467</td>\n",
              "      <td>-7.731085</td>\n",
              "      <td>2.441740</td>\n",
              "      <td>-7.366802</td>\n",
              "    </tr>\n",
              "    <tr>\n",
              "      <th>2</th>\n",
              "      <td>8.473604</td>\n",
              "      <td>3.038962</td>\n",
              "      <td>-6.893468</td>\n",
              "      <td>-7.191756</td>\n",
              "      <td>-2.181812</td>\n",
              "      <td>-8.602517</td>\n",
              "      <td>1.635662</td>\n",
              "      <td>-4.501795</td>\n",
              "      <td>-8.114539</td>\n",
              "      <td>-6.316734</td>\n",
              "      <td>-4.982942</td>\n",
              "      <td>1.302537</td>\n",
              "      <td>-2.022844</td>\n",
              "      <td>0.086704</td>\n",
              "      <td>-2.306383</td>\n",
              "      <td>-8.802485</td>\n",
              "      <td>-6.781084</td>\n",
              "      <td>-3.476832</td>\n",
              "      <td>-4.668904</td>\n",
              "      <td>-9.690799</td>\n",
              "    </tr>\n",
              "    <tr>\n",
              "      <th>3</th>\n",
              "      <td>7.534503</td>\n",
              "      <td>7.437431</td>\n",
              "      <td>4.414411</td>\n",
              "      <td>-0.059253</td>\n",
              "      <td>-7.445860</td>\n",
              "      <td>-4.424710</td>\n",
              "      <td>-3.564299</td>\n",
              "      <td>-3.465228</td>\n",
              "      <td>-0.862653</td>\n",
              "      <td>2.011504</td>\n",
              "      <td>-4.724475</td>\n",
              "      <td>6.885026</td>\n",
              "      <td>4.804179</td>\n",
              "      <td>7.909228</td>\n",
              "      <td>-4.198045</td>\n",
              "      <td>4.079989</td>\n",
              "      <td>2.923757</td>\n",
              "      <td>-2.001206</td>\n",
              "      <td>-2.269056</td>\n",
              "      <td>6.894771</td>\n",
              "    </tr>\n",
              "    <tr>\n",
              "      <th>4</th>\n",
              "      <td>-5.373877</td>\n",
              "      <td>-6.309848</td>\n",
              "      <td>5.999780</td>\n",
              "      <td>-2.165905</td>\n",
              "      <td>3.767224</td>\n",
              "      <td>8.701775</td>\n",
              "      <td>-8.471486</td>\n",
              "      <td>5.789175</td>\n",
              "      <td>-9.041266</td>\n",
              "      <td>0.967662</td>\n",
              "      <td>-0.752092</td>\n",
              "      <td>4.443130</td>\n",
              "      <td>3.572116</td>\n",
              "      <td>-9.602990</td>\n",
              "      <td>-7.327553</td>\n",
              "      <td>2.603626</td>\n",
              "      <td>3.287083</td>\n",
              "      <td>-6.879058</td>\n",
              "      <td>1.562324</td>\n",
              "      <td>-6.132335</td>\n",
              "    </tr>\n",
              "  </tbody>\n",
              "</table>\n",
              "</div>"
            ],
            "text/plain": [
              "         1         2         3   ...        18        19        20\n",
              "0 -3.687852  5.854784 -3.415873  ...  5.020432 -3.889117  8.994408\n",
              "1 -6.324905 -5.740092  5.299575  ... -7.731085  2.441740 -7.366802\n",
              "2  8.473604  3.038962 -6.893468  ... -3.476832 -4.668904 -9.690799\n",
              "3  7.534503  7.437431  4.414411  ... -2.001206 -2.269056  6.894771\n",
              "4 -5.373877 -6.309848  5.999780  ... -6.879058  1.562324 -6.132335\n",
              "\n",
              "[5 rows x 20 columns]"
            ]
          },
          "metadata": {
            "tags": []
          },
          "execution_count": 13
        }
      ]
    },
    {
      "cell_type": "markdown",
      "metadata": {
        "id": "YunnVI0yaUwo"
      },
      "source": [
        "ลบ column ที่ซ้ำกันออก"
      ]
    },
    {
      "cell_type": "code",
      "metadata": {
        "id": "IvjaslJSbnJe"
      },
      "source": [
        "from matplotlib import pyplot as plt"
      ],
      "execution_count": 14,
      "outputs": []
    },
    {
      "cell_type": "code",
      "metadata": {
        "id": "JaZcEd2AcdUG",
        "colab": {
          "base_uri": "https://localhost:8080/",
          "height": 283
        },
        "outputId": "6bd7a1be-41c1-42c9-eda1-3fa6a85ff654"
      },
      "source": [
        "plt.plot(Data.iloc[:,1],Data.iloc[:,22],'r.')"
      ],
      "execution_count": 15,
      "outputs": [
        {
          "output_type": "execute_result",
          "data": {
            "text/plain": [
              "[<matplotlib.lines.Line2D at 0x7f64784637d0>]"
            ]
          },
          "metadata": {
            "tags": []
          },
          "execution_count": 15
        },
        {
          "output_type": "display_data",
          "data": {
            "image/png": "[encoded data removed]",
            "text/plain": [
              "<Figure size 432x288 with 1 Axes>"
            ]
          },
          "metadata": {
            "tags": [],
            "needs_background": "light"
          }
        }
      ]
    },
    {
      "cell_type": "code",
      "metadata": {
        "id": "8e0IecJacuI7",
        "colab": {
          "base_uri": "https://localhost:8080/",
          "height": 282
        },
        "outputId": "749ecb93-41fd-4fb7-c64e-2b4acecfb399"
      },
      "source": [
        "plt.plot(Data.iloc[:,21],Data.iloc[:,23],'r.')"
      ],
      "execution_count": 16,
      "outputs": [
        {
          "output_type": "execute_result",
          "data": {
            "text/plain": [
              "[<matplotlib.lines.Line2D at 0x7f646faf72d0>]"
            ]
          },
          "metadata": {
            "tags": []
          },
          "execution_count": 16
        },
        {
          "output_type": "display_data",
          "data": {
            "image/png": "[encoded data removed]",
            "text/plain": [
              "<Figure size 432x288 with 1 Axes>"
            ]
          },
          "metadata": {
            "tags": [],
            "needs_background": "light"
          }
        }
      ]
    },
    {
      "cell_type": "code",
      "metadata": {
        "id": "Xwhwqi_Mc6F7",
        "colab": {
          "base_uri": "https://localhost:8080/",
          "height": 282
        },
        "outputId": "33377980-4466-4bd4-a701-58b770199953"
      },
      "source": [
        "plt.plot(Data.iloc[:,1],Data.iloc[:,18],'r.')"
      ],
      "execution_count": 17,
      "outputs": [
        {
          "output_type": "execute_result",
          "data": {
            "text/plain": [
              "[<matplotlib.lines.Line2D at 0x7f646fb52b90>]"
            ]
          },
          "metadata": {
            "tags": []
          },
          "execution_count": 17
        },
        {
          "output_type": "display_data",
          "data": {
            "image/png": "[encoded data removed]",
            "text/plain": [
              "<Figure size 432x288 with 1 Axes>"
            ]
          },
          "metadata": {
            "tags": [],
            "needs_background": "light"
          }
        }
      ]
    },
    {
      "cell_type": "markdown",
      "metadata": {
        "id": "2IFxDxgLBZ5h"
      },
      "source": [
        "**ทำ clustering แล้วทำ visualize ข้อมูลแบบ 2 มิติ**"
      ]
    },
    {
      "cell_type": "markdown",
      "metadata": {
        "id": "1yUhwDZNDcf1"
      },
      "source": [
        "**Clustering**"
      ]
    },
    {
      "cell_type": "markdown",
      "metadata": {
        "id": "vcU2_F_GFwvV"
      },
      "source": [
        "**K-mean**"
      ]
    },
    {
      "cell_type": "markdown",
      "metadata": {
        "id": "lATgUYHTF0UF"
      },
      "source": [
        "***import***"
      ]
    },
    {
      "cell_type": "code",
      "metadata": {
        "id": "jUARadkFEuyJ"
      },
      "source": [
        "from sklearn.cluster import KMeans"
      ],
      "execution_count": 18,
      "outputs": []
    },
    {
      "cell_type": "markdown",
      "metadata": {
        "id": "djLS7eazF9qm"
      },
      "source": [
        "***define***"
      ]
    },
    {
      "cell_type": "code",
      "metadata": {
        "id": "OIgGNz7HF9bY"
      },
      "source": [
        "kmeans=KMeans(n_clusters=3,random_state=2021)"
      ],
      "execution_count": 19,
      "outputs": []
    },
    {
      "cell_type": "markdown",
      "metadata": {
        "id": "7tDI8b2QGTAd"
      },
      "source": [
        "***fit-transform***"
      ]
    },
    {
      "cell_type": "markdown",
      "metadata": {
        "id": "u4HZIV2KGZJj"
      },
      "source": [
        "คำนวณหาจุด cluster center ของข้อมูล data ด้วยวิธี K-Means Clustering"
      ]
    },
    {
      "cell_type": "code",
      "metadata": {
        "id": "97TljoekGR8h",
        "colab": {
          "base_uri": "https://localhost:8080/"
        },
        "outputId": "bdec45b1-5d5b-43da-f07e-b3a49389e538"
      },
      "source": [
        "kmeans.fit(Data)"
      ],
      "execution_count": 20,
      "outputs": [
        {
          "output_type": "execute_result",
          "data": {
            "text/plain": [
              "KMeans(algorithm='auto', copy_x=True, init='k-means++', max_iter=300,\n",
              "       n_clusters=3, n_init=10, n_jobs=None, precompute_distances='auto',\n",
              "       random_state=2021, tol=0.0001, verbose=0)"
            ]
          },
          "metadata": {
            "tags": []
          },
          "execution_count": 20
        }
      ]
    },
    {
      "cell_type": "markdown",
      "metadata": {
        "id": "-gCwLQDRH4CC"
      },
      "source": [
        "แสดง จุด cluster centers ที่คำนวณออกมาได้"
      ]
    },
    {
      "cell_type": "code",
      "metadata": {
        "id": "mPUcTTG0Hu3K",
        "colab": {
          "base_uri": "https://localhost:8080/"
        },
        "outputId": "cefcf7ac-3fba-41ba-9ccf-1b1fee161059"
      },
      "source": [
        "kmeans.cluster_centers_"
      ],
      "execution_count": 21,
      "outputs": [
        {
          "output_type": "execute_result",
          "data": {
            "text/plain": [
              "array([[  4.92887089,   1.09010258,   5.08006368,  -1.55116268,\n",
              "          1.29812358,   1.09438582,  -2.89774424,  -0.43101719,\n",
              "         -1.65886567,   3.76762652,  -0.62245426,   0.95405381,\n",
              "          1.45852145,   0.51397039,   2.78079752,  -6.83176488,\n",
              "          7.13784822,   5.98129275,   3.85679315,  -5.68437279,\n",
              "          3.11257487,  -6.67126579,   2.18020515, -31.35632896],\n",
              "       [  1.77826918,  -1.93689923,   1.18278694,   0.75459641,\n",
              "         -3.51378993,  -1.15094849,   4.53556567,  -3.65577794,\n",
              "         -2.91347647,  -4.21253118,  -1.23707381,   0.5204196 ,\n",
              "          0.51974662,  -3.20495773,  -0.48520761,  -1.93568619,\n",
              "          4.44815547,   1.92379895,   1.73610812,  -1.28144432,\n",
              "         -0.15122804,   1.11902076,  -3.87379847,   7.5951038 ],\n",
              "       [  0.62510569,   8.14442613,   2.31822096,   1.19925245,\n",
              "          0.8895622 ,  -1.77311166,  -5.1950023 ,   1.77496889,\n",
              "         -3.46651138,   0.1359663 ,  -4.2693267 ,  -0.1792533 ,\n",
              "          4.81999339,  -2.75716895,   3.56499665,  -4.5031669 ,\n",
              "         -1.89144857,  -1.62445119,  -5.01148967,  -0.41622129,\n",
              "          2.21976519,   3.08689996,  16.28885225,  17.43449978]])"
            ]
          },
          "metadata": {
            "tags": []
          },
          "execution_count": 21
        }
      ]
    },
    {
      "cell_type": "markdown",
      "metadata": {
        "id": "KYnGqvUTILHT"
      },
      "source": [
        "ทำสอบการจัดกลุ่มของ Data"
      ]
    },
    {
      "cell_type": "code",
      "metadata": {
        "id": "RMyNfOYxIUk0",
        "colab": {
          "base_uri": "https://localhost:8080/"
        },
        "outputId": "c22d021e-2089-4d03-bd91-7fb4c0600fc6"
      },
      "source": [
        "y=kmeans.predict(Data)\n",
        "y"
      ],
      "execution_count": 22,
      "outputs": [
        {
          "output_type": "execute_result",
          "data": {
            "text/plain": [
              "array([0, 1, 2, ..., 1, 2, 2], dtype=int32)"
            ]
          },
          "metadata": {
            "tags": []
          },
          "execution_count": 22
        }
      ]
    },
    {
      "cell_type": "markdown",
      "metadata": {
        "id": "C_5_z2dSLjVX"
      },
      "source": [
        "ทำ PCA ข้อมูล Data "
      ]
    },
    {
      "cell_type": "code",
      "metadata": {
        "id": "nNKAvQ5yLiXN"
      },
      "source": [
        "from sklearn.decomposition import PCA"
      ],
      "execution_count": 37,
      "outputs": []
    },
    {
      "cell_type": "code",
      "metadata": {
        "id": "j-QqbM8BO0Ns"
      },
      "source": [
        "pca=PCA(n_components=2)"
      ],
      "execution_count": 39,
      "outputs": []
    },
    {
      "cell_type": "code",
      "metadata": {
        "id": "KykaftKeOz_V"
      },
      "source": [
        "new_pca=pca.fit_transform(Data)"
      ],
      "execution_count": 40,
      "outputs": []
    },
    {
      "cell_type": "code",
      "metadata": {
        "id": "vcyF-ogzL9tt"
      },
      "source": [
        "from matplotlib import pyplot as plt"
      ],
      "execution_count": 41,
      "outputs": []
    },
    {
      "cell_type": "code",
      "metadata": {
        "id": "8BEdYX-jMJlI",
        "colab": {
          "base_uri": "https://localhost:8080/",
          "height": 282
        },
        "outputId": "2b5157a6-7e06-4a61-8d53-14b9d01d4c40"
      },
      "source": [
        "plt.plot(new_pca[:50,0],new_pca[:50,1],'or',alpha=1)\n",
        "plt.plot(new_pca[50:100,0],new_pca[50:100,1],'og',alpha=1)\n",
        "plt.plot(new_pca[100:,0],new_pca[100:,1],'oy',alpha=0.02)"
      ],
      "execution_count": 25,
      "outputs": [
        {
          "output_type": "execute_result",
          "data": {
            "text/plain": [
              "[<matplotlib.lines.Line2D at 0x7f646992d150>]"
            ]
          },
          "metadata": {
            "tags": []
          },
          "execution_count": 25
        },
        {
          "output_type": "display_data",
          "data": {
            "image/png": "[encoded data removed]",
            "text/plain": [
              "<Figure size 432x288 with 1 Axes>"
            ]
          },
          "metadata": {
            "tags": [],
            "needs_background": "light"
          }
        }
      ]
    },
    {
      "cell_type": "code",
      "metadata": {
        "id": "nu9jOlfONmRG",
        "colab": {
          "base_uri": "https://localhost:8080/",
          "height": 282
        },
        "outputId": "88a5e6b4-f9d1-46d7-eb76-f6dcc69337be"
      },
      "source": [
        "kmeans=KMeans(n_clusters=3,random_state=2021)\n",
        "kmeans.fit(Data)\n",
        "y=kmeans.predict(Data)\n",
        "plt.scatter(new_pca[:,0],new_pca[:,1],c=y)"
      ],
      "execution_count": 45,
      "outputs": [
        {
          "output_type": "execute_result",
          "data": {
            "text/plain": [
              "<matplotlib.collections.PathCollection at 0x7f647a2f3310>"
            ]
          },
          "metadata": {
            "tags": []
          },
          "execution_count": 45
        },
        {
          "output_type": "display_data",
          "data": {
            "image/png": "[encoded data removed]",
            "text/plain": [
              "<Figure size 432x288 with 1 Axes>"
            ]
          },
          "metadata": {
            "tags": [],
            "needs_background": "light"
          }
        }
      ]
    },
    {
      "cell_type": "markdown",
      "metadata": {
        "id": "e4BqlXlrPbee"
      },
      "source": [
        "**Elbow Method**"
      ]
    },
    {
      "cell_type": "markdown",
      "metadata": {
        "id": "OiYo6nX6fFKq"
      },
      "source": [
        "**SSE**"
      ]
    },
    {
      "cell_type": "code",
      "metadata": {
        "id": "H9Ij9BMNfHIo",
        "outputId": "ec1081db-10e3-4fb9-e426-39d0dc4c4de3",
        "colab": {
          "base_uri": "https://localhost:8080/"
        }
      },
      "source": [
        "kmeans.inertia_ ###SSE คือ Sum of Squared Error"
      ],
      "execution_count": 49,
      "outputs": [
        {
          "output_type": "execute_result",
          "data": {
            "text/plain": [
              "7022214.192783495"
            ]
          },
          "metadata": {
            "tags": []
          },
          "execution_count": 49
        }
      ]
    },
    {
      "cell_type": "code",
      "metadata": {
        "id": "f9GGHR0zfU9I"
      },
      "source": [
        "SSE=list()\n",
        "for k in [1,2,3,4,5,6,7,8]:\n",
        "  kmeans=KMeans(n_clusters=k,random_state=2021)\n",
        "  kmeans.fit(Data)\n",
        "  SSE.append(kmeans.inertia_)"
      ],
      "execution_count": 50,
      "outputs": []
    },
    {
      "cell_type": "code",
      "metadata": {
        "id": "INPUGq7uf4SF",
        "outputId": "bb1536c6-bb5e-4cd3-9e82-8058dc9f1261",
        "colab": {
          "base_uri": "https://localhost:8080/"
        }
      },
      "source": [
        "SSE"
      ],
      "execution_count": 51,
      "outputs": [
        {
          "output_type": "execute_result",
          "data": {
            "text/plain": [
              "[11957322.79958456,\n",
              " 8702496.394593643,\n",
              " 7022214.192783495,\n",
              " 5664542.793044245,\n",
              " 4323475.685648333,\n",
              " 3392931.4484599875,\n",
              " 2684949.6732077827,\n",
              " 2063455.4084842256]"
            ]
          },
          "metadata": {
            "tags": []
          },
          "execution_count": 51
        }
      ]
    },
    {
      "cell_type": "code",
      "metadata": {
        "id": "Zfm11mgSf6Lo",
        "outputId": "f59ff24f-58c1-4fdf-9f25-8a7555d66dfc",
        "colab": {
          "base_uri": "https://localhost:8080/",
          "height": 290
        }
      },
      "source": [
        "plt.plot([1,2,3,4,5,6,7,8],SSE,'o-b')\n",
        "plt.xlabel('k')\n",
        "plt.ylabel('SSE');"
      ],
      "execution_count": 52,
      "outputs": [
        {
          "output_type": "display_data",
          "data": {
            "image/png": "[encoded data removed]",
            "text/plain": [
              "<Figure size 432x288 with 1 Axes>"
            ]
          },
          "metadata": {
            "tags": [],
            "needs_background": "light"
          }
        }
      ]
    },
    {
      "cell_type": "markdown",
      "metadata": {
        "id": "s1Xm8MHAh52F"
      },
      "source": [
        "**Silhouette coeffient**"
      ]
    },
    {
      "cell_type": "code",
      "metadata": {
        "id": "6I42VSzXjV87"
      },
      "source": [
        "from sklearn import metrics"
      ],
      "execution_count": 53,
      "outputs": []
    },
    {
      "cell_type": "code",
      "metadata": {
        "id": "jR002qHbj8Mn"
      },
      "source": [
        "SilH=list()\n",
        "for k in [2,3,4,5,6,7,8]:\n",
        "  kmeans=KMeans(n_clusters=k,random_state=2021)\n",
        "  kmeans.fit(Data)\n",
        "  score=metrics.silhouette_score(Data,kmeans.labels_)\n",
        "  SilH.append(score)"
      ],
      "execution_count": 54,
      "outputs": []
    },
    {
      "cell_type": "code",
      "metadata": {
        "id": "poVa_BvZkf8O",
        "outputId": "b4ad0de8-e836-4417-fcfb-e4b00cd6fc12",
        "colab": {
          "base_uri": "https://localhost:8080/",
          "height": 279
        }
      },
      "source": [
        "plt.plot([2,3,4,5,6,7,8],SilH,'o-g')\n",
        "plt.xlabel('k')\n",
        "plt.ylabel('Silhouette Score');"
      ],
      "execution_count": 55,
      "outputs": [
        {
          "output_type": "display_data",
          "data": {
            "image/png": "[encoded data removed]",
            "text/plain": [
              "<Figure size 432x288 with 1 Axes>"
            ]
          },
          "metadata": {
            "tags": [],
            "needs_background": "light"
          }
        }
      ]
    }
  ]
}