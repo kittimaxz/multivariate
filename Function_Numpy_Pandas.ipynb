{
  "nbformat": 4,
  "nbformat_minor": 0,
  "metadata": {
    "colab": {
      "name": "Function_Numpy_Pandas.ipynb",
      "provenance": [],
      "authorship_tag": "ABX9TyPvYKVUlXiURfEUzfe7U41Y",
      "include_colab_link": true
    },
    "kernelspec": {
      "name": "python3",
      "display_name": "Python 3"
    }
  },
  "cells": [
    {
      "cell_type": "markdown",
      "metadata": {
        "id": "view-in-github",
        "colab_type": "text"
      },
      "source": [
        "<a href=\"https://colab.research.google.com/github/kittimaxz/multivariate/blob/main/Function_Numpy_Pandas.ipynb\" target=\"_parent\"><img src=\"https://colab.research.google.com/assets/colab-badge.svg\" alt=\"Open In Colab\"/></a>"
      ]
    },
    {
      "cell_type": "markdown",
      "metadata": {
        "id": "uU-h40EsSNuO"
      },
      "source": [
        "**Function**"
      ]
    },
    {
      "cell_type": "markdown",
      "metadata": {
        "id": "iqNbyYZrS5kk"
      },
      "source": [
        "``` python\r\n",
        "     def  function_name(_Input_) :\r\n",
        "\r\n",
        "       do_something with _Input_  to produce  _Output_\r\n",
        "\r\n",
        "       return  _Output_\r\n",
        "```"
      ]
    },
    {
      "cell_type": "markdown",
      "metadata": {
        "id": "8dnuVo5SkCpp"
      },
      "source": [
        "```blacklick กด ~ ค้าง,alt -9>6 (full keybord with number) #อีกวิธีคือกดปุ่ม window,Alt พร้อมกันแล้วกดเลข 9,6 "
      ]
    },
    {
      "cell_type": "markdown",
      "metadata": {
        "id": "0AKPhfWTT96W"
      },
      "source": [
        "function มีส่วนประกอบสำคัญทั้งหมด 4 ส่วน\r\n",
        "\r\n",
        "\r\n",
        "1. บอก python ว่าเราจะเขียนฟังก์ชั่น ชื่ออะไร def function_name(): (ขาดไม่ได้)\r\n",
        "2. กำหนดตัวแปรที่จะเป็น input Input (ขาดได้)\r\n",
        "3. ส่วนประมวลผล do_something with Input to get (ขาดไม่ได้)\r\n",
        "4. ส่วน output return Output (ขาดได้)\r\n",
        "\r\n",
        "เราใช้เว้นวรรค(indent) เพื่อบอกขอบเขตของ code"
      ]
    },
    {
      "cell_type": "markdown",
      "metadata": {
        "id": "iUBkQoysWMzQ"
      },
      "source": [
        "#### สร้างฟังก์ชั่น"
      ]
    },
    {
      "cell_type": "code",
      "metadata": {
        "colab": {
          "base_uri": "https://localhost:8080/"
        },
        "id": "HIXSeDSaU6EJ",
        "outputId": "7e868372-0b32-4252-b4db-16ddaad05a51"
      },
      "source": [
        "def print_name(name,surname,ID) :\r\n",
        "    st=f'=ชื่อ {name} นามสกุล {surname} ID {ID}' # code ในฟังก์ชั่นต้องเว้นวรรค\r\n",
        "    return st\r\n",
        "print('outside function')"
      ],
      "execution_count": 1,
      "outputs": [
        {
          "output_type": "stream",
          "text": [
            "outside function\n"
          ],
          "name": "stdout"
        }
      ]
    },
    {
      "cell_type": "markdown",
      "metadata": {
        "id": "Nl-NZNMsWu-L"
      },
      "source": [
        "การเรียกใช้ฟังก์ชั่น"
      ]
    },
    {
      "cell_type": "code",
      "metadata": {
        "colab": {
          "base_uri": "https://localhost:8080/",
          "height": 35
        },
        "id": "NTxPEc-pSBeC",
        "outputId": "7c0eb06c-09fa-48c6-b078-8c89738e0893"
      },
      "source": [
        "print_name('กิตติมา','อุปสุข','623021040-9')"
      ],
      "execution_count": 2,
      "outputs": [
        {
          "output_type": "execute_result",
          "data": {
            "application/vnd.google.colaboratory.intrinsic+json": {
              "type": "string"
            },
            "text/plain": [
              "'=ชื่อ กิตติมา นามสกุล อุปสุข ID 623021040-9'"
            ]
          },
          "metadata": {
            "tags": []
          },
          "execution_count": 2
        }
      ]
    },
    {
      "cell_type": "code",
      "metadata": {
        "colab": {
          "base_uri": "https://localhost:8080/"
        },
        "id": "TJqh9uAsXFEi",
        "outputId": "aca4a197-b1b6-48ba-dca6-9557522ea92a"
      },
      "source": [
        "output_string = print_name('กิตติมา','อุปสุข','623021040-9')\r\n",
        "print(output_string)"
      ],
      "execution_count": 3,
      "outputs": [
        {
          "output_type": "stream",
          "text": [
            "=ชื่อ กิตติมา นามสกุล อุปสุข ID 623021040-9\n"
          ],
          "name": "stdout"
        }
      ]
    },
    {
      "cell_type": "markdown",
      "metadata": {
        "id": "HYb5WHvYXef3"
      },
      "source": [
        "ฟังก์ชั่นไม่จำเป็นต้องมี output"
      ]
    },
    {
      "cell_type": "code",
      "metadata": {
        "id": "300uKuqZXkSE"
      },
      "source": [
        "def print_name2(surname,ID,name) :\r\n",
        "    st=f' ชื่อ {name} นามสกุล {surname} รหัส {ID}'\r\n",
        "    print(st)"
      ],
      "execution_count": null,
      "outputs": []
    },
    {
      "cell_type": "code",
      "metadata": {
        "colab": {
          "base_uri": "https://localhost:8080/",
          "height": 163
        },
        "id": "syiHsc_8YBBh",
        "outputId": "bb211037-7d59-4863-b54a-013f1cf55522"
      },
      "source": [
        "print_name2('กิตติมา','อุปสุข','623021040-9')"
      ],
      "execution_count": 4,
      "outputs": [
        {
          "output_type": "error",
          "ename": "NameError",
          "evalue": "ignored",
          "traceback": [
            "\u001b[0;31m---------------------------------------------------------------------------\u001b[0m",
            "\u001b[0;31mNameError\u001b[0m                                 Traceback (most recent call last)",
            "\u001b[0;32m<ipython-input-4-b541a6abafef>\u001b[0m in \u001b[0;36m<module>\u001b[0;34m()\u001b[0m\n\u001b[0;32m----> 1\u001b[0;31m \u001b[0mprint_name2\u001b[0m\u001b[0;34m(\u001b[0m\u001b[0;34m'กิตติมา'\u001b[0m\u001b[0;34m,\u001b[0m\u001b[0;34m'อุปสุข'\u001b[0m\u001b[0;34m,\u001b[0m\u001b[0;34m'623021040-9'\u001b[0m\u001b[0;34m)\u001b[0m\u001b[0;34m\u001b[0m\u001b[0;34m\u001b[0m\u001b[0m\n\u001b[0m",
            "\u001b[0;31mNameError\u001b[0m: name 'print_name2' is not defined"
          ]
        }
      ]
    },
    {
      "cell_type": "code",
      "metadata": {
        "id": "ovMH5jwjYLSm"
      },
      "source": [
        "op2=print_name2('กิตติมา','อุปสุข','623021040-9')"
      ],
      "execution_count": null,
      "outputs": []
    },
    {
      "cell_type": "code",
      "metadata": {
        "id": "1fvJCQdiYYsS"
      },
      "source": [
        "print(op2)"
      ],
      "execution_count": null,
      "outputs": []
    },
    {
      "cell_type": "markdown",
      "metadata": {
        "id": "vRib1s-IY_MG"
      },
      "source": [
        "ฟังก์ชั่นไม่จำเป็นต้องมี input"
      ]
    },
    {
      "cell_type": "code",
      "metadata": {
        "id": "UepWeZlhhhNJ"
      },
      "source": [
        "def Pi() :\r\n",
        "  return 3.14159265359"
      ],
      "execution_count": null,
      "outputs": []
    },
    {
      "cell_type": "code",
      "metadata": {
        "id": "tKDsIy12hg8d"
      },
      "source": [
        "#คำนวณพื้นที่วงกลมมที่มีขนาดเส้นผ่านศูนย์กลางเท่ากับ 3\r\n",
        "Pi()*(1.5**2)"
      ],
      "execution_count": null,
      "outputs": []
    },
    {
      "cell_type": "code",
      "metadata": {
        "id": "8b39z4TkZvBA"
      },
      "source": [
        "def print_my_name() :\r\n",
        "    print('กิตติมา อุปสุข 623021040-9')"
      ],
      "execution_count": null,
      "outputs": []
    },
    {
      "cell_type": "code",
      "metadata": {
        "id": "xLVtDdVNZ9PR"
      },
      "source": [
        "print_my_name()"
      ],
      "execution_count": null,
      "outputs": []
    },
    {
      "cell_type": "markdown",
      "metadata": {
        "id": "s2Rb7EA-aPeb"
      },
      "source": [
        "input ของ function ใน python มีสองแบบ input ที่จำเป็นต้องใส่ (มีค่า default) เราต้องเรียง input ที่จำเป็นต้องใส่ขึ้นก่อน "
      ]
    },
    {
      "cell_type": "markdown",
      "metadata": {
        "id": "_fOx2apFbktM"
      },
      "source": [
        "เราต้องเรียง input  ที่จำเป็นต้องใส่ขึ้นก่อน"
      ]
    },
    {
      "cell_type": "code",
      "metadata": {
        "id": "mmrOn-hQawCy"
      },
      "source": [
        "def print_2lines_default(name,surname,ID,grade='F') :\r\n",
        "    st=f'ชื่อ {name} นามสกุล {surname} รหัส {ID}'\r\n",
        "    print(st)\r\n",
        "    st2=f'เกรดวิชา Multivariate >>> {grade}'\r\n",
        "    print(st2)"
      ],
      "execution_count": null,
      "outputs": []
    },
    {
      "cell_type": "code",
      "metadata": {
        "id": "oCF8mPULbpcR"
      },
      "source": [
        "print_2lines_default('กิตติมา','อุปสุข','623021040-9')"
      ],
      "execution_count": null,
      "outputs": []
    },
    {
      "cell_type": "code",
      "metadata": {
        "id": "gupQ5eXyi3iH"
      },
      "source": [
        "print_2lines_default('กิตติมา','อุปสุข','623021040-9','A')"
      ],
      "execution_count": null,
      "outputs": []
    },
    {
      "cell_type": "markdown",
      "metadata": {
        "id": "wdEZvu6XccHK"
      },
      "source": [
        "เราสามารถเรียกฟังก์ชั่นโดยใช้ชื่อตัวแปรของฟังก์ชั่นช่วยได้"
      ]
    },
    {
      "cell_type": "code",
      "metadata": {
        "id": "FKHwM6L5bp_A"
      },
      "source": [
        "print_name2(name='กิตติมา', surname='อุปสุข', ID='623021040-9')"
      ],
      "execution_count": null,
      "outputs": []
    },
    {
      "cell_type": "markdown",
      "metadata": {
        "id": "IaG0ybqJc1Wx"
      },
      "source": [
        "HW3 ให้เขียน function คำนวณจำนวนวินาทีจากเวลาต่อไปนี้\r\n",
        "\r\n",
        "'14-15-31'\r\n",
        "\r\n",
        "'13-00-01'\r\n",
        "\r\n",
        "'05-49-44'\r\n",
        "\r\n",
        "'00-00-16'\r\n",
        "\r\n",
        "และ print ให้สวยงาม"
      ]
    },
    {
      "cell_type": "code",
      "metadata": {
        "id": "Px9e1lESTZG0"
      },
      "source": [
        "def time(t):\r\n",
        " time_sp=t.split('-')\r\n",
        " h1=int (time_sp[0])*3600\r\n",
        " m1=int (time_sp[1])*60\r\n",
        " s1 =int (time_sp[2])\r\n",
        " ans = h1+m1+s1\r\n",
        " print(f'เวลา {t} สามารถแปลงเป็นวินาทีได้เป็น {ans} วินาที')"
      ],
      "execution_count": 5,
      "outputs": []
    },
    {
      "cell_type": "code",
      "metadata": {
        "id": "qbmzy8huUelT",
        "colab": {
          "base_uri": "https://localhost:8080/"
        },
        "outputId": "c88c00f2-1c0a-4207-88c7-e680edd90378"
      },
      "source": [
        "time('14-15-31')"
      ],
      "execution_count": 6,
      "outputs": [
        {
          "output_type": "stream",
          "text": [
            "เวลา 14-15-31 สามารถแปลงเป็นวินาทีได้เป็น 51331 วินาที\n"
          ],
          "name": "stdout"
        }
      ]
    },
    {
      "cell_type": "code",
      "metadata": {
        "id": "mJAC2joCZKeO",
        "colab": {
          "base_uri": "https://localhost:8080/"
        },
        "outputId": "3ac6afde-8897-4517-b055-95571b19b171"
      },
      "source": [
        "time('13-00-01')"
      ],
      "execution_count": 7,
      "outputs": [
        {
          "output_type": "stream",
          "text": [
            "เวลา 13-00-01 สามารถแปลงเป็นวินาทีได้เป็น 46801 วินาที\n"
          ],
          "name": "stdout"
        }
      ]
    },
    {
      "cell_type": "code",
      "metadata": {
        "id": "XC061YmlZOgG",
        "colab": {
          "base_uri": "https://localhost:8080/"
        },
        "outputId": "87095591-dea2-48d3-b3a2-a6c9e6a0dbef"
      },
      "source": [
        "time('05-49-44')"
      ],
      "execution_count": 8,
      "outputs": [
        {
          "output_type": "stream",
          "text": [
            "เวลา 05-49-44 สามารถแปลงเป็นวินาทีได้เป็น 20984 วินาที\n"
          ],
          "name": "stdout"
        }
      ]
    },
    {
      "cell_type": "code",
      "metadata": {
        "id": "Fpc1zZhsZTrl",
        "colab": {
          "base_uri": "https://localhost:8080/"
        },
        "outputId": "d5a9fba7-7a0e-431f-fd3d-6fae5b2584cb"
      },
      "source": [
        "time('00-00-16')"
      ],
      "execution_count": 9,
      "outputs": [
        {
          "output_type": "stream",
          "text": [
            "เวลา 00-00-16 สามารถแปลงเป็นวินาทีได้เป็น 16 วินาที\n"
          ],
          "name": "stdout"
        }
      ]
    },
    {
      "cell_type": "markdown",
      "metadata": {
        "id": "S8o_e-kFQI2R"
      },
      "source": [
        "*ไม่เอา* *pandas *"
      ]
    },
    {
      "cell_type": "markdown",
      "metadata": {
        "id": "d0U-PYbpQZE3"
      },
      "source": [
        "Numpy -> package สำหรับจัดการกับ Array ที่เป็นตัวเลข (Matrix)\r\n",
        "\r\n",
        "Num+py -> Number-Numerical+python\r\n",
        "\r\n",
        "การใช้ package\r\n",
        "1. ```import``` ```ชื่อ  package ``` #เรียกใช้ package\r\n",
        "2. ```ชื่อ package.ชื่อฟังก์ชัน``` #เรียกใช้ function\r\n",
        "\r\n"
      ]
    },
    {
      "cell_type": "code",
      "metadata": {
        "id": "ikv2yVtnSEgv"
      },
      "source": [
        "import numpy"
      ],
      "execution_count": 14,
      "outputs": []
    },
    {
      "cell_type": "markdown",
      "metadata": {
        "id": "1NSnu-aKSX-K"
      },
      "source": [
        "data structure -> array #data structure คือโครงสร้างของข้อมูล"
      ]
    },
    {
      "cell_type": "markdown",
      "metadata": {
        "id": "GCKq6I2lUI7P"
      },
      "source": [
        "สร้าง array (numpy array)"
      ]
    },
    {
      "cell_type": "code",
      "metadata": {
        "id": "yO8_lbgbUQQl",
        "outputId": "0ef6895c-4b6a-4d74-daa1-76815160e174",
        "colab": {
          "base_uri": "https://localhost:8080/"
        }
      },
      "source": [
        "mat_ex1=numpy.array([[5.2,3.0,4.5],[9.1,0.1,0.3]])\r\n",
        "print(mat_ex1)"
      ],
      "execution_count": 16,
      "outputs": [
        {
          "output_type": "stream",
          "text": [
            "[[5.2 3.  4.5]\n",
            " [9.1 0.1 0.3]]\n"
          ],
          "name": "stdout"
        }
      ]
    },
    {
      "cell_type": "markdown",
      "metadata": {
        "id": "ek5XnezMUs9x"
      },
      "source": [
        "การชี้ค่าใน numpy array"
      ]
    },
    {
      "cell_type": "code",
      "metadata": {
        "id": "5hUCkm6RUyMu",
        "outputId": "d50489d9-227e-459a-9d37-9af77dda46de",
        "colab": {
          "base_uri": "https://localhost:8080/"
        }
      },
      "source": [
        "mat_ex1[1,1] #[แถว,หลัก] ใน python จะเริ่มที่ 0,1,2,....."
      ],
      "execution_count": 17,
      "outputs": [
        {
          "output_type": "execute_result",
          "data": {
            "text/plain": [
              "0.1"
            ]
          },
          "metadata": {
            "tags": []
          },
          "execution_count": 17
        }
      ]
    },
    {
      "cell_type": "markdown",
      "metadata": {
        "id": "SJRCggh2V0Fj"
      },
      "source": [
        "ถ้าไม่มี numpy array"
      ]
    },
    {
      "cell_type": "code",
      "metadata": {
        "id": "5NTOqcrrV4Qo",
        "outputId": "b2d813a9-9a4f-410f-c0b2-61f934bdff94",
        "colab": {
          "base_uri": "https://localhost:8080/"
        }
      },
      "source": [
        "list_ex1=[[5.2,3.0,4.5],[9.1,0.1,0.3]]\r\n",
        "print(list_ex1)"
      ],
      "execution_count": 18,
      "outputs": [
        {
          "output_type": "stream",
          "text": [
            "[[5.2, 3.0, 4.5], [9.1, 0.1, 0.3]]\n"
          ],
          "name": "stdout"
        }
      ]
    },
    {
      "cell_type": "code",
      "metadata": {
        "id": "ZqVEX5G6WDmi",
        "outputId": "10dbfd2a-8a38-42ee-c292-4ec0c40903e8",
        "colab": {
          "base_uri": "https://localhost:8080/"
        }
      },
      "source": [
        "list_ex1[1][1] #เป็นการเรียก list ใหม่ขึ้นมาอีกหนึ่งตัว "
      ],
      "execution_count": 21,
      "outputs": [
        {
          "output_type": "execute_result",
          "data": {
            "text/plain": [
              "0.1"
            ]
          },
          "metadata": {
            "tags": []
          },
          "execution_count": 21
        }
      ]
    },
    {
      "cell_type": "code",
      "metadata": {
        "id": "0MVNpoaWXsTp",
        "outputId": "b17f4583-8235-44bf-b7fd-2a4b8c6e4b83",
        "colab": {
          "base_uri": "https://localhost:8080/"
        }
      },
      "source": [
        "print(list_ex1)\r\n",
        "a=list_ex1[1]\r\n",
        "print(a)\r\n",
        "print(a[1])"
      ],
      "execution_count": 23,
      "outputs": [
        {
          "output_type": "stream",
          "text": [
            "[[5.2, 3.0, 4.5], [9.1, 0.1, 0.3]]\n",
            "[9.1, 0.1, 0.3]\n",
            "0.1\n"
          ],
          "name": "stdout"
        }
      ]
    },
    {
      "cell_type": "markdown",
      "metadata": {
        "id": "rP7XLdC8X-qE"
      },
      "source": [
        "Matrix Operations\r\n",
        "\r\n",
        "data 2 แบบ -> matrix (2D array),scalar (ตัวเลขค่าคงที่)"
      ]
    },
    {
      "cell_type": "code",
      "metadata": {
        "id": "iAt8UQPDYU_f",
        "outputId": "8fa16456-c6b7-41b3-f1c1-ccf64b10fe12",
        "colab": {
          "base_uri": "https://localhost:8080/"
        }
      },
      "source": [
        "mat_ex1=numpy.array([[5.2,3.0,4.5],[9.1,0.1,0.3]])\r\n",
        "print(mat_ex1)\r\n",
        "mat_ex2=numpy.array([[2,3.7,5.9],[91,1.5,7.3]])\r\n",
        "print(mat_ex2)"
      ],
      "execution_count": 24,
      "outputs": [
        {
          "output_type": "stream",
          "text": [
            "[[5.2 3.  4.5]\n",
            " [9.1 0.1 0.3]]\n",
            "[[ 2.   3.7  5.9]\n",
            " [91.   1.5  7.3]]\n"
          ],
          "name": "stdout"
        }
      ]
    },
    {
      "cell_type": "markdown",
      "metadata": {
        "id": "J3o4pfeOZBYK"
      },
      "source": [
        "บวกกับลบ matrix เอาตัวเลขตำแหน่งเดียวกันมาบวกกัน\r\n",
        "\r\n",
        "(หน้าตาของ matrix ต้องเหมือนกัน)"
      ]
    },
    {
      "cell_type": "code",
      "metadata": {
        "id": "vlA7sv5QZebQ",
        "outputId": "1626c7ca-7ab7-4bf9-f0bf-8fb3f240b18c",
        "colab": {
          "base_uri": "https://localhost:8080/"
        }
      },
      "source": [
        "mat_ex0=numpy.array([[1,2],[3,4]])\r\n",
        "print(mat_ex0)"
      ],
      "execution_count": 26,
      "outputs": [
        {
          "output_type": "stream",
          "text": [
            "[[1 2]\n",
            " [3 4]]\n"
          ],
          "name": "stdout"
        }
      ]
    },
    {
      "cell_type": "code",
      "metadata": {
        "id": "k9giZaAxY005",
        "outputId": "c90cf073-7a93-4c76-9d98-dd7d35f62e74",
        "colab": {
          "base_uri": "https://localhost:8080/"
        }
      },
      "source": [
        "mat_ex3=mat_ex1+mat_ex2 \r\n",
        "print(mat_ex3)\r\n",
        "mat_ex4=mat_ex1-mat_ex2 \r\n",
        "print(mat_ex4)"
      ],
      "execution_count": 25,
      "outputs": [
        {
          "output_type": "stream",
          "text": [
            "[[  7.2   6.7  10.4]\n",
            " [100.1   1.6   7.6]]\n",
            "[[  3.2  -0.7  -1.4]\n",
            " [-81.9  -1.4  -7. ]]\n"
          ],
          "name": "stdout"
        }
      ]
    },
    {
      "cell_type": "code",
      "metadata": {
        "id": "MwN54IHtZdQN",
        "outputId": "3993521c-e30c-4192-b1be-2bd64d6bf062",
        "colab": {
          "base_uri": "https://localhost:8080/",
          "height": 163
        }
      },
      "source": [
        "mat_ex1+mat_ex0"
      ],
      "execution_count": 27,
      "outputs": [
        {
          "output_type": "error",
          "ename": "ValueError",
          "evalue": "ignored",
          "traceback": [
            "\u001b[0;31m---------------------------------------------------------------------------\u001b[0m",
            "\u001b[0;31mValueError\u001b[0m                                Traceback (most recent call last)",
            "\u001b[0;32m<ipython-input-27-7e25f73d5b27>\u001b[0m in \u001b[0;36m<module>\u001b[0;34m()\u001b[0m\n\u001b[0;32m----> 1\u001b[0;31m \u001b[0mmat_ex1\u001b[0m\u001b[0;34m+\u001b[0m\u001b[0mmat_ex0\u001b[0m\u001b[0;34m\u001b[0m\u001b[0;34m\u001b[0m\u001b[0m\n\u001b[0m",
            "\u001b[0;31mValueError\u001b[0m: operands could not be broadcast together with shapes (2,3) (2,2) "
          ]
        }
      ]
    },
    {
      "cell_type": "markdown",
      "metadata": {
        "id": "1eXIXPiHZ81t"
      },
      "source": [
        "การตรวจสอบขนาดของ matrix  "
      ]
    },
    {
      "cell_type": "code",
      "metadata": {
        "id": "6VO_yMWPaLeF",
        "outputId": "7db325dc-10e9-4d63-f8a4-cdba61768e9e",
        "colab": {
          "base_uri": "https://localhost:8080/"
        }
      },
      "source": [
        "mat_ex3.shape"
      ],
      "execution_count": 28,
      "outputs": [
        {
          "output_type": "execute_result",
          "data": {
            "text/plain": [
              "(2, 3)"
            ]
          },
          "metadata": {
            "tags": []
          },
          "execution_count": 28
        }
      ]
    },
    {
      "cell_type": "code",
      "metadata": {
        "id": "VhlCUSV9aYHo",
        "outputId": "9ccfa00c-04ee-4ee4-dc2f-e13ae3227022",
        "colab": {
          "base_uri": "https://localhost:8080/"
        }
      },
      "source": [
        "mat_ex3.shape[0]"
      ],
      "execution_count": 29,
      "outputs": [
        {
          "output_type": "execute_result",
          "data": {
            "text/plain": [
              "2"
            ]
          },
          "metadata": {
            "tags": []
          },
          "execution_count": 29
        }
      ]
    },
    {
      "cell_type": "markdown",
      "metadata": {
        "id": "WHCHyBVhbAMu"
      },
      "source": [
        "คูณ matrix"
      ]
    },
    {
      "cell_type": "code",
      "metadata": {
        "id": "QOlSVF8Qb3Yt",
        "outputId": "21da4a83-61f6-4f14-cdf8-a1400925986d",
        "colab": {
          "base_uri": "https://localhost:8080/"
        }
      },
      "source": [
        "print(mat_ex1)\r\n",
        "print(mat_ex2)"
      ],
      "execution_count": 39,
      "outputs": [
        {
          "output_type": "stream",
          "text": [
            "[[5.2 3.  4.5]\n",
            " [9.1 0.1 0.3]]\n",
            "[[ 2.   3.7  5.9]\n",
            " [91.   1.5  7.3]]\n"
          ],
          "name": "stdout"
        }
      ]
    },
    {
      "cell_type": "code",
      "metadata": {
        "id": "N1457FG_bkhN",
        "outputId": "406694e0-e2bf-4e8b-847d-11a20d8e1e14",
        "colab": {
          "base_uri": "https://localhost:8080/"
        }
      },
      "source": [
        "mat_ex1*mat_ex2 #อันนี้ไม่ถูก เป็นการคูณกันแบบเหมือนที่เราบวก,ลบธรรมดา"
      ],
      "execution_count": 30,
      "outputs": [
        {
          "output_type": "execute_result",
          "data": {
            "text/plain": [
              "array([[1.040e+01, 1.110e+01, 2.655e+01],\n",
              "       [8.281e+02, 1.500e-01, 2.190e+00]])"
            ]
          },
          "metadata": {
            "tags": []
          },
          "execution_count": 30
        }
      ]
    },
    {
      "cell_type": "markdown",
      "metadata": {
        "id": "gn_Y3njIer42"
      },
      "source": [
        "การคูณ matrix (แถวคูณหลัก)\r\n",
        "\r\n",
        "(หลักของ matrix ตัวข้างหน้า ต้องเท่ากับแถวของ matrix ตัวข้างหลัง)\r\n",
        "\r\n",
        "dot product ((AAA,x),(x,ZZZ))=(AAA,ZZZ)"
      ]
    },
    {
      "cell_type": "code",
      "metadata": {
        "id": "D27xOTaqcnPP",
        "outputId": "d978fbd4-c801-40f0-ab45-9b1ae125565e",
        "colab": {
          "base_uri": "https://localhost:8080/",
          "height": 197
        }
      },
      "source": [
        "numpy.dot(mat_ex1,mat_ex2) #เพราะแถวกับหลักของทั้ง 2 matrix ไม่เท่ากัน"
      ],
      "execution_count": 36,
      "outputs": [
        {
          "output_type": "error",
          "ename": "ValueError",
          "evalue": "ignored",
          "traceback": [
            "\u001b[0;31m---------------------------------------------------------------------------\u001b[0m",
            "\u001b[0;31mValueError\u001b[0m                                Traceback (most recent call last)",
            "\u001b[0;32m<ipython-input-36-a08104674c9a>\u001b[0m in \u001b[0;36m<module>\u001b[0;34m()\u001b[0m\n\u001b[0;32m----> 1\u001b[0;31m \u001b[0mnumpy\u001b[0m\u001b[0;34m.\u001b[0m\u001b[0mdot\u001b[0m\u001b[0;34m(\u001b[0m\u001b[0mmat_ex1\u001b[0m\u001b[0;34m,\u001b[0m\u001b[0mmat_ex2\u001b[0m\u001b[0;34m)\u001b[0m \u001b[0;31m#เพราะแถวกับหลักของทั้ง 2 matrix ไม่เท่ากัน\u001b[0m\u001b[0;34m\u001b[0m\u001b[0;34m\u001b[0m\u001b[0m\n\u001b[0m",
            "\u001b[0;32m<__array_function__ internals>\u001b[0m in \u001b[0;36mdot\u001b[0;34m(*args, **kwargs)\u001b[0m\n",
            "\u001b[0;31mValueError\u001b[0m: shapes (2,3) and (2,3) not aligned: 3 (dim 1) != 2 (dim 0)"
          ]
        }
      ]
    },
    {
      "cell_type": "code",
      "metadata": {
        "id": "D73C2t2ygp5S",
        "outputId": "4efdb94e-728c-4e24-9b87-555ae019f322",
        "colab": {
          "base_uri": "https://localhost:8080/"
        }
      },
      "source": [
        "mat_ex3=mat_ex1+mat_ex2 \r\n",
        "print(mat_ex3)\r\n",
        "mat_ex4=mat_ex1-mat_ex2 \r\n",
        "print(mat_ex4)"
      ],
      "execution_count": 37,
      "outputs": [
        {
          "output_type": "stream",
          "text": [
            "[[  7.2   6.7  10.4]\n",
            " [100.1   1.6   7.6]]\n",
            "[[  3.2  -0.7  -1.4]\n",
            " [-81.9  -1.4  -7. ]]\n"
          ],
          "name": "stdout"
        }
      ]
    },
    {
      "cell_type": "markdown",
      "metadata": {
        "id": "bJJ4i_EpgImu"
      },
      "source": [
        "Transpose กลับแถวเป็นหลักกลับหลักเป็นแถว\r\n",
        "\r\n",
        "```\r\n",
        "matrix.T\r\n",
        "```\r\n",
        "\r\n"
      ]
    },
    {
      "cell_type": "code",
      "metadata": {
        "id": "O3_CFNUihLKz",
        "outputId": "225197a6-2646-42d0-a1a1-d8ab4f4ebceb",
        "colab": {
          "base_uri": "https://localhost:8080/"
        }
      },
      "source": [
        "print(mat_ex2)\r\n",
        "print(mat_ex2.shape)"
      ],
      "execution_count": 40,
      "outputs": [
        {
          "output_type": "stream",
          "text": [
            "[[ 2.   3.7  5.9]\n",
            " [91.   1.5  7.3]]\n",
            "(2, 3)\n"
          ],
          "name": "stdout"
        }
      ]
    },
    {
      "cell_type": "code",
      "metadata": {
        "id": "_IiynceEhKpn",
        "outputId": "600d646d-b6c7-4abb-9d6d-bc7101194180",
        "colab": {
          "base_uri": "https://localhost:8080/"
        }
      },
      "source": [
        "print(mat_ex1)\r\n",
        "print(mat_ex1.shape)\r\n",
        "print(mat_ex2)\r\n",
        "print(mat_ex2.shape)"
      ],
      "execution_count": 41,
      "outputs": [
        {
          "output_type": "stream",
          "text": [
            "[[5.2 3.  4.5]\n",
            " [9.1 0.1 0.3]]\n",
            "(2, 3)\n",
            "[[ 2.   3.7  5.9]\n",
            " [91.   1.5  7.3]]\n",
            "(2, 3)\n"
          ],
          "name": "stdout"
        }
      ]
    },
    {
      "cell_type": "code",
      "metadata": {
        "id": "Xc5iRLUdhvMU",
        "outputId": "24305ca5-9ed8-4995-e16b-88a7f17d523a",
        "colab": {
          "base_uri": "https://localhost:8080/"
        }
      },
      "source": [
        "print(mat_ex2.T)\r\n",
        "print(mat_ex2.T.shape)"
      ],
      "execution_count": 42,
      "outputs": [
        {
          "output_type": "stream",
          "text": [
            "[[ 2.  91. ]\n",
            " [ 3.7  1.5]\n",
            " [ 5.9  7.3]]\n",
            "(3, 2)\n"
          ],
          "name": "stdout"
        }
      ]
    },
    {
      "cell_type": "code",
      "metadata": {
        "id": "WSOY1XPkgXPa",
        "outputId": "de0f640f-c61a-4f4b-860a-b3079e460342",
        "colab": {
          "base_uri": "https://localhost:8080/"
        }
      },
      "source": [
        "numpy.dot(mat_ex1,mat_ex2.T) #(2,3)(3,2)"
      ],
      "execution_count": 35,
      "outputs": [
        {
          "output_type": "execute_result",
          "data": {
            "text/plain": [
              "array([[ 48.05, 510.55],\n",
              "       [ 20.34, 830.44]])"
            ]
          },
          "metadata": {
            "tags": []
          },
          "execution_count": 35
        }
      ]
    },
    {
      "cell_type": "code",
      "metadata": {
        "id": "EAdxswDLh3b9",
        "outputId": "db63d099-7fb4-4591-cee2-35b25abe5011",
        "colab": {
          "base_uri": "https://localhost:8080/"
        }
      },
      "source": [
        "numpy.dot(mat_ex1.T,mat_ex2) #(3,2).(2,3)=(3,3)"
      ],
      "execution_count": 44,
      "outputs": [
        {
          "output_type": "execute_result",
          "data": {
            "text/plain": [
              "array([[838.5 ,  32.89,  97.11],\n",
              "       [ 15.1 ,  11.25,  18.43],\n",
              "       [ 36.3 ,  17.1 ,  28.74]])"
            ]
          },
          "metadata": {
            "tags": []
          },
          "execution_count": 44
        }
      ]
    },
    {
      "cell_type": "markdown",
      "metadata": {
        "id": "tgnAnyr4i5Sc"
      },
      "source": [
        "HW4 อธิบายการหา Determinant และ Inverse matrix (รูปและคำอธิบาย)"
      ]
    }
  ]
}