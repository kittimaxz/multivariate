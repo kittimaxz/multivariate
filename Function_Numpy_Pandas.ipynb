{
  "nbformat": 4,
  "nbformat_minor": 0,
  "metadata": {
    "colab": {
      "name": "Function_Numpy_Pandas.ipynb",
      "provenance": [],
      "authorship_tag": "ABX9TyOC/CEe1SN3SYc/MycYWg8y",
      "include_colab_link": true
    },
    "kernelspec": {
      "name": "python3",
      "display_name": "Python 3"
    }
  },
  "cells": [
    {
      "cell_type": "markdown",
      "metadata": {
        "id": "view-in-github",
        "colab_type": "text"
      },
      "source": [
        "<a href=\"https://colab.research.google.com/github/kittimaxz/multivariate/blob/main/Function_Numpy_Pandas.ipynb\" target=\"_parent\"><img src=\"https://colab.research.google.com/assets/colab-badge.svg\" alt=\"Open In Colab\"/></a>"
      ]
    },
    {
      "cell_type": "markdown",
      "metadata": {
        "id": "uU-h40EsSNuO"
      },
      "source": [
        "**Function**"
      ]
    },
    {
      "cell_type": "markdown",
      "metadata": {
        "id": "iqNbyYZrS5kk"
      },
      "source": [
        "``` python\r\n",
        "     def  function_name(_Input_) :\r\n",
        "\r\n",
        "       do_something with _Input_  to produce  _Output_\r\n",
        "\r\n",
        "       return  _Output_\r\n",
        "```"
      ]
    },
    {
      "cell_type": "markdown",
      "metadata": {
        "id": "8dnuVo5SkCpp"
      },
      "source": [
        "```blacklick กด ~ ค้าง,alt -9>6 (full keybord with number) #อีกวิธีคือกดปุ่ม window,Alt พร้อมกันแล้วกดเลข 9,6 "
      ]
    },
    {
      "cell_type": "markdown",
      "metadata": {
        "id": "0AKPhfWTT96W"
      },
      "source": [
        "function มีส่วนประกอบสำคัญทั้งหมด 4 ส่วน\r\n",
        "\r\n",
        "\r\n",
        "1. บอก python ว่าเราจะเขียนฟังก์ชั่น ชื่ออะไร def function_name(): (ขาดไม่ได้)\r\n",
        "2. กำหนดตัวแปรที่จะเป็น input Input (ขาดได้)\r\n",
        "3. ส่วนประมวลผล do_something with Input to get (ขาดไม่ได้)\r\n",
        "4. ส่วน output return Output (ขาดได้)\r\n",
        "\r\n",
        "เราใช้เว้นวรรค(indent) เพื่อบอกขอบเขตของ code"
      ]
    },
    {
      "cell_type": "markdown",
      "metadata": {
        "id": "iUBkQoysWMzQ"
      },
      "source": [
        "#### สร้างฟังก์ชั่น"
      ]
    },
    {
      "cell_type": "code",
      "metadata": {
        "colab": {
          "base_uri": "https://localhost:8080/"
        },
        "id": "HIXSeDSaU6EJ",
        "outputId": "2c36b66b-caec-4dd6-920b-36ac874818c8"
      },
      "source": [
        "def print_name(name,surname,ID) :\r\n",
        "    st=f'=ชื่อ {name} นามสกุล {surname} ID {ID}' # code ในฟังก์ชั่นต้องเว้นวรรค\r\n",
        "    return st\r\n",
        "print('outside function')"
      ],
      "execution_count": 4,
      "outputs": [
        {
          "output_type": "stream",
          "text": [
            "outside function\n"
          ],
          "name": "stdout"
        }
      ]
    },
    {
      "cell_type": "markdown",
      "metadata": {
        "id": "Nl-NZNMsWu-L"
      },
      "source": [
        "การเรียกใช้ฟังก์ชั่น"
      ]
    },
    {
      "cell_type": "code",
      "metadata": {
        "colab": {
          "base_uri": "https://localhost:8080/",
          "height": 35
        },
        "id": "NTxPEc-pSBeC",
        "outputId": "d76085f2-b9d6-46fe-bac3-0ede6436c246"
      },
      "source": [
        "print_name('กิตติมา','อุปสุข','623021040-9')"
      ],
      "execution_count": 5,
      "outputs": [
        {
          "output_type": "execute_result",
          "data": {
            "application/vnd.google.colaboratory.intrinsic+json": {
              "type": "string"
            },
            "text/plain": [
              "'=ชื่อ กิตติมา นามสกุล อุปสุข ID 623021040-9'"
            ]
          },
          "metadata": {
            "tags": []
          },
          "execution_count": 5
        }
      ]
    },
    {
      "cell_type": "code",
      "metadata": {
        "colab": {
          "base_uri": "https://localhost:8080/"
        },
        "id": "TJqh9uAsXFEi",
        "outputId": "03630d87-73ea-4af2-e2c8-b088a5f58465"
      },
      "source": [
        "output_string = print_name('กิตติมา','อุปสุข','623021040-9')\r\n",
        "print(output_string)"
      ],
      "execution_count": 6,
      "outputs": [
        {
          "output_type": "stream",
          "text": [
            "=ชื่อ กิตติมา นามสกุล อุปสุข ID 623021040-9\n"
          ],
          "name": "stdout"
        }
      ]
    },
    {
      "cell_type": "markdown",
      "metadata": {
        "id": "HYb5WHvYXef3"
      },
      "source": [
        "ฟังก์ชั่นไม่จำเป็นต้องมี output"
      ]
    },
    {
      "cell_type": "code",
      "metadata": {
        "id": "300uKuqZXkSE"
      },
      "source": [
        "def print_name2(surname,ID,name) :\r\n",
        "    st=f' ชื่อ {name} นามสกุล {surname} รหัส {ID}'\r\n",
        "    print(st)"
      ],
      "execution_count": 7,
      "outputs": []
    },
    {
      "cell_type": "code",
      "metadata": {
        "colab": {
          "base_uri": "https://localhost:8080/"
        },
        "id": "syiHsc_8YBBh",
        "outputId": "42738489-c084-4735-db9c-b2d6b552f85b"
      },
      "source": [
        "print_name2('กิตติมา','อุปสุข','623021040-9')"
      ],
      "execution_count": 8,
      "outputs": [
        {
          "output_type": "stream",
          "text": [
            " ชื่อ 623021040-9 นามสกุล กิตติมา รหัส อุปสุข\n"
          ],
          "name": "stdout"
        }
      ]
    },
    {
      "cell_type": "code",
      "metadata": {
        "colab": {
          "base_uri": "https://localhost:8080/"
        },
        "id": "ovMH5jwjYLSm",
        "outputId": "742e0c9b-a364-4f03-aec4-b6f4fff1f58b"
      },
      "source": [
        "op2=print_name2('กิตติมา','อุปสุข','623021040-9')"
      ],
      "execution_count": 9,
      "outputs": [
        {
          "output_type": "stream",
          "text": [
            " ชื่อ 623021040-9 นามสกุล กิตติมา รหัส อุปสุข\n"
          ],
          "name": "stdout"
        }
      ]
    },
    {
      "cell_type": "code",
      "metadata": {
        "colab": {
          "base_uri": "https://localhost:8080/"
        },
        "id": "1fvJCQdiYYsS",
        "outputId": "d964dbf5-cc4d-41a4-fca0-0b8465297de6"
      },
      "source": [
        "print(op2)"
      ],
      "execution_count": 10,
      "outputs": [
        {
          "output_type": "stream",
          "text": [
            "None\n"
          ],
          "name": "stdout"
        }
      ]
    },
    {
      "cell_type": "markdown",
      "metadata": {
        "id": "vRib1s-IY_MG"
      },
      "source": [
        "ฟังก์ชั่นไม่จำเป็นต้องมี input"
      ]
    },
    {
      "cell_type": "code",
      "metadata": {
        "id": "UepWeZlhhhNJ"
      },
      "source": [
        "def Pi() :\r\n",
        "  return 3.14159265359"
      ],
      "execution_count": 11,
      "outputs": []
    },
    {
      "cell_type": "code",
      "metadata": {
        "colab": {
          "base_uri": "https://localhost:8080/"
        },
        "id": "tKDsIy12hg8d",
        "outputId": "3fc1fdd9-90d9-4c47-e036-f209ba593484"
      },
      "source": [
        "#คำนวณพื้นที่วงกลมมที่มีขนาดเส้นผ่านศูนย์กลางเท่ากับ 3\r\n",
        "Pi()*(1.5**2)"
      ],
      "execution_count": 12,
      "outputs": [
        {
          "output_type": "execute_result",
          "data": {
            "text/plain": [
              "7.0685834705775"
            ]
          },
          "metadata": {
            "tags": []
          },
          "execution_count": 12
        }
      ]
    },
    {
      "cell_type": "code",
      "metadata": {
        "id": "8b39z4TkZvBA"
      },
      "source": [
        "def print_my_name() :\r\n",
        "    print('กิตติมา อุปสุข 623021040-9')"
      ],
      "execution_count": 13,
      "outputs": []
    },
    {
      "cell_type": "code",
      "metadata": {
        "colab": {
          "base_uri": "https://localhost:8080/"
        },
        "id": "xLVtDdVNZ9PR",
        "outputId": "4e389ae9-b5f6-4b8c-e9ac-1281e5b8a87d"
      },
      "source": [
        "print_my_name()"
      ],
      "execution_count": 14,
      "outputs": [
        {
          "output_type": "stream",
          "text": [
            "กิตติมา อุปสุข 623021040-9\n"
          ],
          "name": "stdout"
        }
      ]
    },
    {
      "cell_type": "markdown",
      "metadata": {
        "id": "s2Rb7EA-aPeb"
      },
      "source": [
        "input ของ function ใน python มีสองแบบ input ที่จำเป็นต้องใส่ (มีค่า default) เราต้องเรียง input ที่จำเป็นต้องใส่ขึ้นก่อน "
      ]
    },
    {
      "cell_type": "markdown",
      "metadata": {
        "id": "_fOx2apFbktM"
      },
      "source": [
        "เราต้องเรียง input  ที่จำเป็นต้องใส่ขึ้นก่อน"
      ]
    },
    {
      "cell_type": "code",
      "metadata": {
        "id": "mmrOn-hQawCy"
      },
      "source": [
        "def print_2lines_default(name,surname,ID,grade='F') :\r\n",
        "    st=f'ชื่อ {name} นามสกุล {surname} รหัส {ID}'\r\n",
        "    print(st)\r\n",
        "    st2=f'เกรดวิชา Multivariate >>> {grade}'\r\n",
        "    print(st2)"
      ],
      "execution_count": 15,
      "outputs": []
    },
    {
      "cell_type": "code",
      "metadata": {
        "colab": {
          "base_uri": "https://localhost:8080/"
        },
        "id": "oCF8mPULbpcR",
        "outputId": "ef4a3f24-4758-4bc0-b556-65593349bd9b"
      },
      "source": [
        "print_2lines_default('กิตติมา','อุปสุข','623021040-9')"
      ],
      "execution_count": 16,
      "outputs": [
        {
          "output_type": "stream",
          "text": [
            "ชื่อ กิตติมา นามสกุล อุปสุข รหัส 623021040-9\n",
            "เกรดวิชา Multivariate >>> F\n"
          ],
          "name": "stdout"
        }
      ]
    },
    {
      "cell_type": "code",
      "metadata": {
        "colab": {
          "base_uri": "https://localhost:8080/"
        },
        "id": "gupQ5eXyi3iH",
        "outputId": "74ad0835-05ff-4b32-d4d4-978dfde982de"
      },
      "source": [
        "print_2lines_default('กิตติมา','อุปสุข','623021040-9','A')"
      ],
      "execution_count": 17,
      "outputs": [
        {
          "output_type": "stream",
          "text": [
            "ชื่อ กิตติมา นามสกุล อุปสุข รหัส 623021040-9\n",
            "เกรดวิชา Multivariate >>> A\n"
          ],
          "name": "stdout"
        }
      ]
    },
    {
      "cell_type": "markdown",
      "metadata": {
        "id": "wdEZvu6XccHK"
      },
      "source": [
        "เราสามารถเรียกฟังก์ชั่นโดยใช้ชื่อตัวแปรของฟังก์ชั่นช่วยได้"
      ]
    },
    {
      "cell_type": "code",
      "metadata": {
        "colab": {
          "base_uri": "https://localhost:8080/"
        },
        "id": "FKHwM6L5bp_A",
        "outputId": "4669f4a4-5e08-4195-dceb-4a1c2433f91c"
      },
      "source": [
        "print_name2(name='กิตติมา', surname='อุปสุข', ID='623021040-9')"
      ],
      "execution_count": 18,
      "outputs": [
        {
          "output_type": "stream",
          "text": [
            " ชื่อ กิตติมา นามสกุล อุปสุข รหัส 623021040-9\n"
          ],
          "name": "stdout"
        }
      ]
    },
    {
      "cell_type": "markdown",
      "metadata": {
        "id": "IaG0ybqJc1Wx"
      },
      "source": [
        "HW3 ให้เขียน function คำนวณจำนวนวินาทีจากเวลาต่อไปนี้\r\n",
        "\r\n",
        "'14-15-31'\r\n",
        "\r\n",
        "'13-00-01'\r\n",
        "\r\n",
        "'05-49-44'\r\n",
        "\r\n",
        "'00-00-16'\r\n",
        "\r\n",
        "และ print ให้สวยงาม"
      ]
    },
    {
      "cell_type": "code",
      "metadata": {
        "id": "Px9e1lESTZG0"
      },
      "source": [
        "def time(t):\r\n",
        " time_sp=t.split('-')\r\n",
        " h1=int (time_sp[0])*3600\r\n",
        " m1=int (time_sp[1])*60\r\n",
        " s1 =int (time_sp[2])\r\n",
        " ans = h1+m1+s1\r\n",
        " print(f'เวลา {t} สามารถแปลงเป็นวินาทีได้เป็น {ans} วินาที')"
      ],
      "execution_count": 63,
      "outputs": []
    },
    {
      "cell_type": "code",
      "metadata": {
        "id": "qbmzy8huUelT",
        "outputId": "81fe936a-0546-4d53-ec6a-af431b303eb9",
        "colab": {
          "base_uri": "https://localhost:8080/"
        }
      },
      "source": [
        "time('14-15-31')"
      ],
      "execution_count": 64,
      "outputs": [
        {
          "output_type": "stream",
          "text": [
            "เวลา 14-15-31 สามารถแปลงเป็นวินาทีได้เป็น 51331 วินาที\n"
          ],
          "name": "stdout"
        }
      ]
    },
    {
      "cell_type": "code",
      "metadata": {
        "id": "mJAC2joCZKeO",
        "outputId": "1d50361a-5a9f-4e1c-ddd5-95a2c4606d33",
        "colab": {
          "base_uri": "https://localhost:8080/"
        }
      },
      "source": [
        "time('13-00-01')"
      ],
      "execution_count": 65,
      "outputs": [
        {
          "output_type": "stream",
          "text": [
            "เวลา 13-00-01 สามารถแปลงเป็นวินาทีได้เป็น 46801 วินาที\n"
          ],
          "name": "stdout"
        }
      ]
    },
    {
      "cell_type": "code",
      "metadata": {
        "id": "XC061YmlZOgG",
        "outputId": "3b31b823-ab70-4d7d-b353-cea5e778224c",
        "colab": {
          "base_uri": "https://localhost:8080/"
        }
      },
      "source": [
        "time('05-49-44')"
      ],
      "execution_count": 66,
      "outputs": [
        {
          "output_type": "stream",
          "text": [
            "เวลา 05-49-44 สามารถแปลงเป็นวินาทีได้เป็น 20984 วินาที\n"
          ],
          "name": "stdout"
        }
      ]
    },
    {
      "cell_type": "code",
      "metadata": {
        "id": "Fpc1zZhsZTrl",
        "outputId": "3bc9b804-0ad1-464c-8dc6-5ac4120f0ea3",
        "colab": {
          "base_uri": "https://localhost:8080/"
        }
      },
      "source": [
        "time('00-00-16')"
      ],
      "execution_count": 67,
      "outputs": [
        {
          "output_type": "stream",
          "text": [
            "เวลา 00-00-16 สามารถแปลงเป็นวินาทีได้เป็น 16 วินาที\n"
          ],
          "name": "stdout"
        }
      ]
    }
  ]
}