{
  "nbformat": 4,
  "nbformat_minor": 0,
  "metadata": {
    "colab": {
      "name": "Function_Numpy_Pandas.ipynb",
      "provenance": [],
      "authorship_tag": "ABX9TyPTkCp/QL79ug5RgTfPy3D7",
      "include_colab_link": true
    },
    "kernelspec": {
      "name": "python3",
      "display_name": "Python 3"
    }
  },
  "cells": [
    {
      "cell_type": "markdown",
      "metadata": {
        "id": "view-in-github",
        "colab_type": "text"
      },
      "source": [
        "<a href=\"https://colab.research.google.com/github/kittimaxz/multivariate/blob/main/Function_Numpy_Pandas.ipynb\" target=\"_parent\"><img src=\"https://colab.research.google.com/assets/colab-badge.svg\" alt=\"Open In Colab\"/></a>"
      ]
    },
    {
      "cell_type": "markdown",
      "metadata": {
        "id": "uU-h40EsSNuO"
      },
      "source": [
        "**Function**"
      ]
    },
    {
      "cell_type": "markdown",
      "metadata": {
        "id": "es_LJs93d9hg"
      },
      "source": [
        "![identity-function-graph.png](data:image/png;base64,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)"
      ]
    },
    {
      "cell_type": "markdown",
      "metadata": {
        "id": "iqNbyYZrS5kk"
      },
      "source": [
        "``` python\r\n",
        "     def  function_name(_Input_) :\r\n",
        "\r\n",
        "       do_something with _Input_  to produce  _Output_\r\n",
        "\r\n",
        "       return  _Output_\r\n",
        "```"
      ]
    },
    {
      "cell_type": "markdown",
      "metadata": {
        "id": "8dnuVo5SkCpp"
      },
      "source": [
        "```blacklick กด ~ ค้าง,alt -9>6 (full keybord with number) #อีกวิธีคือกดปุ่ม window,Alt พร้อมกันแล้วกดเลข 9,6 และ ~ กดปุ่ม window,Alt พร้อมกับกดเลข 1,2,6"
      ]
    },
    {
      "cell_type": "markdown",
      "metadata": {
        "id": "0AKPhfWTT96W"
      },
      "source": [
        "function มีส่วนประกอบสำคัญทั้งหมด 4 ส่วน\r\n",
        "\r\n",
        "\r\n",
        "1. บอก python ว่าเราจะเขียนฟังก์ชั่น ชื่ออะไร def function_name(): (ขาดไม่ได้)\r\n",
        "2. กำหนดตัวแปรที่จะเป็น input Input (ขาดได้)\r\n",
        "3. ส่วนประมวลผล do_something with Input to get (ขาดไม่ได้)\r\n",
        "4. ส่วน output return Output (ขาดได้)\r\n",
        "\r\n",
        "เราใช้เว้นวรรค(indent) เพื่อบอกขอบเขตของ code"
      ]
    },
    {
      "cell_type": "markdown",
      "metadata": {
        "id": "iUBkQoysWMzQ"
      },
      "source": [
        "#### สร้างฟังก์ชั่น"
      ]
    },
    {
      "cell_type": "code",
      "metadata": {
        "colab": {
          "base_uri": "https://localhost:8080/"
        },
        "id": "HIXSeDSaU6EJ",
        "outputId": "4b5be18a-9303-471f-a8c1-d3888d17a560"
      },
      "source": [
        "def print_name(name,surname,ID) :\r\n",
        "    st=f'=ชื่อ {name} นามสกุล {surname} ID {ID}' # code ในฟังก์ชั่นต้องเว้นวรรค\r\n",
        "    return st\r\n",
        "print('outside function')"
      ],
      "execution_count": 1,
      "outputs": [
        {
          "output_type": "stream",
          "text": [
            "outside function\n"
          ],
          "name": "stdout"
        }
      ]
    },
    {
      "cell_type": "markdown",
      "metadata": {
        "id": "Nl-NZNMsWu-L"
      },
      "source": [
        "การเรียกใช้ฟังก์ชั่น"
      ]
    },
    {
      "cell_type": "code",
      "metadata": {
        "colab": {
          "base_uri": "https://localhost:8080/",
          "height": 35
        },
        "id": "NTxPEc-pSBeC",
        "outputId": "d2d9ab03-8c3f-4b4a-a57e-a7ca11c5804e"
      },
      "source": [
        "print_name('กิตติมา','อุปสุข','623021040-9')"
      ],
      "execution_count": 2,
      "outputs": [
        {
          "output_type": "execute_result",
          "data": {
            "application/vnd.google.colaboratory.intrinsic+json": {
              "type": "string"
            },
            "text/plain": [
              "'=ชื่อ กิตติมา นามสกุล อุปสุข ID 623021040-9'"
            ]
          },
          "metadata": {
            "tags": []
          },
          "execution_count": 2
        }
      ]
    },
    {
      "cell_type": "code",
      "metadata": {
        "colab": {
          "base_uri": "https://localhost:8080/"
        },
        "id": "TJqh9uAsXFEi",
        "outputId": "39591389-f63d-481b-9f4e-0ad139fd6e01"
      },
      "source": [
        "output_string = print_name('กิตติมา','อุปสุข','623021040-9')\r\n",
        "print(output_string)"
      ],
      "execution_count": 3,
      "outputs": [
        {
          "output_type": "stream",
          "text": [
            "=ชื่อ กิตติมา นามสกุล อุปสุข ID 623021040-9\n"
          ],
          "name": "stdout"
        }
      ]
    },
    {
      "cell_type": "markdown",
      "metadata": {
        "id": "HYb5WHvYXef3"
      },
      "source": [
        "ฟังก์ชั่นไม่จำเป็นต้องมี output"
      ]
    },
    {
      "cell_type": "code",
      "metadata": {
        "id": "300uKuqZXkSE"
      },
      "source": [
        "def print_name2(surname,ID,name) :\r\n",
        "    st=f' ชื่อ {name} นามสกุล {surname} รหัส {ID}'\r\n",
        "    print(st)"
      ],
      "execution_count": 4,
      "outputs": []
    },
    {
      "cell_type": "code",
      "metadata": {
        "colab": {
          "base_uri": "https://localhost:8080/"
        },
        "id": "syiHsc_8YBBh",
        "outputId": "1d6e3083-120b-43a2-c1f4-aa5452956fd8"
      },
      "source": [
        "print_name2('กิตติมา','อุปสุข','623021040-9')"
      ],
      "execution_count": 5,
      "outputs": [
        {
          "output_type": "stream",
          "text": [
            " ชื่อ 623021040-9 นามสกุล กิตติมา รหัส อุปสุข\n"
          ],
          "name": "stdout"
        }
      ]
    },
    {
      "cell_type": "code",
      "metadata": {
        "id": "ovMH5jwjYLSm",
        "outputId": "917fea78-c9d5-48ce-8014-319691705254",
        "colab": {
          "base_uri": "https://localhost:8080/"
        }
      },
      "source": [
        "op2=print_name2('กิตติมา','อุปสุข','623021040-9')"
      ],
      "execution_count": 6,
      "outputs": [
        {
          "output_type": "stream",
          "text": [
            " ชื่อ 623021040-9 นามสกุล กิตติมา รหัส อุปสุข\n"
          ],
          "name": "stdout"
        }
      ]
    },
    {
      "cell_type": "code",
      "metadata": {
        "id": "1fvJCQdiYYsS",
        "outputId": "e6702f8b-c19b-4e3c-e62d-6879b33067c1",
        "colab": {
          "base_uri": "https://localhost:8080/"
        }
      },
      "source": [
        "print(op2)"
      ],
      "execution_count": 7,
      "outputs": [
        {
          "output_type": "stream",
          "text": [
            "None\n"
          ],
          "name": "stdout"
        }
      ]
    },
    {
      "cell_type": "markdown",
      "metadata": {
        "id": "vRib1s-IY_MG"
      },
      "source": [
        "ฟังก์ชั่นไม่จำเป็นต้องมี input"
      ]
    },
    {
      "cell_type": "code",
      "metadata": {
        "id": "UepWeZlhhhNJ"
      },
      "source": [
        "def Pi() :\r\n",
        "  return 3.14159265359"
      ],
      "execution_count": 8,
      "outputs": []
    },
    {
      "cell_type": "code",
      "metadata": {
        "id": "tKDsIy12hg8d",
        "outputId": "8aefeaf9-f062-412c-f24e-a4ca131afb98",
        "colab": {
          "base_uri": "https://localhost:8080/"
        }
      },
      "source": [
        "#คำนวณพื้นที่วงกลมมที่มีขนาดเส้นผ่านศูนย์กลางเท่ากับ 3\r\n",
        "Pi()*(1.5**2)"
      ],
      "execution_count": 9,
      "outputs": [
        {
          "output_type": "execute_result",
          "data": {
            "text/plain": [
              "7.0685834705775"
            ]
          },
          "metadata": {
            "tags": []
          },
          "execution_count": 9
        }
      ]
    },
    {
      "cell_type": "code",
      "metadata": {
        "id": "8b39z4TkZvBA"
      },
      "source": [
        "def print_my_name() :\r\n",
        "    print('กิตติมา อุปสุข 623021040-9')"
      ],
      "execution_count": 10,
      "outputs": []
    },
    {
      "cell_type": "code",
      "metadata": {
        "id": "xLVtDdVNZ9PR",
        "outputId": "95c74301-e094-4e1b-8921-56002a86b405",
        "colab": {
          "base_uri": "https://localhost:8080/"
        }
      },
      "source": [
        "print_my_name()"
      ],
      "execution_count": 11,
      "outputs": [
        {
          "output_type": "stream",
          "text": [
            "กิตติมา อุปสุข 623021040-9\n"
          ],
          "name": "stdout"
        }
      ]
    },
    {
      "cell_type": "markdown",
      "metadata": {
        "id": "s2Rb7EA-aPeb"
      },
      "source": [
        "input ของ function ใน python มีสองแบบ input ที่จำเป็นต้องใส่ (มีค่า default) เราต้องเรียง input ที่จำเป็นต้องใส่ขึ้นก่อน "
      ]
    },
    {
      "cell_type": "markdown",
      "metadata": {
        "id": "_fOx2apFbktM"
      },
      "source": [
        "เราต้องเรียง input  ที่จำเป็นต้องใส่ขึ้นก่อน"
      ]
    },
    {
      "cell_type": "code",
      "metadata": {
        "id": "mmrOn-hQawCy"
      },
      "source": [
        "def print_2lines_default(name,surname,ID,grade='F') :\r\n",
        "    st=f'ชื่อ {name} นามสกุล {surname} รหัส {ID}'\r\n",
        "    print(st)\r\n",
        "    st2=f'เกรดวิชา Multivariate >>> {grade}'\r\n",
        "    print(st2)"
      ],
      "execution_count": 12,
      "outputs": []
    },
    {
      "cell_type": "code",
      "metadata": {
        "id": "oCF8mPULbpcR",
        "outputId": "57035de5-6162-45d0-92ef-0cf2b8d2fc97",
        "colab": {
          "base_uri": "https://localhost:8080/"
        }
      },
      "source": [
        "print_2lines_default('กิตติมา','อุปสุข','623021040-9')"
      ],
      "execution_count": 13,
      "outputs": [
        {
          "output_type": "stream",
          "text": [
            "ชื่อ กิตติมา นามสกุล อุปสุข รหัส 623021040-9\n",
            "เกรดวิชา Multivariate >>> F\n"
          ],
          "name": "stdout"
        }
      ]
    },
    {
      "cell_type": "code",
      "metadata": {
        "id": "gupQ5eXyi3iH",
        "outputId": "2c5cd40d-299e-420c-f62c-1b2ef729951b",
        "colab": {
          "base_uri": "https://localhost:8080/"
        }
      },
      "source": [
        "print_2lines_default('กิตติมา','อุปสุข','623021040-9','A')"
      ],
      "execution_count": 14,
      "outputs": [
        {
          "output_type": "stream",
          "text": [
            "ชื่อ กิตติมา นามสกุล อุปสุข รหัส 623021040-9\n",
            "เกรดวิชา Multivariate >>> A\n"
          ],
          "name": "stdout"
        }
      ]
    },
    {
      "cell_type": "markdown",
      "metadata": {
        "id": "wdEZvu6XccHK"
      },
      "source": [
        "เราสามารถเรียกฟังก์ชั่นโดยใช้ชื่อตัวแปรของฟังก์ชั่นช่วยได้"
      ]
    },
    {
      "cell_type": "code",
      "metadata": {
        "id": "FKHwM6L5bp_A",
        "outputId": "06f19d78-f4e8-4499-dd9c-069f921ac1f8",
        "colab": {
          "base_uri": "https://localhost:8080/"
        }
      },
      "source": [
        "print_name2(name='กิตติมา', surname='อุปสุข', ID='623021040-9')"
      ],
      "execution_count": 15,
      "outputs": [
        {
          "output_type": "stream",
          "text": [
            " ชื่อ กิตติมา นามสกุล อุปสุข รหัส 623021040-9\n"
          ],
          "name": "stdout"
        }
      ]
    },
    {
      "cell_type": "markdown",
      "metadata": {
        "id": "IaG0ybqJc1Wx"
      },
      "source": [
        "HW3 ให้เขียน function คำนวณจำนวนวินาทีจากเวลาต่อไปนี้\r\n",
        "\r\n",
        "'14-15-31'\r\n",
        "\r\n",
        "'13-00-01'\r\n",
        "\r\n",
        "'05-49-44'\r\n",
        "\r\n",
        "'00-00-16'\r\n",
        "\r\n",
        "และ print ให้สวยงาม"
      ]
    },
    {
      "cell_type": "code",
      "metadata": {
        "id": "Px9e1lESTZG0"
      },
      "source": [
        "def time(t):\r\n",
        " time_sp=t.split('-')\r\n",
        " h1=int (time_sp[0])*3600\r\n",
        " m1=int (time_sp[1])*60\r\n",
        " s1 =int (time_sp[2])\r\n",
        " ans = h1+m1+s1\r\n",
        " print(f'เวลา {t} สามารถแปลงเป็นวินาทีได้เป็น {ans} วินาที')"
      ],
      "execution_count": 16,
      "outputs": []
    },
    {
      "cell_type": "code",
      "metadata": {
        "id": "qbmzy8huUelT",
        "colab": {
          "base_uri": "https://localhost:8080/"
        },
        "outputId": "01c6dcf6-d369-4790-ef18-7fb212d9ba7d"
      },
      "source": [
        "time('14-15-31')"
      ],
      "execution_count": 17,
      "outputs": [
        {
          "output_type": "stream",
          "text": [
            "เวลา 14-15-31 สามารถแปลงเป็นวินาทีได้เป็น 51331 วินาที\n"
          ],
          "name": "stdout"
        }
      ]
    },
    {
      "cell_type": "code",
      "metadata": {
        "id": "mJAC2joCZKeO",
        "colab": {
          "base_uri": "https://localhost:8080/"
        },
        "outputId": "ba104499-231e-4813-95ee-702dabc54808"
      },
      "source": [
        "time('13-00-01')"
      ],
      "execution_count": 18,
      "outputs": [
        {
          "output_type": "stream",
          "text": [
            "เวลา 13-00-01 สามารถแปลงเป็นวินาทีได้เป็น 46801 วินาที\n"
          ],
          "name": "stdout"
        }
      ]
    },
    {
      "cell_type": "code",
      "metadata": {
        "id": "XC061YmlZOgG",
        "colab": {
          "base_uri": "https://localhost:8080/"
        },
        "outputId": "0dbbdfdb-0d74-46a1-b3d3-903491c54367"
      },
      "source": [
        "time('05-49-44')"
      ],
      "execution_count": 19,
      "outputs": [
        {
          "output_type": "stream",
          "text": [
            "เวลา 05-49-44 สามารถแปลงเป็นวินาทีได้เป็น 20984 วินาที\n"
          ],
          "name": "stdout"
        }
      ]
    },
    {
      "cell_type": "code",
      "metadata": {
        "id": "Fpc1zZhsZTrl",
        "colab": {
          "base_uri": "https://localhost:8080/"
        },
        "outputId": "d29891da-6bf9-49a9-c21f-5f9bae83655e"
      },
      "source": [
        "time('00-00-16')"
      ],
      "execution_count": 20,
      "outputs": [
        {
          "output_type": "stream",
          "text": [
            "เวลา 00-00-16 สามารถแปลงเป็นวินาทีได้เป็น 16 วินาที\n"
          ],
          "name": "stdout"
        }
      ]
    },
    {
      "cell_type": "markdown",
      "metadata": {
        "id": "S8o_e-kFQI2R"
      },
      "source": [
        "*ไม่เอา* *pandas *"
      ]
    },
    {
      "cell_type": "markdown",
      "metadata": {
        "id": "d0U-PYbpQZE3"
      },
      "source": [
        "Numpy -> package สำหรับจัดการกับ Array ที่เป็นตัวเลข (Matrix)\r\n",
        "\r\n",
        "Num+py -> Number-Numerical+python\r\n",
        "\r\n",
        "การใช้ package\r\n",
        "1. ```import``` ```ชื่อ  package ``` #เรียกใช้ package\r\n",
        "2. ```ชื่อ package.ชื่อฟังก์ชัน``` #เรียกใช้ function\r\n",
        "\r\n"
      ]
    },
    {
      "cell_type": "code",
      "metadata": {
        "id": "ikv2yVtnSEgv"
      },
      "source": [
        "import numpy"
      ],
      "execution_count": 21,
      "outputs": []
    },
    {
      "cell_type": "markdown",
      "metadata": {
        "id": "1NSnu-aKSX-K"
      },
      "source": [
        "![1_Ikn1J6siiiCSk4ivYUhdgw.png](data:image/png;base64,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)data structure -> array #data structure คือโครงสร้างของข้อมูล"
      ]
    },
    {
      "cell_type": "markdown",
      "metadata": {
        "id": "GCKq6I2lUI7P"
      },
      "source": [
        "สร้าง array (numpy array)"
      ]
    },
    {
      "cell_type": "code",
      "metadata": {
        "id": "yO8_lbgbUQQl",
        "colab": {
          "base_uri": "https://localhost:8080/"
        },
        "outputId": "9444cf81-c730-4545-bced-2cbfd74e00d1"
      },
      "source": [
        "mat_ex1=numpy.array([[5.2,3.0,4.5],[9.1,0.1,0.3]])\r\n",
        "print(mat_ex1)"
      ],
      "execution_count": 22,
      "outputs": [
        {
          "output_type": "stream",
          "text": [
            "[[5.2 3.  4.5]\n",
            " [9.1 0.1 0.3]]\n"
          ],
          "name": "stdout"
        }
      ]
    },
    {
      "cell_type": "markdown",
      "metadata": {
        "id": "ek5XnezMUs9x"
      },
      "source": [
        "การชี้ค่าใน numpy array"
      ]
    },
    {
      "cell_type": "code",
      "metadata": {
        "id": "5hUCkm6RUyMu",
        "colab": {
          "base_uri": "https://localhost:8080/"
        },
        "outputId": "7c1a5113-dc14-4e14-a649-745d76d4a9ae"
      },
      "source": [
        "mat_ex1[1,1] #[แถว,หลัก] ใน python จะเริ่มที่ 0,1,2,....."
      ],
      "execution_count": 23,
      "outputs": [
        {
          "output_type": "execute_result",
          "data": {
            "text/plain": [
              "0.1"
            ]
          },
          "metadata": {
            "tags": []
          },
          "execution_count": 23
        }
      ]
    },
    {
      "cell_type": "markdown",
      "metadata": {
        "id": "SJRCggh2V0Fj"
      },
      "source": [
        "ถ้าไม่มี numpy array"
      ]
    },
    {
      "cell_type": "code",
      "metadata": {
        "id": "5NTOqcrrV4Qo",
        "colab": {
          "base_uri": "https://localhost:8080/"
        },
        "outputId": "ee131817-293a-47a8-e976-0f701ebd996e"
      },
      "source": [
        "list_ex1=[[5.2,3.0,4.5],[9.1,0.1,0.3]]\r\n",
        "print(list_ex1)"
      ],
      "execution_count": 24,
      "outputs": [
        {
          "output_type": "stream",
          "text": [
            "[[5.2, 3.0, 4.5], [9.1, 0.1, 0.3]]\n"
          ],
          "name": "stdout"
        }
      ]
    },
    {
      "cell_type": "code",
      "metadata": {
        "id": "ZqVEX5G6WDmi",
        "colab": {
          "base_uri": "https://localhost:8080/"
        },
        "outputId": "001a5bb7-4429-4756-e4b4-64fa62104a52"
      },
      "source": [
        "list_ex1[1][1] #เป็นการเรียก list ใหม่ขึ้นมาอีกหนึ่งตัว "
      ],
      "execution_count": 25,
      "outputs": [
        {
          "output_type": "execute_result",
          "data": {
            "text/plain": [
              "0.1"
            ]
          },
          "metadata": {
            "tags": []
          },
          "execution_count": 25
        }
      ]
    },
    {
      "cell_type": "code",
      "metadata": {
        "id": "0MVNpoaWXsTp",
        "colab": {
          "base_uri": "https://localhost:8080/"
        },
        "outputId": "ff9d90b3-1ace-45e1-8f5a-bdbd42628648"
      },
      "source": [
        "print(list_ex1)\r\n",
        "a=list_ex1[1]\r\n",
        "print(a)\r\n",
        "print(a[1])"
      ],
      "execution_count": 26,
      "outputs": [
        {
          "output_type": "stream",
          "text": [
            "[[5.2, 3.0, 4.5], [9.1, 0.1, 0.3]]\n",
            "[9.1, 0.1, 0.3]\n",
            "0.1\n"
          ],
          "name": "stdout"
        }
      ]
    },
    {
      "cell_type": "markdown",
      "metadata": {
        "id": "rP7XLdC8X-qE"
      },
      "source": [
        "Matrix Operations\r\n",
        "\r\n",
        "data 2 แบบ -> matrix (2D array),scalar (ตัวเลขค่าคงที่)"
      ]
    },
    {
      "cell_type": "code",
      "metadata": {
        "id": "iAt8UQPDYU_f",
        "colab": {
          "base_uri": "https://localhost:8080/"
        },
        "outputId": "5f369c72-959e-454b-9c4a-6ca82df35400"
      },
      "source": [
        "mat_ex1=numpy.array([[5.2,3.0,4.5],[9.1,0.1,0.3]])\r\n",
        "print(mat_ex1)\r\n",
        "mat_ex2=numpy.array([[2,3.7,5.9],[91,1.5,7.3]])\r\n",
        "print(mat_ex2)"
      ],
      "execution_count": 27,
      "outputs": [
        {
          "output_type": "stream",
          "text": [
            "[[5.2 3.  4.5]\n",
            " [9.1 0.1 0.3]]\n",
            "[[ 2.   3.7  5.9]\n",
            " [91.   1.5  7.3]]\n"
          ],
          "name": "stdout"
        }
      ]
    },
    {
      "cell_type": "markdown",
      "metadata": {
        "id": "J3o4pfeOZBYK"
      },
      "source": [
        "บวกกับลบ matrix เอาตัวเลขตำแหน่งเดียวกันมาบวกกัน\r\n",
        "\r\n",
        "(หน้าตาของ matrix ต้องเหมือนกัน)"
      ]
    },
    {
      "cell_type": "code",
      "metadata": {
        "id": "vlA7sv5QZebQ",
        "colab": {
          "base_uri": "https://localhost:8080/"
        },
        "outputId": "83719dc6-f66a-4e5f-fddc-bcd9dcfd2c50"
      },
      "source": [
        "mat_ex0=numpy.array([[1,2],[3,4]])\r\n",
        "print(mat_ex0)"
      ],
      "execution_count": 44,
      "outputs": [
        {
          "output_type": "stream",
          "text": [
            "[[1 2]\n",
            " [3 4]]\n"
          ],
          "name": "stdout"
        }
      ]
    },
    {
      "cell_type": "code",
      "metadata": {
        "id": "k9giZaAxY005",
        "colab": {
          "base_uri": "https://localhost:8080/"
        },
        "outputId": "57fa41e6-8878-495a-f7e4-5149e6922ba6"
      },
      "source": [
        "mat_ex3=mat_ex1+mat_ex2 \r\n",
        "print(mat_ex3)\r\n",
        "mat_ex4=mat_ex1-mat_ex2 \r\n",
        "print(mat_ex4)"
      ],
      "execution_count": 43,
      "outputs": [
        {
          "output_type": "stream",
          "text": [
            "[[  7.2   6.7  10.4]\n",
            " [100.1   1.6   7.6]]\n",
            "[[  3.2  -0.7  -1.4]\n",
            " [-81.9  -1.4  -7. ]]\n"
          ],
          "name": "stdout"
        }
      ]
    },
    {
      "cell_type": "code",
      "metadata": {
        "id": "MwN54IHtZdQN",
        "colab": {
          "base_uri": "https://localhost:8080/",
          "height": 163
        },
        "outputId": "400eb664-a6c2-40f7-b1f3-0bdbfc65edfb"
      },
      "source": [
        "mat_ex1+mat_ex0"
      ],
      "execution_count": 42,
      "outputs": [
        {
          "output_type": "error",
          "ename": "ValueError",
          "evalue": "ignored",
          "traceback": [
            "\u001b[0;31m---------------------------------------------------------------------------\u001b[0m",
            "\u001b[0;31mValueError\u001b[0m                                Traceback (most recent call last)",
            "\u001b[0;32m<ipython-input-42-7e25f73d5b27>\u001b[0m in \u001b[0;36m<module>\u001b[0;34m()\u001b[0m\n\u001b[0;32m----> 1\u001b[0;31m \u001b[0mmat_ex1\u001b[0m\u001b[0;34m+\u001b[0m\u001b[0mmat_ex0\u001b[0m\u001b[0;34m\u001b[0m\u001b[0;34m\u001b[0m\u001b[0m\n\u001b[0m",
            "\u001b[0;31mValueError\u001b[0m: operands could not be broadcast together with shapes (2,3) (2,2) "
          ]
        }
      ]
    },
    {
      "cell_type": "markdown",
      "metadata": {
        "id": "1eXIXPiHZ81t"
      },
      "source": [
        "การตรวจสอบขนาดของ matrix  "
      ]
    },
    {
      "cell_type": "code",
      "metadata": {
        "id": "6VO_yMWPaLeF",
        "colab": {
          "base_uri": "https://localhost:8080/"
        },
        "outputId": "7d10606a-80ee-4cd0-b2f1-3b9034d9879d"
      },
      "source": [
        "mat_ex3.shape"
      ],
      "execution_count": 41,
      "outputs": [
        {
          "output_type": "execute_result",
          "data": {
            "text/plain": [
              "(2, 3)"
            ]
          },
          "metadata": {
            "tags": []
          },
          "execution_count": 41
        }
      ]
    },
    {
      "cell_type": "code",
      "metadata": {
        "id": "VhlCUSV9aYHo",
        "colab": {
          "base_uri": "https://localhost:8080/"
        },
        "outputId": "a82aefa0-ffb1-4840-c109-6defc6164931"
      },
      "source": [
        "mat_ex3.shape[0]"
      ],
      "execution_count": 40,
      "outputs": [
        {
          "output_type": "execute_result",
          "data": {
            "text/plain": [
              "2"
            ]
          },
          "metadata": {
            "tags": []
          },
          "execution_count": 40
        }
      ]
    },
    {
      "cell_type": "markdown",
      "metadata": {
        "id": "WHCHyBVhbAMu"
      },
      "source": [
        "คูณ matrix"
      ]
    },
    {
      "cell_type": "code",
      "metadata": {
        "id": "QOlSVF8Qb3Yt",
        "colab": {
          "base_uri": "https://localhost:8080/"
        },
        "outputId": "b8a2e8a6-47a6-4831-f8ce-46cc6c558eca"
      },
      "source": [
        "print(mat_ex1)\r\n",
        "print(mat_ex2)"
      ],
      "execution_count": 39,
      "outputs": [
        {
          "output_type": "stream",
          "text": [
            "[[5.2 3.  4.5]\n",
            " [9.1 0.1 0.3]]\n",
            "[[ 2.   3.7  5.9]\n",
            " [91.   1.5  7.3]]\n"
          ],
          "name": "stdout"
        }
      ]
    },
    {
      "cell_type": "code",
      "metadata": {
        "id": "N1457FG_bkhN",
        "colab": {
          "base_uri": "https://localhost:8080/"
        },
        "outputId": "935dec14-cd62-4590-9a9a-8d84bad4866d"
      },
      "source": [
        "mat_ex1*mat_ex2 #อันนี้ไม่ถูก เป็นการคูณกันแบบเหมือนที่เราบวก,ลบธรรมดา"
      ],
      "execution_count": 38,
      "outputs": [
        {
          "output_type": "execute_result",
          "data": {
            "text/plain": [
              "array([[1.040e+01, 1.110e+01, 2.655e+01],\n",
              "       [8.281e+02, 1.500e-01, 2.190e+00]])"
            ]
          },
          "metadata": {
            "tags": []
          },
          "execution_count": 38
        }
      ]
    },
    {
      "cell_type": "markdown",
      "metadata": {
        "id": "gn_Y3njIer42"
      },
      "source": [
        "การคูณ matrix (แถวคูณหลัก)\r\n",
        "\r\n",
        "(หลักของ matrix ตัวข้างหน้า ต้องเท่ากับแถวของ matrix ตัวข้างหลัง)\r\n",
        "\r\n",
        "dot product ((AAA,x),(x,ZZZ))=(AAA,ZZZ)"
      ]
    },
    {
      "cell_type": "code",
      "metadata": {
        "id": "D27xOTaqcnPP",
        "colab": {
          "base_uri": "https://localhost:8080/",
          "height": 197
        },
        "outputId": "abcc3fe1-58e9-4539-883b-852423068eff"
      },
      "source": [
        "numpy.dot(mat_ex1,mat_ex2) #เพราะแถวกับหลักของทั้ง 2 matrix ไม่เท่ากัน"
      ],
      "execution_count": 37,
      "outputs": [
        {
          "output_type": "error",
          "ename": "ValueError",
          "evalue": "ignored",
          "traceback": [
            "\u001b[0;31m---------------------------------------------------------------------------\u001b[0m",
            "\u001b[0;31mValueError\u001b[0m                                Traceback (most recent call last)",
            "\u001b[0;32m<ipython-input-37-a08104674c9a>\u001b[0m in \u001b[0;36m<module>\u001b[0;34m()\u001b[0m\n\u001b[0;32m----> 1\u001b[0;31m \u001b[0mnumpy\u001b[0m\u001b[0;34m.\u001b[0m\u001b[0mdot\u001b[0m\u001b[0;34m(\u001b[0m\u001b[0mmat_ex1\u001b[0m\u001b[0;34m,\u001b[0m\u001b[0mmat_ex2\u001b[0m\u001b[0;34m)\u001b[0m \u001b[0;31m#เพราะแถวกับหลักของทั้ง 2 matrix ไม่เท่ากัน\u001b[0m\u001b[0;34m\u001b[0m\u001b[0;34m\u001b[0m\u001b[0m\n\u001b[0m",
            "\u001b[0;32m<__array_function__ internals>\u001b[0m in \u001b[0;36mdot\u001b[0;34m(*args, **kwargs)\u001b[0m\n",
            "\u001b[0;31mValueError\u001b[0m: shapes (2,3) and (2,3) not aligned: 3 (dim 1) != 2 (dim 0)"
          ]
        }
      ]
    },
    {
      "cell_type": "code",
      "metadata": {
        "id": "D73C2t2ygp5S",
        "colab": {
          "base_uri": "https://localhost:8080/"
        },
        "outputId": "70a58b48-a5cb-4faf-9c53-4f25001d33c3"
      },
      "source": [
        "mat_ex3=mat_ex1+mat_ex2 \r\n",
        "print(mat_ex3)\r\n",
        "mat_ex4=mat_ex1-mat_ex2 \r\n",
        "print(mat_ex4)"
      ],
      "execution_count": 36,
      "outputs": [
        {
          "output_type": "stream",
          "text": [
            "[[  7.2   6.7  10.4]\n",
            " [100.1   1.6   7.6]]\n",
            "[[  3.2  -0.7  -1.4]\n",
            " [-81.9  -1.4  -7. ]]\n"
          ],
          "name": "stdout"
        }
      ]
    },
    {
      "cell_type": "markdown",
      "metadata": {
        "id": "bJJ4i_EpgImu"
      },
      "source": [
        "Transpose กลับแถวเป็นหลักกลับหลักเป็นแถว\r\n",
        "\r\n",
        "```\r\n",
        "matrix.T\r\n",
        "```\r\n",
        "\r\n"
      ]
    },
    {
      "cell_type": "code",
      "metadata": {
        "id": "O3_CFNUihLKz",
        "colab": {
          "base_uri": "https://localhost:8080/"
        },
        "outputId": "cd0d4c64-5407-4039-d2ef-59690b66da10"
      },
      "source": [
        "print(mat_ex2)\r\n",
        "print(mat_ex2.shape)"
      ],
      "execution_count": 35,
      "outputs": [
        {
          "output_type": "stream",
          "text": [
            "[[ 2.   3.7  5.9]\n",
            " [91.   1.5  7.3]]\n",
            "(2, 3)\n"
          ],
          "name": "stdout"
        }
      ]
    },
    {
      "cell_type": "code",
      "metadata": {
        "id": "_IiynceEhKpn",
        "colab": {
          "base_uri": "https://localhost:8080/"
        },
        "outputId": "aab7c3a9-9264-4fd2-da4b-2b9247c8b055"
      },
      "source": [
        "print(mat_ex1)\r\n",
        "print(mat_ex1.shape)\r\n",
        "print(mat_ex2)\r\n",
        "print(mat_ex2.shape)"
      ],
      "execution_count": 34,
      "outputs": [
        {
          "output_type": "stream",
          "text": [
            "[[5.2 3.  4.5]\n",
            " [9.1 0.1 0.3]]\n",
            "(2, 3)\n",
            "[[ 2.   3.7  5.9]\n",
            " [91.   1.5  7.3]]\n",
            "(2, 3)\n"
          ],
          "name": "stdout"
        }
      ]
    },
    {
      "cell_type": "code",
      "metadata": {
        "id": "Xc5iRLUdhvMU",
        "colab": {
          "base_uri": "https://localhost:8080/"
        },
        "outputId": "ffc6b28b-5a02-4401-d887-88d10fa258ae"
      },
      "source": [
        "print(mat_ex2.T)\r\n",
        "print(mat_ex2.T.shape)"
      ],
      "execution_count": 33,
      "outputs": [
        {
          "output_type": "stream",
          "text": [
            "[[ 2.  91. ]\n",
            " [ 3.7  1.5]\n",
            " [ 5.9  7.3]]\n",
            "(3, 2)\n"
          ],
          "name": "stdout"
        }
      ]
    },
    {
      "cell_type": "code",
      "metadata": {
        "id": "WSOY1XPkgXPa",
        "colab": {
          "base_uri": "https://localhost:8080/"
        },
        "outputId": "bfc28509-b1a4-42ca-cb7f-6db91d5a178c"
      },
      "source": [
        "numpy.dot(mat_ex1,mat_ex2.T) #(2,3)(3,2)"
      ],
      "execution_count": 32,
      "outputs": [
        {
          "output_type": "execute_result",
          "data": {
            "text/plain": [
              "array([[ 48.05, 510.55],\n",
              "       [ 20.34, 830.44]])"
            ]
          },
          "metadata": {
            "tags": []
          },
          "execution_count": 32
        }
      ]
    },
    {
      "cell_type": "code",
      "metadata": {
        "id": "EAdxswDLh3b9",
        "colab": {
          "base_uri": "https://localhost:8080/"
        },
        "outputId": "648bc790-6c21-4a15-8416-faa75bc6bf8e"
      },
      "source": [
        "numpy.dot(mat_ex1.T,mat_ex2) #(3,2).(2,3)=(3,3)"
      ],
      "execution_count": 31,
      "outputs": [
        {
          "output_type": "execute_result",
          "data": {
            "text/plain": [
              "array([[838.5 ,  32.89,  97.11],\n",
              "       [ 15.1 ,  11.25,  18.43],\n",
              "       [ 36.3 ,  17.1 ,  28.74]])"
            ]
          },
          "metadata": {
            "tags": []
          },
          "execution_count": 31
        }
      ]
    },
    {
      "cell_type": "markdown",
      "metadata": {
        "id": "tgnAnyr4i5Sc"
      },
      "source": [
        "HW4 อธิบายการหา Determinant และ Inverse matrix (รูปและคำอธิบาย)"
      ]
    },
    {
      "cell_type": "markdown",
      "metadata": {
        "id": "QMal7x_3Z7JX"
      },
      "source": [
        ""
      ]
    }
  ]
}