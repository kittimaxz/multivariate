{
  "nbformat": 4,
  "nbformat_minor": 0,
  "metadata": {
    "colab": {
      "name": "Function_Numpy_Pandas.ipynb",
      "provenance": [],
      "authorship_tag": "ABX9TyO1H8GSxGErCk6ZF56KVFBe",
      "include_colab_link": true
    },
    "kernelspec": {
      "name": "python3",
      "display_name": "Python 3"
    }
  },
  "cells": [
    {
      "cell_type": "markdown",
      "metadata": {
        "id": "view-in-github",
        "colab_type": "text"
      },
      "source": [
        "<a href=\"https://colab.research.google.com/github/kittimaxz/multivariate/blob/main/Function_Numpy_Pandas.ipynb\" target=\"_parent\"><img src=\"https://colab.research.google.com/assets/colab-badge.svg\" alt=\"Open In Colab\"/></a>"
      ]
    },
    {
      "cell_type": "markdown",
      "metadata": {
        "id": "uU-h40EsSNuO"
      },
      "source": [
        "**Function**"
      ]
    },
    {
      "cell_type": "markdown",
      "metadata": {
        "id": "iqNbyYZrS5kk"
      },
      "source": [
        "\r\n",
        "     def  function_name(_Input_) :\r\n",
        "\r\n",
        "       do_something with _Input_  to produce  _Output_\r\n",
        "\r\n",
        "       return  _Output_\r\n"
      ]
    },
    {
      "cell_type": "markdown",
      "metadata": {
        "id": "8dnuVo5SkCpp"
      },
      "source": [
        "```blacklick กด ~ ค้าง,alt -9>6 (full keybord with number)"
      ]
    },
    {
      "cell_type": "markdown",
      "metadata": {
        "id": "0AKPhfWTT96W"
      },
      "source": [
        "function มีส่วนประกอบสำคัญทั้งหมด 4 ส่วน\r\n",
        "\r\n",
        "\r\n",
        "1. บอก python ว่าเราจะเขียนฟังก์ชั่น ชื่ออะไร def function_name(): (ขาดไม่ได้)\r\n",
        "2. กำหนดตัวแปรที่จะเป็น input Input (ขาดได้)\r\n",
        "3. ส่วนประมวลผล do_something with Input to get (ขาดไม่ได้)\r\n",
        "4. ส่วน output return Output (ขาดได้)\r\n",
        "\r\n",
        "เราใช้เว้นวรรค(indent) เพื่อบอกขอบเขตของ code"
      ]
    },
    {
      "cell_type": "markdown",
      "metadata": {
        "id": "iUBkQoysWMzQ"
      },
      "source": [
        "#### สร้างฟังก์ชั่น"
      ]
    },
    {
      "cell_type": "code",
      "metadata": {
        "colab": {
          "base_uri": "https://localhost:8080/"
        },
        "id": "HIXSeDSaU6EJ",
        "outputId": "a6b53de9-e565-432f-beca-d0dd369268e1"
      },
      "source": [
        "def print_name(name,surname,ID) :\r\n",
        "    st=f'=ชื่อ {name} นามสกุล {surname} ID {ID}' # code ในฟังก์ชั่นต้องเว้นวรรค\r\n",
        "    return st\r\n",
        "print('outside function')"
      ],
      "execution_count": 3,
      "outputs": [
        {
          "output_type": "stream",
          "text": [
            "outside function\n"
          ],
          "name": "stdout"
        }
      ]
    },
    {
      "cell_type": "markdown",
      "metadata": {
        "id": "Nl-NZNMsWu-L"
      },
      "source": [
        "การเรียกใช้ฟังก์ชั่น"
      ]
    },
    {
      "cell_type": "code",
      "metadata": {
        "colab": {
          "base_uri": "https://localhost:8080/",
          "height": 35
        },
        "id": "NTxPEc-pSBeC",
        "outputId": "e95d32e7-4f03-4882-fdb9-5743c3dc7b58"
      },
      "source": [
        "print_name('กิตติมา','อุปสุข','623021040-9')"
      ],
      "execution_count": 5,
      "outputs": [
        {
          "output_type": "execute_result",
          "data": {
            "application/vnd.google.colaboratory.intrinsic+json": {
              "type": "string"
            },
            "text/plain": [
              "'=ชื่อ กิตติมา นามสกุล อุปสุข ID 623021040-9'"
            ]
          },
          "metadata": {
            "tags": []
          },
          "execution_count": 5
        }
      ]
    },
    {
      "cell_type": "code",
      "metadata": {
        "colab": {
          "base_uri": "https://localhost:8080/"
        },
        "id": "TJqh9uAsXFEi",
        "outputId": "a0dd3975-2960-4977-90d5-e04778e60cfc"
      },
      "source": [
        "output_string = print_name('กิตติมา','อุปสุข','623021040-9')\r\n",
        "print(output_string)"
      ],
      "execution_count": 6,
      "outputs": [
        {
          "output_type": "stream",
          "text": [
            "=ชื่อ กิตติมา นามสกุล อุปสุข ID 623021040-9\n"
          ],
          "name": "stdout"
        }
      ]
    },
    {
      "cell_type": "markdown",
      "metadata": {
        "id": "HYb5WHvYXef3"
      },
      "source": [
        "ฟังก์ชั่นไม่จำเป็นต้องมี output"
      ]
    },
    {
      "cell_type": "code",
      "metadata": {
        "id": "300uKuqZXkSE"
      },
      "source": [
        "def print_name2(surname,ID,name) :\r\n",
        "    st=f' ชื่อ {name} นามสกุล {surname} รหัส {ID}'\r\n",
        "    print(st)"
      ],
      "execution_count": 12,
      "outputs": []
    },
    {
      "cell_type": "code",
      "metadata": {
        "colab": {
          "base_uri": "https://localhost:8080/"
        },
        "id": "syiHsc_8YBBh",
        "outputId": "35a969f9-755c-4f6f-8eb6-23cbea4a27e7"
      },
      "source": [
        "print_name2('กิตติมา','อุปสุข','623021040-9')"
      ],
      "execution_count": 13,
      "outputs": [
        {
          "output_type": "stream",
          "text": [
            " ชื่อ 623021040-9 นามสกุล กิตติมา รหัส อุปสุข\n"
          ],
          "name": "stdout"
        }
      ]
    },
    {
      "cell_type": "code",
      "metadata": {
        "colab": {
          "base_uri": "https://localhost:8080/"
        },
        "id": "ovMH5jwjYLSm",
        "outputId": "abec57d2-90d0-4eb7-c10a-9d8f7f23c236"
      },
      "source": [
        "op2=print_name2('กิตติมา','อุปสุข','623021040-9')"
      ],
      "execution_count": 14,
      "outputs": [
        {
          "output_type": "stream",
          "text": [
            " ชื่อ 623021040-9 นามสกุล กิตติมา รหัส อุปสุข\n"
          ],
          "name": "stdout"
        }
      ]
    },
    {
      "cell_type": "code",
      "metadata": {
        "colab": {
          "base_uri": "https://localhost:8080/"
        },
        "id": "1fvJCQdiYYsS",
        "outputId": "ff557272-fca1-4210-af24-bffe99a513d6"
      },
      "source": [
        "print(op2)"
      ],
      "execution_count": 15,
      "outputs": [
        {
          "output_type": "stream",
          "text": [
            "None\n"
          ],
          "name": "stdout"
        }
      ]
    },
    {
      "cell_type": "markdown",
      "metadata": {
        "id": "vRib1s-IY_MG"
      },
      "source": [
        "ฟังก์ชั่นไม่จำเป็นต้องมี input"
      ]
    },
    {
      "cell_type": "code",
      "metadata": {
        "id": "UepWeZlhhhNJ"
      },
      "source": [
        "def Pi() :\r\n",
        "  return 3.14159265359"
      ],
      "execution_count": 57,
      "outputs": []
    },
    {
      "cell_type": "code",
      "metadata": {
        "colab": {
          "base_uri": "https://localhost:8080/"
        },
        "id": "tKDsIy12hg8d",
        "outputId": "56aa0626-601d-41e5-f9df-41a2409011e2"
      },
      "source": [
        "#คำนวณพื้นที่วงกลมมที่มีขนาดเส้นผ่านศูนย์กลางเท่ากับ 3\r\n",
        "Pi()*(1.5**2)"
      ],
      "execution_count": 58,
      "outputs": [
        {
          "output_type": "execute_result",
          "data": {
            "text/plain": [
              "7.0685834705775"
            ]
          },
          "metadata": {
            "tags": []
          },
          "execution_count": 58
        }
      ]
    },
    {
      "cell_type": "code",
      "metadata": {
        "id": "8b39z4TkZvBA"
      },
      "source": [
        "def print_my_name() :\r\n",
        "    print('กิตติมา อุปสุข 623021040-9')"
      ],
      "execution_count": 22,
      "outputs": []
    },
    {
      "cell_type": "code",
      "metadata": {
        "colab": {
          "base_uri": "https://localhost:8080/"
        },
        "id": "xLVtDdVNZ9PR",
        "outputId": "8bb25212-8538-476f-b709-b83c36181075"
      },
      "source": [
        "print_my_name()"
      ],
      "execution_count": 23,
      "outputs": [
        {
          "output_type": "stream",
          "text": [
            "กิตติมา อุปสุข 623021040-9\n"
          ],
          "name": "stdout"
        }
      ]
    },
    {
      "cell_type": "markdown",
      "metadata": {
        "id": "s2Rb7EA-aPeb"
      },
      "source": [
        "input ของ function ใน python มีสองแบบ input ที่จำเป็นต้องใส่ (มีค่า default) เราต้องเรียง input ที่จำเป็นต้องใส่ขึ้นก่อน "
      ]
    },
    {
      "cell_type": "markdown",
      "metadata": {
        "id": "_fOx2apFbktM"
      },
      "source": [
        "เราต้องเรียง input  ที่จำเป็นต้องใส่ขึ้นก่อน"
      ]
    },
    {
      "cell_type": "code",
      "metadata": {
        "id": "mmrOn-hQawCy"
      },
      "source": [
        "def print_2lines_default(name,surname,ID,grade='F') :\r\n",
        "    st=f'ชื่อ {name} นามสกุล {surname} รหัส {ID}'\r\n",
        "    print(st)\r\n",
        "    st2=f'เกรดวิชา Multivariate >>> {grade}'\r\n",
        "    print(st2)"
      ],
      "execution_count": 36,
      "outputs": []
    },
    {
      "cell_type": "code",
      "metadata": {
        "colab": {
          "base_uri": "https://localhost:8080/"
        },
        "id": "oCF8mPULbpcR",
        "outputId": "e1c827bb-8c6d-4e39-ad1a-5a323c3a6310"
      },
      "source": [
        "print_2lines_default('กิตติมา','อุปสุข','623021040-9')"
      ],
      "execution_count": 37,
      "outputs": [
        {
          "output_type": "stream",
          "text": [
            "ชื่อ กิตติมา นามสกุล อุปสุข รหัส 623021040-9\n",
            "เกรดวิชา Multivariate >>> F\n"
          ],
          "name": "stdout"
        }
      ]
    },
    {
      "cell_type": "code",
      "metadata": {
        "colab": {
          "base_uri": "https://localhost:8080/"
        },
        "id": "gupQ5eXyi3iH",
        "outputId": "7e7933e2-30b6-4be8-953e-4deea160c931"
      },
      "source": [
        "print_2lines_default('กิตติมา','อุปสุข','623021040-9','A')"
      ],
      "execution_count": 59,
      "outputs": [
        {
          "output_type": "stream",
          "text": [
            "ชื่อ กิตติมา นามสกุล อุปสุข รหัส 623021040-9\n",
            "เกรดวิชา Multivariate >>> A\n"
          ],
          "name": "stdout"
        }
      ]
    },
    {
      "cell_type": "markdown",
      "metadata": {
        "id": "wdEZvu6XccHK"
      },
      "source": [
        "เราสามารถเรียกฟังก์ชั่นโดยใช้ชื่อตัวแปรของฟังก์ชั่นช่วยได้"
      ]
    },
    {
      "cell_type": "code",
      "metadata": {
        "colab": {
          "base_uri": "https://localhost:8080/"
        },
        "id": "FKHwM6L5bp_A",
        "outputId": "3ea25787-405b-4c43-d19b-4c83e171bbfb"
      },
      "source": [
        "print_name2(name='กิตติมา', surname='อุปสุข', ID='623021040-9')"
      ],
      "execution_count": 33,
      "outputs": [
        {
          "output_type": "stream",
          "text": [
            " ชื่อ กิตติมา นามสกุล อุปสุข รหัส 623021040-9\n"
          ],
          "name": "stdout"
        }
      ]
    },
    {
      "cell_type": "markdown",
      "metadata": {
        "id": "IaG0ybqJc1Wx"
      },
      "source": [
        "HW3 ให้เขียน function คำนวณจำนวนวินาทีจากเวลาต่อไปนี้\r\n",
        "\r\n",
        "'14-15-31'\r\n",
        "\r\n",
        "'13-00-01'\r\n",
        "\r\n",
        "'05-49-44'\r\n",
        "\r\n",
        "'00-00-16'\r\n",
        "\r\n",
        "และ print ให้สวยงาม"
      ]
    }
  ]
}