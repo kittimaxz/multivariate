{
  "nbformat": 4,
  "nbformat_minor": 0,
  "metadata": {
    "colab": {
      "name": "python101.ipynb",
      "provenance": [],
      "authorship_tag": "ABX9TyPZHg86mgcwO2xCCwgFDV+Q",
      "include_colab_link": true
    },
    "kernelspec": {
      "name": "python3",
      "display_name": "Python 3"
    }
  },
  "cells": [
    {
      "cell_type": "markdown",
      "metadata": {
        "id": "view-in-github",
        "colab_type": "text"
      },
      "source": [
        "<a href=\"https://colab.research.google.com/github/kittimaxz/multivariate/blob/main/python101.ipynb\" target=\"_parent\"><img src=\"https://colab.research.google.com/assets/colab-badge.svg\" alt=\"Open In Colab\"/></a>"
      ]
    },
    {
      "cell_type": "markdown",
      "metadata": {
        "id": "cbBEXdH5LguB"
      },
      "source": [
        "ตัวแปร variable"
      ]
    },
    {
      "cell_type": "markdown",
      "metadata": {
        "id": "i8FKRNgtMBUV"
      },
      "source": [
        "หลักกการตั้งชื่อ\r\n",
        "1. ตั้งให้สื่อ\r\n",
        "2. ภาษาอังกฤษ\r\n",
        "3. ใช้เลขได้แต่ห้ามขึ้นด้วยตัวเลข\r\n",
        "4. ห้ามเว้นวรรค\r\n",
        "5. ตัวเล็กกับตัวใหญ่ไม่เหมือนกัน"
      ]
    },
    {
      "cell_type": "markdown",
      "metadata": {
        "id": "6H7xPkNdMtE6"
      },
      "source": [
        "มี output อยู่ 2 mode : ออกหน้าจอ กับ เข้าไปเก็บในตัวแปร"
      ]
    },
    {
      "cell_type": "code",
      "metadata": {
        "colab": {
          "base_uri": "https://localhost:8080/"
        },
        "id": "NpNvp_o_LtzT",
        "outputId": "d122599b-b1c3-4e4e-bbf1-3011a3e878f9"
      },
      "source": [
        " 3.14159 #hastag หรือ shap # คือ comment >>> อันนี้คือ output ที่ออกหน้าจอ จะไม่ถูกจัดเก็บไว้ หากต้องการใช้งานก็ต้องพิมพ์ใหม่อีกรอบ"
      ],
      "execution_count": 44,
      "outputs": [
        {
          "output_type": "execute_result",
          "data": {
            "text/plain": [
              "3.14159"
            ]
          },
          "metadata": {
            "tags": []
          },
          "execution_count": 44
        }
      ]
    },
    {
      "cell_type": "code",
      "metadata": {
        "id": "WL1ZmUD3QaSd"
      },
      "source": [
        "pi=3.14159 # อันนี้คือ output ที่เข้าไปอยู่ในตัวแปร "
      ],
      "execution_count": 45,
      "outputs": []
    },
    {
      "cell_type": "code",
      "metadata": {
        "colab": {
          "base_uri": "https://localhost:8080/"
        },
        "id": "EOubF8asQeKn",
        "outputId": "32e34d64-593d-40e3-9101-e06117d8a10f"
      },
      "source": [
        "pi "
      ],
      "execution_count": 46,
      "outputs": [
        {
          "output_type": "execute_result",
          "data": {
            "text/plain": [
              "3.14159"
            ]
          },
          "metadata": {
            "tags": []
          },
          "execution_count": 46
        }
      ]
    },
    {
      "cell_type": "code",
      "metadata": {
        "colab": {
          "base_uri": "https://localhost:8080/"
        },
        "id": "5Jp6ao_KNgXV",
        "outputId": "41b6acab-b3b5-444e-9ff2-e5027219aa95"
      },
      "source": [
        "a=1234567 # a มีค่าและสามารถแสดงผลได้\r\n",
        "print(a) # คำสั่ง print คือการแสดงผล  ในตัวอย่างนี้มี 2 อย่างคือการรับค่าและการแสดงผลข้อมูล"
      ],
      "execution_count": 47,
      "outputs": [
        {
          "output_type": "stream",
          "text": [
            "1234567\n"
          ],
          "name": "stdout"
        }
      ]
    },
    {
      "cell_type": "markdown",
      "metadata": {
        "id": "m7mzGfI5OZ2E"
      },
      "source": [
        "ชนิดของตัวแปร มี 3 ชนิด"
      ]
    },
    {
      "cell_type": "markdown",
      "metadata": {
        "id": "kwakSNLwOzw8"
      },
      "source": [
        "จำนวนเต็ม (integer,int)"
      ]
    },
    {
      "cell_type": "code",
      "metadata": {
        "colab": {
          "base_uri": "https://localhost:8080/"
        },
        "id": "4e2blVekO17y",
        "outputId": "73cc2c09-562f-4c87-e0b1-22c5c84cac58"
      },
      "source": [
        "aaa=1092\r\n",
        "print(aaa)"
      ],
      "execution_count": 48,
      "outputs": [
        {
          "output_type": "stream",
          "text": [
            "1092\n"
          ],
          "name": "stdout"
        }
      ]
    },
    {
      "cell_type": "markdown",
      "metadata": {
        "id": "f7ZwO8JaO_an"
      },
      "source": [
        "จำนวนจริง(float)"
      ]
    },
    {
      "cell_type": "code",
      "metadata": {
        "colab": {
          "base_uri": "https://localhost:8080/"
        },
        "id": "znhesB-SPFYy",
        "outputId": "f2af7342-feef-49d6-d7ea-afc78ce05a6f"
      },
      "source": [
        "bbb=11.\r\n",
        "print(bbb)"
      ],
      "execution_count": 49,
      "outputs": [
        {
          "output_type": "stream",
          "text": [
            "11.0\n"
          ],
          "name": "stdout"
        }
      ]
    },
    {
      "cell_type": "markdown",
      "metadata": {
        "id": "uzsTngPzPMON"
      },
      "source": [
        "ตัวอักษร-ข้อความ (character และ text,string)"
      ]
    },
    {
      "cell_type": "code",
      "metadata": {
        "colab": {
          "base_uri": "https://localhost:8080/"
        },
        "id": "UpNraxs2PYl1",
        "outputId": "64a6f3f2-4709-4f76-8b93-f1c3aa67946b"
      },
      "source": [
        "ccc='123456' #เราใช้ single qute ' หรือ double quote \" ล้อมรอบตัวหนังสือเพื่อระบุว่าเป็น character-string (ใช้อะไรต้องปิดด้วยตัว)\r\n",
        "print(ccc)"
      ],
      "execution_count": 50,
      "outputs": [
        {
          "output_type": "stream",
          "text": [
            "123456\n"
          ],
          "name": "stdout"
        }
      ]
    },
    {
      "cell_type": "code",
      "metadata": {
        "colab": {
          "base_uri": "https://localhost:8080/"
        },
        "id": "xhIsFhHeQFF3",
        "outputId": "0abe806c-bb5a-40d6-b87e-8f77a24c2e0e"
      },
      "source": [
        "aaa+bbb #float + int = float "
      ],
      "execution_count": 51,
      "outputs": [
        {
          "output_type": "execute_result",
          "data": {
            "text/plain": [
              "1103.0"
            ]
          },
          "metadata": {
            "tags": []
          },
          "execution_count": 51
        }
      ]
    },
    {
      "cell_type": "code",
      "metadata": {
        "colab": {
          "base_uri": "https://localhost:8080/",
          "height": 163
        },
        "id": "VSSwV1HRQiui",
        "outputId": "b9daf5bf-6d01-428d-9812-f7ab8a19c9f0"
      },
      "source": [
        "bbb+ccc  #float + string ไม่สามารถบวกกันได้ หากอยากรู้ว่า error ตรงไหนให้ดูที่ TypeError"
      ],
      "execution_count": 52,
      "outputs": [
        {
          "output_type": "error",
          "ename": "TypeError",
          "evalue": "ignored",
          "traceback": [
            "\u001b[0;31m---------------------------------------------------------------------------\u001b[0m",
            "\u001b[0;31mTypeError\u001b[0m                                 Traceback (most recent call last)",
            "\u001b[0;32m<ipython-input-52-94e43cbe323b>\u001b[0m in \u001b[0;36m<module>\u001b[0;34m()\u001b[0m\n\u001b[0;32m----> 1\u001b[0;31m \u001b[0mbbb\u001b[0m\u001b[0;34m+\u001b[0m\u001b[0mccc\u001b[0m  \u001b[0;31m#float + string ไม่สามารถบวกกันได้ หากอยากรู้ว่า error ตรงไหนให้ดูที่ TypeError\u001b[0m\u001b[0;34m\u001b[0m\u001b[0;34m\u001b[0m\u001b[0m\n\u001b[0m",
            "\u001b[0;31mTypeError\u001b[0m: unsupported operand type(s) for +: 'float' and 'str'"
          ]
        }
      ]
    },
    {
      "cell_type": "code",
      "metadata": {
        "id": "WYdVQGGNQrcV"
      },
      "source": [
        "ddd='กิตติมา'\r\n",
        "print(ddd)"
      ],
      "execution_count": null,
      "outputs": []
    },
    {
      "cell_type": "markdown",
      "metadata": {
        "id": "EBIJ-Rn1QzLd"
      },
      "source": [
        "การเปลี่ยนชนิดของตัวแปร variable casting"
      ]
    },
    {
      "cell_type": "code",
      "metadata": {
        "id": "DmL11QT1Q9Uw"
      },
      "source": [
        "aaa+int (ccc)"
      ],
      "execution_count": null,
      "outputs": []
    },
    {
      "cell_type": "code",
      "metadata": {
        "id": "cn3h5OzURkoy"
      },
      "source": [
        "aaa+float (ccc)"
      ],
      "execution_count": null,
      "outputs": []
    },
    {
      "cell_type": "code",
      "metadata": {
        "id": "XHOkQDKqRpA7"
      },
      "source": [
        "str (aaa) #ในโน้ตบุ๊คอาจจะแสดงค่า แต่ในการใช้งานจริงจะไม่แสดงผลอะไร  ซึ่งเป็นการเรียกชื่อตัวแปรเฉยๆ"
      ],
      "execution_count": null,
      "outputs": []
    },
    {
      "cell_type": "markdown",
      "metadata": {
        "id": "hjnV50LnSJuT"
      },
      "source": [
        "# การดำเนินการ operation (operators +,-,*,/,%)"
      ]
    },
    {
      "cell_type": "code",
      "metadata": {
        "id": "j-fF7Eg_SY0i"
      },
      "source": [
        "a+b #eror เพราะไม่พบชื่อตัวแปร b "
      ],
      "execution_count": null,
      "outputs": []
    },
    {
      "cell_type": "code",
      "metadata": {
        "id": "VA6DSwwASxol"
      },
      "source": [
        "aaa+bbb"
      ],
      "execution_count": null,
      "outputs": []
    },
    {
      "cell_type": "code",
      "metadata": {
        "id": "0AP75qzfS1US"
      },
      "source": [
        "aaa-bbb"
      ],
      "execution_count": null,
      "outputs": []
    },
    {
      "cell_type": "code",
      "metadata": {
        "id": "xkzq5Gh8S4AN"
      },
      "source": [
        "ab=aaa*bbb\r\n",
        "print(ab)"
      ],
      "execution_count": null,
      "outputs": []
    },
    {
      "cell_type": "code",
      "metadata": {
        "id": "4hHifZwSS_Wx"
      },
      "source": [
        "ab+int(ccc)"
      ],
      "execution_count": null,
      "outputs": []
    },
    {
      "cell_type": "markdown",
      "metadata": {
        "id": "nCzafG-CTE40"
      },
      "source": [
        "% คือ modulo #การหารเอาเศษ"
      ]
    },
    {
      "cell_type": "code",
      "metadata": {
        "id": "JuOJ1umPTbHI"
      },
      "source": [
        "5%3"
      ],
      "execution_count": null,
      "outputs": []
    },
    {
      "cell_type": "code",
      "metadata": {
        "id": "fNkqtDg6TuDM"
      },
      "source": [
        "7%3"
      ],
      "execution_count": null,
      "outputs": []
    },
    {
      "cell_type": "markdown",
      "metadata": {
        "id": "YqxuOgftT0By"
      },
      "source": [
        "คำสั่ง print แบบพิเศษ(การ format string)"
      ]
    },
    {
      "cell_type": "code",
      "metadata": {
        "id": "OMlzL67xUCsT"
      },
      "source": [
        "print ('ตัวแปร') #สิ่งที่อยู่ภายในวงเล็บคือ ตัวแปร และ string "
      ],
      "execution_count": null,
      "outputs": []
    },
    {
      "cell_type": "code",
      "metadata": {
        "id": "IhKVArSVUc1M"
      },
      "source": [
        "print(f'% คือการหารเอาเศษ เช่น 7%3 = {7%3}') #เพิ่ม f หน้า 'string' c]t.=h {} ใส่ code"
      ],
      "execution_count": null,
      "outputs": []
    },
    {
      "cell_type": "code",
      "metadata": {
        "id": "HAzWGBG6U5sM"
      },
      "source": [
        "print(f'% คือการหารเอาเศษ เช่น 7%3 = {7%3} \\\r\n",
        "แต่ \\n/ คือการหารปกติ เช่น 7/3 = {7/3} \\\r\n",
        "และ \\n// คือการหารเอาส่วน เช่น 7//3 = {7//3} \\\r\n",
        "หรือ \\n ใช้ int() เพื่อหารเอาส่วน เช่น int(7/3)={int(7/3)}')   #/n คือการขึ้นบรรทัดใหม่ / ใช้ในการตัด code แต่ com จะไม่เห็น"
      ],
      "execution_count": null,
      "outputs": []
    },
    {
      "cell_type": "markdown",
      "metadata": {
        "id": "s8gToovYXFxf"
      },
      "source": [
        "DATA STRUCTURE (โครงสร้างข้อมูล)"
      ]
    },
    {
      "cell_type": "code",
      "metadata": {
        "id": "eKXWuoBpXbOp"
      },
      "source": [
        "[111,'c','งง',aaa] #สามารถสร้างหลายตัวในที่เก็บเดียวกัน"
      ],
      "execution_count": null,
      "outputs": []
    },
    {
      "cell_type": "markdown",
      "metadata": {
        "id": "D_QmYApxXNT4"
      },
      "source": [
        "List คือการเอาข้อมูลหลายๆตัวมาเรียงต่อกัน"
      ]
    },
    {
      "cell_type": "markdown",
      "metadata": {
        "id": "i5GMUMHajvRt"
      },
      "source": [
        "list สามารถสร้างได้ 2 แบบ ดังนี้"
      ]
    },
    {
      "cell_type": "markdown",
      "metadata": {
        "id": "WYxo5-hdXut1"
      },
      "source": [
        "แบบที่ 1 > square brackets"
      ]
    },
    {
      "cell_type": "code",
      "metadata": {
        "id": "OuioiDMrXtzI"
      },
      "source": [
        "list_a=[] #เรียกว่า list ว่าง\r\n",
        "print(list_a)"
      ],
      "execution_count": null,
      "outputs": []
    },
    {
      "cell_type": "code",
      "metadata": {
        "id": "VDAJUcVoX-tT"
      },
      "source": [
        "list_b=[111,'c','งง',aaa]\r\n",
        "print(list_b)"
      ],
      "execution_count": null,
      "outputs": []
    },
    {
      "cell_type": "markdown",
      "metadata": {
        "id": "ocKsCZCIj7SF"
      },
      "source": [
        "ลำดับที่อยู่ใน list มีความสำคัญ (ลำดับใน list เริ่มจาก 0,1,2,....)"
      ]
    },
    {
      "cell_type": "code",
      "metadata": {
        "id": "dS4tXO0JkMD7"
      },
      "source": [
        "list_b[2] #อันดับจะไม่มีการเปลี่ยนแปลง"
      ],
      "execution_count": null,
      "outputs": []
    },
    {
      "cell_type": "markdown",
      "metadata": {
        "id": "1BP9-bmxYH7v"
      },
      "source": [
        "แบบที่ 2"
      ]
    },
    {
      "cell_type": "code",
      "metadata": {
        "id": "gwW4_-o9YMqW"
      },
      "source": [
        "list_c=list() # เป็นการบอกว่าจะใส่คำสั่ง list \r\n",
        "print(list_c)"
      ],
      "execution_count": null,
      "outputs": []
    },
    {
      "cell_type": "markdown",
      "metadata": {
        "id": "oCROtHMSYczW"
      },
      "source": [
        "append () เพิ่มสมาชิกใน list"
      ]
    },
    {
      "cell_type": "code",
      "metadata": {
        "id": "9LB2XrCbYlSc"
      },
      "source": [
        "list_b.append('u') #เป็นคำสั่งที่สำคัญ\r\n",
        "print(list_b)"
      ],
      "execution_count": null,
      "outputs": []
    },
    {
      "cell_type": "markdown",
      "metadata": {
        "id": "1ZsYNqC0kp-U"
      },
      "source": [
        "ตัวที่อยู่ในวงเล็บหลังจากตัวแปร list เรียกว่า index ใช้สำหรับชี้ข้อมูลใน list  (ชี้ข้างหลัง,ชี้ข้างหน้า)"
      ]
    },
    {
      "cell_type": "markdown",
      "metadata": {
        "id": "wFTFwHTEks_B"
      },
      "source": [
        "0 คือสมาชิกตัวแรก,-1 คือสมาชิกตัวสุดท้าย"
      ]
    },
    {
      "cell_type": "code",
      "metadata": {
        "id": "WLYGa6B5Y3fk"
      },
      "source": [
        "list_b[-1] "
      ],
      "execution_count": null,
      "outputs": []
    },
    {
      "cell_type": "markdown",
      "metadata": {
        "id": "wuS3t_aNZjdG"
      },
      "source": [
        "string > list of characters"
      ]
    },
    {
      "cell_type": "code",
      "metadata": {
        "id": "OTwVm9dfZsvI"
      },
      "source": [
        "t= 'python is easy'\r\n",
        "print(t)"
      ],
      "execution_count": null,
      "outputs": []
    },
    {
      "cell_type": "code",
      "metadata": {
        "id": "T36Laj0FZ1pz"
      },
      "source": [
        "t[1]"
      ],
      "execution_count": null,
      "outputs": []
    },
    {
      "cell_type": "code",
      "metadata": {
        "id": "3cPR8-vrZ4jw"
      },
      "source": [
        "t[-4]"
      ],
      "execution_count": null,
      "outputs": []
    },
    {
      "cell_type": "code",
      "metadata": {
        "id": "b9Q28Ta4aHK7"
      },
      "source": [
        "t[6]"
      ],
      "execution_count": null,
      "outputs": []
    },
    {
      "cell_type": "markdown",
      "metadata": {
        "id": "13SIG2E9h2e5"
      },
      "source": [
        "จบ 5 ม.ค. 2564"
      ]
    },
    {
      "cell_type": "markdown",
      "metadata": {
        "id": "-9KOuE_gjTGt"
      },
      "source": [
        "คาบที่ 3 11 ม.ค 2564"
      ]
    },
    {
      "cell_type": "code",
      "metadata": {
        "id": "99Z_yWtnh67M",
        "outputId": "b0428c61-dc7d-4fc3-c371-35f4c6cd25d8",
        "colab": {
          "base_uri": "https://localhost:8080/"
        }
      },
      "source": [
        "len(t) "
      ],
      "execution_count": 42,
      "outputs": [
        {
          "output_type": "execute_result",
          "data": {
            "text/plain": [
              "14"
            ]
          },
          "metadata": {
            "tags": []
          },
          "execution_count": 42
        }
      ]
    },
    {
      "cell_type": "code",
      "metadata": {
        "id": "pQY4IcM6k51k",
        "outputId": "b7ea7d2a-c90a-4b5e-a915-4db6d0a7f12d",
        "colab": {
          "base_uri": "https://localhost:8080/"
        }
      },
      "source": [
        "list_b"
      ],
      "execution_count": 54,
      "outputs": [
        {
          "output_type": "execute_result",
          "data": {
            "text/plain": [
              "[111, 'c', 'งง', 1092, 'u']"
            ]
          },
          "metadata": {
            "tags": []
          },
          "execution_count": 54
        }
      ]
    },
    {
      "cell_type": "code",
      "metadata": {
        "id": "ZpbIrjImj1eN",
        "outputId": "223210ef-cd0d-45df-bd47-31aad753c244",
        "colab": {
          "base_uri": "https://localhost:8080/"
        }
      },
      "source": [
        "len(list_b) #len ตรวจสอบความยาวของ list (จำนวนสมาชิก)"
      ],
      "execution_count": 53,
      "outputs": [
        {
          "output_type": "execute_result",
          "data": {
            "text/plain": [
              "5"
            ]
          },
          "metadata": {
            "tags": []
          },
          "execution_count": 53
        }
      ]
    },
    {
      "cell_type": "code",
      "metadata": {
        "id": "ebo0fkxqlG1P",
        "outputId": "25b33634-528e-4d54-cb3f-5b5ccc9df44f",
        "colab": {
          "base_uri": "https://localhost:8080/"
        }
      },
      "source": [
        "list_b.append(t)\r\n",
        "print(list_b)"
      ],
      "execution_count": 73,
      "outputs": [
        {
          "output_type": "stream",
          "text": [
            "[111, 'c', 'งง', 1092, [], 'python is easy']\n"
          ],
          "name": "stdout"
        }
      ]
    },
    {
      "cell_type": "markdown",
      "metadata": {
        "id": "dr_FyN6xlgnG"
      },
      "source": [
        "ตัวที่อยู่ข้างใน [] เรียกว่า index (ตัวชี้)"
      ]
    },
    {
      "cell_type": "markdown",
      "metadata": {
        "id": "3JhWebcnlvUz"
      },
      "source": [
        "LIst slicing สามารถทำได้โดยการ"
      ]
    },
    {
      "cell_type": "code",
      "metadata": {
        "id": "WbuZqiq8l2iP",
        "outputId": "01f584a8-cdc0-4c4e-db77-c96f576bd1a8",
        "colab": {
          "base_uri": "https://localhost:8080/"
        }
      },
      "source": [
        "print(t)\r\n",
        "print(t[7:9])\r\n",
        "print(len(t[7:9]))"
      ],
      "execution_count": 59,
      "outputs": [
        {
          "output_type": "stream",
          "text": [
            "python is easy\n",
            "is\n",
            "2\n"
          ],
          "name": "stdout"
        }
      ]
    },
    {
      "cell_type": "code",
      "metadata": {
        "id": "0RLRNw8lnlbK",
        "outputId": "c2cd585b-b3ee-4f78-be16-e305eae6658e",
        "colab": {
          "base_uri": "https://localhost:8080/",
          "height": 35
        }
      },
      "source": [
        "t[0:14:2] #หากเพิ่ม : มา หมายความว่ามันจะกระโดดไป เช่น 2 คือเอาตั้งแต่0 -14 แต่ตัดไปที่่ละ 2"
      ],
      "execution_count": 60,
      "outputs": [
        {
          "output_type": "execute_result",
          "data": {
            "application/vnd.google.colaboratory.intrinsic+json": {
              "type": "string"
            },
            "text/plain": [
              "'pto ses'"
            ]
          },
          "metadata": {
            "tags": []
          },
          "execution_count": 60
        }
      ]
    },
    {
      "cell_type": "markdown",
      "metadata": {
        "id": "_ZFR1-izofvF"
      },
      "source": [
        "quiz\r\n",
        "ให้ใช้ list slicing เลือก"
      ]
    },
    {
      "cell_type": "code",
      "metadata": {
        "id": "Df_jHo19orkg",
        "outputId": "161bd6e1-0ec1-49cc-b8f9-0344b5b4e348",
        "colab": {
          "base_uri": "https://localhost:8080/"
        }
      },
      "source": [
        "z=[1,2,3,4,5,6,7,8,9,10]\r\n",
        "print(z[1:10:2])"
      ],
      "execution_count": 62,
      "outputs": [
        {
          "output_type": "stream",
          "text": [
            "[2, 4, 6, 8, 10]\n"
          ],
          "name": "stdout"
        }
      ]
    },
    {
      "cell_type": "markdown",
      "metadata": {
        "id": "N8nB9lFNoQM-"
      },
      "source": [
        "ถ้าเว้นว่างหน้า : หมายความว่า เริ่มตั้งแต่ตัวแรก(0)\r\n"
      ]
    },
    {
      "cell_type": "markdown",
      "metadata": {
        "id": "XioxryXqpTgo"
      },
      "source": [
        " ถ้าเว้นว่างหลัง : หมายความว่า ไปจนถึงตัวสุดท้าย (len(list))\r\n",
        "\r\n"
      ]
    },
    {
      "cell_type": "code",
      "metadata": {
        "id": "cBcc5J5XpJrY",
        "outputId": "e001786b-7007-4de0-b651-e725a63d4863",
        "colab": {
          "base_uri": "https://localhost:8080/"
        }
      },
      "source": [
        "print(t)\r\n",
        "print(t[:6])\r\n",
        "print(t[10:])\r\n",
        "print(t[-4:]) # index สามารถนับจากข้างหน้าได้ แต่ถ้าอยากได้จากข้างหลังก็ใส่เครื่องหมายติดลบ(-)\r\n",
        "print(t[:])"
      ],
      "execution_count": 63,
      "outputs": [
        {
          "output_type": "stream",
          "text": [
            "python is easy\n",
            "python\n",
            "easy\n",
            "easy\n",
            "python is easy\n"
          ],
          "name": "stdout"
        }
      ]
    },
    {
      "cell_type": "code",
      "metadata": {
        "id": "CL3T-lBAqPic",
        "outputId": "5fa59946-136f-4ea6-e39e-20ac68913c41",
        "colab": {
          "base_uri": "https://localhost:8080/"
        }
      },
      "source": [
        "print(z[::2])"
      ],
      "execution_count": 64,
      "outputs": [
        {
          "output_type": "stream",
          "text": [
            "[1, 3, 5, 7, 9]\n"
          ],
          "name": "stdout"
        }
      ]
    },
    {
      "cell_type": "markdown",
      "metadata": {
        "id": "b6FbVLK9r3hU"
      },
      "source": [
        "เราสามารถเอา list มาต่อกันได้ด้วย +"
      ]
    },
    {
      "cell_type": "code",
      "metadata": {
        "id": "IRcNCvdor-5f",
        "outputId": "c2a486b1-4688-4ec7-dbff-1c900d12af0d",
        "colab": {
          "base_uri": "https://localhost:8080/",
          "height": 35
        }
      },
      "source": [
        "t+'??'"
      ],
      "execution_count": 65,
      "outputs": [
        {
          "output_type": "execute_result",
          "data": {
            "application/vnd.google.colaboratory.intrinsic+json": {
              "type": "string"
            },
            "text/plain": [
              "'python is easy??'"
            ]
          },
          "metadata": {
            "tags": []
          },
          "execution_count": 65
        }
      ]
    },
    {
      "cell_type": "code",
      "metadata": {
        "id": "8RVk5HPqsGqH",
        "outputId": "044a534c-98cf-4bd0-8c7e-c72d752cc383",
        "colab": {
          "base_uri": "https://localhost:8080/",
          "height": 163
        }
      },
      "source": [
        "t+list_b #ไม่สามารถนำ list ปกติมาบวกต่อกับ string ได้"
      ],
      "execution_count": 66,
      "outputs": [
        {
          "output_type": "error",
          "ename": "TypeError",
          "evalue": "ignored",
          "traceback": [
            "\u001b[0;31m---------------------------------------------------------------------------\u001b[0m",
            "\u001b[0;31mTypeError\u001b[0m                                 Traceback (most recent call last)",
            "\u001b[0;32m<ipython-input-66-38fc1d5b01dc>\u001b[0m in \u001b[0;36m<module>\u001b[0;34m()\u001b[0m\n\u001b[0;32m----> 1\u001b[0;31m \u001b[0mt\u001b[0m\u001b[0;34m+\u001b[0m\u001b[0mlist_b\u001b[0m\u001b[0;34m\u001b[0m\u001b[0;34m\u001b[0m\u001b[0m\n\u001b[0m",
            "\u001b[0;31mTypeError\u001b[0m: must be str, not list"
          ]
        }
      ]
    },
    {
      "cell_type": "code",
      "metadata": {
        "id": "If5pvkFKsVR_",
        "outputId": "cadba126-b68c-4cb8-8b27-5abce823fa99",
        "colab": {
          "base_uri": "https://localhost:8080/"
        }
      },
      "source": [
        "print(list_a)\r\n",
        "list_b=[111,'c','งง',aaa]\r\n",
        "print(list_b)\r\n",
        "print(list_b + list_a) #การเอาสมาชิกมารวมกัน"
      ],
      "execution_count": 71,
      "outputs": [
        {
          "output_type": "stream",
          "text": [
            "[]\n",
            "[111, 'c', 'งง', 1092]\n",
            "[111, 'c', 'งง', 1092]\n"
          ],
          "name": "stdout"
        }
      ]
    },
    {
      "cell_type": "code",
      "metadata": {
        "id": "zkTMfVRwtFmz",
        "outputId": "55536e9d-c79f-4c4a-c918-8263ccd9654e",
        "colab": {
          "base_uri": "https://localhost:8080/"
        }
      },
      "source": [
        "list_b. append(list_a)\r\n",
        "print(list_b)"
      ],
      "execution_count": 72,
      "outputs": [
        {
          "output_type": "stream",
          "text": [
            "[111, 'c', 'งง', 1092, []]\n"
          ],
          "name": "stdout"
        }
      ]
    },
    {
      "cell_type": "markdown",
      "metadata": {
        "id": "y9jrmw3zt3cU"
      },
      "source": [
        "การแบ่ง string ตามสัญลักษณ์ที่กำหนด -> split string"
      ]
    },
    {
      "cell_type": "code",
      "metadata": {
        "id": "eN4j-yz-uKYv",
        "outputId": "eb1c1d9c-74ec-4e6a-cc11-c4d06d501e3c",
        "colab": {
          "base_uri": "https://localhost:8080/",
          "height": 35
        }
      },
      "source": [
        "t"
      ],
      "execution_count": 74,
      "outputs": [
        {
          "output_type": "execute_result",
          "data": {
            "application/vnd.google.colaboratory.intrinsic+json": {
              "type": "string"
            },
            "text/plain": [
              "'python is easy'"
            ]
          },
          "metadata": {
            "tags": []
          },
          "execution_count": 74
        }
      ]
    },
    {
      "cell_type": "code",
      "metadata": {
        "id": "AdtbbV97uMfd",
        "outputId": "6f2a58e3-bad0-4482-d941-3f27059c94d4",
        "colab": {
          "base_uri": "https://localhost:8080/"
        }
      },
      "source": [
        "t.split(' ') #สามารถ text ได้ตามสัญลักษณ์ โดยจะตัดตามที่เป็นช่องว่าง"
      ],
      "execution_count": 75,
      "outputs": [
        {
          "output_type": "execute_result",
          "data": {
            "text/plain": [
              "['python', 'is', 'easy']"
            ]
          },
          "metadata": {
            "tags": []
          },
          "execution_count": 75
        }
      ]
    },
    {
      "cell_type": "code",
      "metadata": {
        "id": "YTh-fNJouS7R"
      },
      "source": [
        "time='12:30:15'"
      ],
      "execution_count": 89,
      "outputs": []
    },
    {
      "cell_type": "code",
      "metadata": {
        "id": "vXa5L88PvAqH",
        "outputId": "de3b5ac3-8134-4854-e008-dc0aade55035",
        "colab": {
          "base_uri": "https://localhost:8080/"
        }
      },
      "source": [
        "time.split(':')"
      ],
      "execution_count": 91,
      "outputs": [
        {
          "output_type": "execute_result",
          "data": {
            "text/plain": [
              "['12', '30', '15']"
            ]
          },
          "metadata": {
            "tags": []
          },
          "execution_count": 91
        }
      ]
    },
    {
      "cell_type": "code",
      "metadata": {
        "id": "AfvyhbZgvI5P",
        "outputId": "61f09c22-96e6-4af4-931f-a43ba5f22900",
        "colab": {
          "base_uri": "https://localhost:8080/"
        }
      },
      "source": [
        "t_sp=t.split(' ')\r\n",
        "print(t_sp)"
      ],
      "execution_count": 84,
      "outputs": [
        {
          "output_type": "stream",
          "text": [
            "['python', 'is', 'easy']\n"
          ],
          "name": "stdout"
        }
      ]
    },
    {
      "cell_type": "code",
      "metadata": {
        "id": "gN4tX-jwveoZ",
        "outputId": "cd08b684-954a-401f-b19c-85571afe6998",
        "colab": {
          "base_uri": "https://localhost:8080/"
        }
      },
      "source": [
        "#วิธีการรวมกัน\r\n",
        "print(':'.join(t_sp))"
      ],
      "execution_count": 86,
      "outputs": [
        {
          "output_type": "stream",
          "text": [
            "python:is:easy\n"
          ],
          "name": "stdout"
        }
      ]
    }
  ]
}