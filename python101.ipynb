{
  "nbformat": 4,
  "nbformat_minor": 0,
  "metadata": {
    "colab": {
      "name": "python101.ipynb",
      "provenance": [],
      "authorship_tag": "ABX9TyNO4LdN7r3emM6R/b7yTpzj",
      "include_colab_link": true
    },
    "kernelspec": {
      "name": "python3",
      "display_name": "Python 3"
    }
  },
  "cells": [
    {
      "cell_type": "markdown",
      "metadata": {
        "id": "view-in-github",
        "colab_type": "text"
      },
      "source": [
        "<a href=\"https://colab.research.google.com/github/kittimaxz/multivariate/blob/main/python101.ipynb\" target=\"_parent\"><img src=\"https://colab.research.google.com/assets/colab-badge.svg\" alt=\"Open In Colab\"/></a>"
      ]
    },
    {
      "cell_type": "markdown",
      "metadata": {
        "id": "cbBEXdH5LguB"
      },
      "source": [
        "ตัวแปร variable"
      ]
    },
    {
      "cell_type": "markdown",
      "metadata": {
        "id": "i8FKRNgtMBUV"
      },
      "source": [
        "หลักกการตั้งชื่อ\r\n",
        "1. ตั้งให้สื่อ\r\n",
        "2. ภาษาอังกฤษ\r\n",
        "3. ใช้เลขได้แต่ห้ามขึ้นด้วยตัวเลข\r\n",
        "4. ห้ามเว้นวรรค\r\n",
        "5. ตัวเล็กกับตัวใหญ่ไม่เหมือนกัน"
      ]
    },
    {
      "cell_type": "markdown",
      "metadata": {
        "id": "6H7xPkNdMtE6"
      },
      "source": [
        "มี output อยู่ 2 mode : ออกหน้าจอ กับ เข้าไปเก็บในตัวแปร"
      ]
    },
    {
      "cell_type": "code",
      "metadata": {
        "colab": {
          "base_uri": "https://localhost:8080/"
        },
        "id": "NpNvp_o_LtzT",
        "outputId": "d122599b-b1c3-4e4e-bbf1-3011a3e878f9"
      },
      "source": [
        " 3.14159 #hastag หรือ shap # คือ comment >>> อันนี้คือ output ที่ออกหน้าจอ จะไม่ถูกจัดเก็บไว้ หากต้องการใช้งานก็ต้องพิมพ์ใหม่อีกรอบ"
      ],
      "execution_count": null,
      "outputs": [
        {
          "output_type": "execute_result",
          "data": {
            "text/plain": [
              "3.14159"
            ]
          },
          "metadata": {
            "tags": []
          },
          "execution_count": 44
        }
      ]
    },
    {
      "cell_type": "code",
      "metadata": {
        "id": "WL1ZmUD3QaSd"
      },
      "source": [
        "pi=3.14159 # อันนี้คือ output ที่เข้าไปอยู่ในตัวแปร "
      ],
      "execution_count": null,
      "outputs": []
    },
    {
      "cell_type": "code",
      "metadata": {
        "colab": {
          "base_uri": "https://localhost:8080/"
        },
        "id": "EOubF8asQeKn",
        "outputId": "32e34d64-593d-40e3-9101-e06117d8a10f"
      },
      "source": [
        "pi "
      ],
      "execution_count": null,
      "outputs": [
        {
          "output_type": "execute_result",
          "data": {
            "text/plain": [
              "3.14159"
            ]
          },
          "metadata": {
            "tags": []
          },
          "execution_count": 46
        }
      ]
    },
    {
      "cell_type": "code",
      "metadata": {
        "colab": {
          "base_uri": "https://localhost:8080/"
        },
        "id": "5Jp6ao_KNgXV",
        "outputId": "41b6acab-b3b5-444e-9ff2-e5027219aa95"
      },
      "source": [
        "a=1234567 # a มีค่าและสามารถแสดงผลได้\r\n",
        "print(a) # คำสั่ง print คือการแสดงผล  ในตัวอย่างนี้มี 2 อย่างคือการรับค่าและการแสดงผลข้อมูล"
      ],
      "execution_count": null,
      "outputs": [
        {
          "output_type": "stream",
          "text": [
            "1234567\n"
          ],
          "name": "stdout"
        }
      ]
    },
    {
      "cell_type": "markdown",
      "metadata": {
        "id": "m7mzGfI5OZ2E"
      },
      "source": [
        "ชนิดของตัวแปร มี 3 ชนิด"
      ]
    },
    {
      "cell_type": "markdown",
      "metadata": {
        "id": "kwakSNLwOzw8"
      },
      "source": [
        "จำนวนเต็ม (integer,int)"
      ]
    },
    {
      "cell_type": "code",
      "metadata": {
        "colab": {
          "base_uri": "https://localhost:8080/"
        },
        "id": "4e2blVekO17y",
        "outputId": "73cc2c09-562f-4c87-e0b1-22c5c84cac58"
      },
      "source": [
        "aaa=1092\r\n",
        "print(aaa)"
      ],
      "execution_count": null,
      "outputs": [
        {
          "output_type": "stream",
          "text": [
            "1092\n"
          ],
          "name": "stdout"
        }
      ]
    },
    {
      "cell_type": "markdown",
      "metadata": {
        "id": "f7ZwO8JaO_an"
      },
      "source": [
        "จำนวนจริง(float)"
      ]
    },
    {
      "cell_type": "code",
      "metadata": {
        "colab": {
          "base_uri": "https://localhost:8080/"
        },
        "id": "znhesB-SPFYy",
        "outputId": "f2af7342-feef-49d6-d7ea-afc78ce05a6f"
      },
      "source": [
        "bbb=11.\r\n",
        "print(bbb)"
      ],
      "execution_count": null,
      "outputs": [
        {
          "output_type": "stream",
          "text": [
            "11.0\n"
          ],
          "name": "stdout"
        }
      ]
    },
    {
      "cell_type": "markdown",
      "metadata": {
        "id": "uzsTngPzPMON"
      },
      "source": [
        "ตัวอักษร-ข้อความ (character และ text,string)"
      ]
    },
    {
      "cell_type": "code",
      "metadata": {
        "colab": {
          "base_uri": "https://localhost:8080/"
        },
        "id": "UpNraxs2PYl1",
        "outputId": "64a6f3f2-4709-4f76-8b93-f1c3aa67946b"
      },
      "source": [
        "ccc='123456' #เราใช้ single qute ' หรือ double quote \" ล้อมรอบตัวหนังสือเพื่อระบุว่าเป็น character-string (ใช้อะไรต้องปิดด้วยตัว)\r\n",
        "print(ccc)"
      ],
      "execution_count": null,
      "outputs": [
        {
          "output_type": "stream",
          "text": [
            "123456\n"
          ],
          "name": "stdout"
        }
      ]
    },
    {
      "cell_type": "code",
      "metadata": {
        "colab": {
          "base_uri": "https://localhost:8080/"
        },
        "id": "xhIsFhHeQFF3",
        "outputId": "0abe806c-bb5a-40d6-b87e-8f77a24c2e0e"
      },
      "source": [
        "aaa+bbb #float + int = float "
      ],
      "execution_count": null,
      "outputs": [
        {
          "output_type": "execute_result",
          "data": {
            "text/plain": [
              "1103.0"
            ]
          },
          "metadata": {
            "tags": []
          },
          "execution_count": 51
        }
      ]
    },
    {
      "cell_type": "code",
      "metadata": {
        "colab": {
          "base_uri": "https://localhost:8080/",
          "height": 163
        },
        "id": "VSSwV1HRQiui",
        "outputId": "b9daf5bf-6d01-428d-9812-f7ab8a19c9f0"
      },
      "source": [
        "bbb+ccc  #float + string ไม่สามารถบวกกันได้ หากอยากรู้ว่า error ตรงไหนให้ดูที่ TypeError"
      ],
      "execution_count": null,
      "outputs": [
        {
          "output_type": "error",
          "ename": "TypeError",
          "evalue": "ignored",
          "traceback": [
            "\u001b[0;31m---------------------------------------------------------------------------\u001b[0m",
            "\u001b[0;31mTypeError\u001b[0m                                 Traceback (most recent call last)",
            "\u001b[0;32m<ipython-input-52-94e43cbe323b>\u001b[0m in \u001b[0;36m<module>\u001b[0;34m()\u001b[0m\n\u001b[0;32m----> 1\u001b[0;31m \u001b[0mbbb\u001b[0m\u001b[0;34m+\u001b[0m\u001b[0mccc\u001b[0m  \u001b[0;31m#float + string ไม่สามารถบวกกันได้ หากอยากรู้ว่า error ตรงไหนให้ดูที่ TypeError\u001b[0m\u001b[0;34m\u001b[0m\u001b[0;34m\u001b[0m\u001b[0m\n\u001b[0m",
            "\u001b[0;31mTypeError\u001b[0m: unsupported operand type(s) for +: 'float' and 'str'"
          ]
        }
      ]
    },
    {
      "cell_type": "code",
      "metadata": {
        "id": "WYdVQGGNQrcV"
      },
      "source": [
        "ddd='กิตติมา'\r\n",
        "print(ddd)"
      ],
      "execution_count": null,
      "outputs": []
    },
    {
      "cell_type": "markdown",
      "metadata": {
        "id": "EBIJ-Rn1QzLd"
      },
      "source": [
        "การเปลี่ยนชนิดของตัวแปร variable casting"
      ]
    },
    {
      "cell_type": "code",
      "metadata": {
        "id": "DmL11QT1Q9Uw"
      },
      "source": [
        "aaa+int (ccc)"
      ],
      "execution_count": null,
      "outputs": []
    },
    {
      "cell_type": "code",
      "metadata": {
        "id": "cn3h5OzURkoy"
      },
      "source": [
        "aaa+float (ccc)"
      ],
      "execution_count": null,
      "outputs": []
    },
    {
      "cell_type": "code",
      "metadata": {
        "id": "XHOkQDKqRpA7"
      },
      "source": [
        "str (aaa) #ในโน้ตบุ๊คอาจจะแสดงค่า แต่ในการใช้งานจริงจะไม่แสดงผลอะไร  ซึ่งเป็นการเรียกชื่อตัวแปรเฉยๆ"
      ],
      "execution_count": null,
      "outputs": []
    },
    {
      "cell_type": "markdown",
      "metadata": {
        "id": "hjnV50LnSJuT"
      },
      "source": [
        "# การดำเนินการ operation (operators +,-,*,/,%)"
      ]
    },
    {
      "cell_type": "code",
      "metadata": {
        "id": "j-fF7Eg_SY0i"
      },
      "source": [
        "a+b #eror เพราะไม่พบชื่อตัวแปร b "
      ],
      "execution_count": null,
      "outputs": []
    },
    {
      "cell_type": "code",
      "metadata": {
        "id": "VA6DSwwASxol"
      },
      "source": [
        "aaa+bbb"
      ],
      "execution_count": null,
      "outputs": []
    },
    {
      "cell_type": "code",
      "metadata": {
        "id": "0AP75qzfS1US"
      },
      "source": [
        "aaa-bbb"
      ],
      "execution_count": null,
      "outputs": []
    },
    {
      "cell_type": "code",
      "metadata": {
        "id": "xkzq5Gh8S4AN"
      },
      "source": [
        "ab=aaa*bbb\r\n",
        "print(ab)"
      ],
      "execution_count": null,
      "outputs": []
    },
    {
      "cell_type": "code",
      "metadata": {
        "id": "4hHifZwSS_Wx"
      },
      "source": [
        "ab+int(ccc)"
      ],
      "execution_count": null,
      "outputs": []
    },
    {
      "cell_type": "markdown",
      "metadata": {
        "id": "nCzafG-CTE40"
      },
      "source": [
        "% คือ modulo #การหารเอาเศษ"
      ]
    },
    {
      "cell_type": "code",
      "metadata": {
        "id": "JuOJ1umPTbHI"
      },
      "source": [
        "5%3"
      ],
      "execution_count": null,
      "outputs": []
    },
    {
      "cell_type": "code",
      "metadata": {
        "id": "fNkqtDg6TuDM"
      },
      "source": [
        "7%3"
      ],
      "execution_count": null,
      "outputs": []
    },
    {
      "cell_type": "markdown",
      "metadata": {
        "id": "YqxuOgftT0By"
      },
      "source": [
        "คำสั่ง print แบบพิเศษ(การ format string)"
      ]
    },
    {
      "cell_type": "code",
      "metadata": {
        "id": "OMlzL67xUCsT"
      },
      "source": [
        "print ('ตัวแปร') #สิ่งที่อยู่ภายในวงเล็บคือ ตัวแปร และ string "
      ],
      "execution_count": null,
      "outputs": []
    },
    {
      "cell_type": "code",
      "metadata": {
        "id": "IhKVArSVUc1M"
      },
      "source": [
        "print(f'% คือการหารเอาเศษ เช่น 7%3 = {7%3}') #เพิ่ม f หน้า 'string' c]t.=h {} ใส่ code"
      ],
      "execution_count": null,
      "outputs": []
    },
    {
      "cell_type": "code",
      "metadata": {
        "id": "HAzWGBG6U5sM"
      },
      "source": [
        "print(f'% คือการหารเอาเศษ เช่น 7%3 = {7%3} \\\r\n",
        "แต่ \\n/ คือการหารปกติ เช่น 7/3 = {7/3} \\\r\n",
        "และ \\n// คือการหารเอาส่วน เช่น 7//3 = {7//3} \\\r\n",
        "หรือ \\n ใช้ int() เพื่อหารเอาส่วน เช่น int(7/3)={int(7/3)}')   #/n คือการขึ้นบรรทัดใหม่ / ใช้ในการตัด code แต่ com จะไม่เห็น"
      ],
      "execution_count": null,
      "outputs": []
    },
    {
      "cell_type": "markdown",
      "metadata": {
        "id": "s8gToovYXFxf"
      },
      "source": [
        "DATA STRUCTURE (โครงสร้างข้อมูล)"
      ]
    },
    {
      "cell_type": "code",
      "metadata": {
        "id": "eKXWuoBpXbOp"
      },
      "source": [
        "[111,'c','งง',aaa] #สามารถสร้างหลายตัวในที่เก็บเดียวกัน"
      ],
      "execution_count": null,
      "outputs": []
    },
    {
      "cell_type": "markdown",
      "metadata": {
        "id": "D_QmYApxXNT4"
      },
      "source": [
        "List คือการเอาข้อมูลหลายๆตัวมาเรียงต่อกัน"
      ]
    },
    {
      "cell_type": "markdown",
      "metadata": {
        "id": "i5GMUMHajvRt"
      },
      "source": [
        "list สามารถสร้างได้ 2 แบบ ดังนี้"
      ]
    },
    {
      "cell_type": "markdown",
      "metadata": {
        "id": "WYxo5-hdXut1"
      },
      "source": [
        "แบบที่ 1 > square brackets"
      ]
    },
    {
      "cell_type": "code",
      "metadata": {
        "id": "OuioiDMrXtzI"
      },
      "source": [
        "list_a=[] #เรียกว่า list ว่าง\r\n",
        "print(list_a)"
      ],
      "execution_count": null,
      "outputs": []
    },
    {
      "cell_type": "code",
      "metadata": {
        "id": "VDAJUcVoX-tT"
      },
      "source": [
        "list_b=[111,'c','งง',aaa]\r\n",
        "print(list_b)"
      ],
      "execution_count": null,
      "outputs": []
    },
    {
      "cell_type": "markdown",
      "metadata": {
        "id": "ocKsCZCIj7SF"
      },
      "source": [
        "ลำดับที่อยู่ใน list มีความสำคัญ (ลำดับใน list เริ่มจาก 0,1,2,....)"
      ]
    },
    {
      "cell_type": "code",
      "metadata": {
        "id": "dS4tXO0JkMD7"
      },
      "source": [
        "list_b[2] #อันดับจะไม่มีการเปลี่ยนแปลง"
      ],
      "execution_count": null,
      "outputs": []
    },
    {
      "cell_type": "markdown",
      "metadata": {
        "id": "1BP9-bmxYH7v"
      },
      "source": [
        "แบบที่ 2"
      ]
    },
    {
      "cell_type": "code",
      "metadata": {
        "id": "gwW4_-o9YMqW"
      },
      "source": [
        "list_c=list() # เป็นการบอกว่าจะใส่คำสั่ง list \r\n",
        "print(list_c)"
      ],
      "execution_count": null,
      "outputs": []
    },
    {
      "cell_type": "markdown",
      "metadata": {
        "id": "oCROtHMSYczW"
      },
      "source": [
        "append () เพิ่มสมาชิกใน list"
      ]
    },
    {
      "cell_type": "code",
      "metadata": {
        "id": "9LB2XrCbYlSc"
      },
      "source": [
        "list_b.append('u') #เป็นคำสั่งที่สำคัญ\r\n",
        "print(list_b)"
      ],
      "execution_count": null,
      "outputs": []
    },
    {
      "cell_type": "markdown",
      "metadata": {
        "id": "1ZsYNqC0kp-U"
      },
      "source": [
        "ตัวที่อยู่ในวงเล็บหลังจากตัวแปร list เรียกว่า index ใช้สำหรับชี้ข้อมูลใน list  (ชี้ข้างหลัง,ชี้ข้างหน้า)"
      ]
    },
    {
      "cell_type": "markdown",
      "metadata": {
        "id": "wFTFwHTEks_B"
      },
      "source": [
        "0 คือสมาชิกตัวแรก,-1 คือสมาชิกตัวสุดท้าย"
      ]
    },
    {
      "cell_type": "code",
      "metadata": {
        "id": "WLYGa6B5Y3fk"
      },
      "source": [
        "list_b[-1] "
      ],
      "execution_count": null,
      "outputs": []
    },
    {
      "cell_type": "markdown",
      "metadata": {
        "id": "wuS3t_aNZjdG"
      },
      "source": [
        "string > list of characters"
      ]
    },
    {
      "cell_type": "code",
      "metadata": {
        "id": "OTwVm9dfZsvI"
      },
      "source": [
        "t= 'python is easy'\r\n",
        "print(t)"
      ],
      "execution_count": null,
      "outputs": []
    },
    {
      "cell_type": "code",
      "metadata": {
        "id": "T36Laj0FZ1pz"
      },
      "source": [
        "t[1]"
      ],
      "execution_count": null,
      "outputs": []
    },
    {
      "cell_type": "code",
      "metadata": {
        "id": "3cPR8-vrZ4jw"
      },
      "source": [
        "t[-4]"
      ],
      "execution_count": null,
      "outputs": []
    },
    {
      "cell_type": "code",
      "metadata": {
        "id": "b9Q28Ta4aHK7"
      },
      "source": [
        "t[6]"
      ],
      "execution_count": null,
      "outputs": []
    },
    {
      "cell_type": "markdown",
      "metadata": {
        "id": "13SIG2E9h2e5"
      },
      "source": [
        "จบ 5 ม.ค. 2564"
      ]
    },
    {
      "cell_type": "markdown",
      "metadata": {
        "id": "-9KOuE_gjTGt"
      },
      "source": [
        "คาบที่ 3 11 ม.ค 2564"
      ]
    },
    {
      "cell_type": "code",
      "metadata": {
        "colab": {
          "base_uri": "https://localhost:8080/"
        },
        "id": "99Z_yWtnh67M",
        "outputId": "b0428c61-dc7d-4fc3-c371-35f4c6cd25d8"
      },
      "source": [
        "len(t) "
      ],
      "execution_count": null,
      "outputs": [
        {
          "output_type": "execute_result",
          "data": {
            "text/plain": [
              "14"
            ]
          },
          "metadata": {
            "tags": []
          },
          "execution_count": 42
        }
      ]
    },
    {
      "cell_type": "code",
      "metadata": {
        "colab": {
          "base_uri": "https://localhost:8080/"
        },
        "id": "pQY4IcM6k51k",
        "outputId": "b7ea7d2a-c90a-4b5e-a915-4db6d0a7f12d"
      },
      "source": [
        "list_b"
      ],
      "execution_count": null,
      "outputs": [
        {
          "output_type": "execute_result",
          "data": {
            "text/plain": [
              "[111, 'c', 'งง', 1092, 'u']"
            ]
          },
          "metadata": {
            "tags": []
          },
          "execution_count": 54
        }
      ]
    },
    {
      "cell_type": "code",
      "metadata": {
        "colab": {
          "base_uri": "https://localhost:8080/"
        },
        "id": "ZpbIrjImj1eN",
        "outputId": "223210ef-cd0d-45df-bd47-31aad753c244"
      },
      "source": [
        "len(list_b) #len ตรวจสอบความยาวของ list (จำนวนสมาชิก)"
      ],
      "execution_count": null,
      "outputs": [
        {
          "output_type": "execute_result",
          "data": {
            "text/plain": [
              "5"
            ]
          },
          "metadata": {
            "tags": []
          },
          "execution_count": 53
        }
      ]
    },
    {
      "cell_type": "code",
      "metadata": {
        "colab": {
          "base_uri": "https://localhost:8080/"
        },
        "id": "ebo0fkxqlG1P",
        "outputId": "25b33634-528e-4d54-cb3f-5b5ccc9df44f"
      },
      "source": [
        "list_b.append(t)\r\n",
        "print(list_b)"
      ],
      "execution_count": null,
      "outputs": [
        {
          "output_type": "stream",
          "text": [
            "[111, 'c', 'งง', 1092, [], 'python is easy']\n"
          ],
          "name": "stdout"
        }
      ]
    },
    {
      "cell_type": "markdown",
      "metadata": {
        "id": "dr_FyN6xlgnG"
      },
      "source": [
        "ตัวที่อยู่ข้างใน [ ] เรียกว่า index (ตัวชี้)"
      ]
    },
    {
      "cell_type": "markdown",
      "metadata": {
        "id": "3JhWebcnlvUz"
      },
      "source": [
        "LIst slicing สามารถทำได้โดยการเรียกใช้ colon :"
      ]
    },
    {
      "cell_type": "markdown",
      "metadata": {
        "id": "5lBNXmpphozO"
      },
      "source": [
        "[a:b] -> [a,b)"
      ]
    },
    {
      "cell_type": "markdown",
      "metadata": {
        "id": "JykN91UvhxWI"
      },
      "source": [
        "![unnamed.gif](data:image/gif;base64,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)"
      ]
    },
    {
      "cell_type": "code",
      "metadata": {
        "colab": {
          "base_uri": "https://localhost:8080/"
        },
        "id": "WbuZqiq8l2iP",
        "outputId": "01f584a8-cdc0-4c4e-db77-c96f576bd1a8"
      },
      "source": [
        "print(t)\r\n",
        "print(t[7:9])\r\n",
        "print(len(t[7:9]))"
      ],
      "execution_count": null,
      "outputs": [
        {
          "output_type": "stream",
          "text": [
            "python is easy\n",
            "is\n",
            "2\n"
          ],
          "name": "stdout"
        }
      ]
    },
    {
      "cell_type": "code",
      "metadata": {
        "colab": {
          "base_uri": "https://localhost:8080/",
          "height": 35
        },
        "id": "0RLRNw8lnlbK",
        "outputId": "c2cd585b-b3ee-4f78-be16-e305eae6658e"
      },
      "source": [
        "t[0:14:2] #หากเพิ่ม : มา หมายความว่ามันจะกระโดดไป เช่น 2 คือเอาตั้งแต่0 -14 แต่ตัดไปที่่ละ 2"
      ],
      "execution_count": null,
      "outputs": [
        {
          "output_type": "execute_result",
          "data": {
            "application/vnd.google.colaboratory.intrinsic+json": {
              "type": "string"
            },
            "text/plain": [
              "'pto ses'"
            ]
          },
          "metadata": {
            "tags": []
          },
          "execution_count": 60
        }
      ]
    },
    {
      "cell_type": "markdown",
      "metadata": {
        "id": "_ZFR1-izofvF"
      },
      "source": [
        "quiz\r\n",
        "ให้ใช้ list slicing เลือกเลขที่เป็นจำนวนเฉพาะ"
      ]
    },
    {
      "cell_type": "code",
      "metadata": {
        "colab": {
          "base_uri": "https://localhost:8080/"
        },
        "id": "Df_jHo19orkg",
        "outputId": "161bd6e1-0ec1-49cc-b8f9-0344b5b4e348"
      },
      "source": [
        "z=[1,2,3,4,5,6,7,8,9,10]\r\n",
        "print(z[1:10:2])"
      ],
      "execution_count": null,
      "outputs": [
        {
          "output_type": "stream",
          "text": [
            "[2, 4, 6, 8, 10]\n"
          ],
          "name": "stdout"
        }
      ]
    },
    {
      "cell_type": "markdown",
      "metadata": {
        "id": "N8nB9lFNoQM-"
      },
      "source": [
        "ถ้าเว้นว่างหน้า : หมายความว่า เริ่มตั้งแต่ตัวแรก(0)\r\n"
      ]
    },
    {
      "cell_type": "markdown",
      "metadata": {
        "id": "XioxryXqpTgo"
      },
      "source": [
        " ถ้าเว้นว่างหลัง : หมายความว่า ไปจนถึงตัวสุดท้าย (len(list))\r\n",
        "\r\n"
      ]
    },
    {
      "cell_type": "code",
      "metadata": {
        "colab": {
          "base_uri": "https://localhost:8080/"
        },
        "id": "cBcc5J5XpJrY",
        "outputId": "e001786b-7007-4de0-b651-e725a63d4863"
      },
      "source": [
        "print(t)\r\n",
        "print(t[:6])\r\n",
        "print(t[10:])\r\n",
        "print(t[-4:]) # index สามารถนับจากข้างหน้าได้ แต่ถ้าอยากได้จากข้างหลังก็ใส่เครื่องหมายติดลบ(-)\r\n",
        "print(t[:])"
      ],
      "execution_count": null,
      "outputs": [
        {
          "output_type": "stream",
          "text": [
            "python is easy\n",
            "python\n",
            "easy\n",
            "easy\n",
            "python is easy\n"
          ],
          "name": "stdout"
        }
      ]
    },
    {
      "cell_type": "code",
      "metadata": {
        "colab": {
          "base_uri": "https://localhost:8080/"
        },
        "id": "CL3T-lBAqPic",
        "outputId": "5fa59946-136f-4ea6-e39e-20ac68913c41"
      },
      "source": [
        "print(z[::2])"
      ],
      "execution_count": null,
      "outputs": [
        {
          "output_type": "stream",
          "text": [
            "[1, 3, 5, 7, 9]\n"
          ],
          "name": "stdout"
        }
      ]
    },
    {
      "cell_type": "markdown",
      "metadata": {
        "id": "b6FbVLK9r3hU"
      },
      "source": [
        "เราสามารถเอา list มาต่อกันได้ด้วย +"
      ]
    },
    {
      "cell_type": "code",
      "metadata": {
        "colab": {
          "base_uri": "https://localhost:8080/",
          "height": 35
        },
        "id": "IRcNCvdor-5f",
        "outputId": "c2a486b1-4688-4ec7-dbff-1c900d12af0d"
      },
      "source": [
        "t+'??'"
      ],
      "execution_count": null,
      "outputs": [
        {
          "output_type": "execute_result",
          "data": {
            "application/vnd.google.colaboratory.intrinsic+json": {
              "type": "string"
            },
            "text/plain": [
              "'python is easy??'"
            ]
          },
          "metadata": {
            "tags": []
          },
          "execution_count": 65
        }
      ]
    },
    {
      "cell_type": "code",
      "metadata": {
        "colab": {
          "base_uri": "https://localhost:8080/",
          "height": 163
        },
        "id": "8RVk5HPqsGqH",
        "outputId": "044a534c-98cf-4bd0-8c7e-c72d752cc383"
      },
      "source": [
        "t+list_b #ไม่สามารถนำ list ปกติมาบวกต่อกับ string ได้"
      ],
      "execution_count": null,
      "outputs": [
        {
          "output_type": "error",
          "ename": "TypeError",
          "evalue": "ignored",
          "traceback": [
            "\u001b[0;31m---------------------------------------------------------------------------\u001b[0m",
            "\u001b[0;31mTypeError\u001b[0m                                 Traceback (most recent call last)",
            "\u001b[0;32m<ipython-input-66-38fc1d5b01dc>\u001b[0m in \u001b[0;36m<module>\u001b[0;34m()\u001b[0m\n\u001b[0;32m----> 1\u001b[0;31m \u001b[0mt\u001b[0m\u001b[0;34m+\u001b[0m\u001b[0mlist_b\u001b[0m\u001b[0;34m\u001b[0m\u001b[0;34m\u001b[0m\u001b[0m\n\u001b[0m",
            "\u001b[0;31mTypeError\u001b[0m: must be str, not list"
          ]
        }
      ]
    },
    {
      "cell_type": "code",
      "metadata": {
        "colab": {
          "base_uri": "https://localhost:8080/"
        },
        "id": "If5pvkFKsVR_",
        "outputId": "cadba126-b68c-4cb8-8b27-5abce823fa99"
      },
      "source": [
        "print(list_a)\r\n",
        "list_b=[111,'c','งง',aaa]\r\n",
        "print(list_b)\r\n",
        "print(list_b + list_a) #การเอาสมาชิกมารวมกัน"
      ],
      "execution_count": null,
      "outputs": [
        {
          "output_type": "stream",
          "text": [
            "[]\n",
            "[111, 'c', 'งง', 1092]\n",
            "[111, 'c', 'งง', 1092]\n"
          ],
          "name": "stdout"
        }
      ]
    },
    {
      "cell_type": "code",
      "metadata": {
        "colab": {
          "base_uri": "https://localhost:8080/"
        },
        "id": "zkTMfVRwtFmz",
        "outputId": "55536e9d-c79f-4c4a-c918-8263ccd9654e"
      },
      "source": [
        "list_b. append(list_a)\r\n",
        "print(list_b)"
      ],
      "execution_count": null,
      "outputs": [
        {
          "output_type": "stream",
          "text": [
            "[111, 'c', 'งง', 1092, []]\n"
          ],
          "name": "stdout"
        }
      ]
    },
    {
      "cell_type": "markdown",
      "metadata": {
        "id": "y9jrmw3zt3cU"
      },
      "source": [
        "การแบ่ง string ตามสัญลักษณ์ที่กำหนด -> split string"
      ]
    },
    {
      "cell_type": "code",
      "metadata": {
        "colab": {
          "base_uri": "https://localhost:8080/",
          "height": 35
        },
        "id": "eN4j-yz-uKYv",
        "outputId": "eb1c1d9c-74ec-4e6a-cc11-c4d06d501e3c"
      },
      "source": [
        "t"
      ],
      "execution_count": null,
      "outputs": [
        {
          "output_type": "execute_result",
          "data": {
            "application/vnd.google.colaboratory.intrinsic+json": {
              "type": "string"
            },
            "text/plain": [
              "'python is easy'"
            ]
          },
          "metadata": {
            "tags": []
          },
          "execution_count": 74
        }
      ]
    },
    {
      "cell_type": "code",
      "metadata": {
        "colab": {
          "base_uri": "https://localhost:8080/"
        },
        "id": "AdtbbV97uMfd",
        "outputId": "6f2a58e3-bad0-4482-d941-3f27059c94d4"
      },
      "source": [
        "t.split(' ') #สามารถ text ได้ตามสัญลักษณ์ โดยจะตัดตามที่เป็นช่องว่าง"
      ],
      "execution_count": null,
      "outputs": [
        {
          "output_type": "execute_result",
          "data": {
            "text/plain": [
              "['python', 'is', 'easy']"
            ]
          },
          "metadata": {
            "tags": []
          },
          "execution_count": 75
        }
      ]
    },
    {
      "cell_type": "code",
      "metadata": {
        "id": "YTh-fNJouS7R"
      },
      "source": [
        "time='12:30:15'"
      ],
      "execution_count": null,
      "outputs": []
    },
    {
      "cell_type": "code",
      "metadata": {
        "colab": {
          "base_uri": "https://localhost:8080/"
        },
        "id": "vXa5L88PvAqH",
        "outputId": "de3b5ac3-8134-4854-e008-dc0aade55035"
      },
      "source": [
        "time.split(':')"
      ],
      "execution_count": null,
      "outputs": [
        {
          "output_type": "execute_result",
          "data": {
            "text/plain": [
              "['12', '30', '15']"
            ]
          },
          "metadata": {
            "tags": []
          },
          "execution_count": 91
        }
      ]
    },
    {
      "cell_type": "code",
      "metadata": {
        "colab": {
          "base_uri": "https://localhost:8080/"
        },
        "id": "AfvyhbZgvI5P",
        "outputId": "61f09c22-96e6-4af4-931f-a43ba5f22900"
      },
      "source": [
        "t_sp=t.split(' ')\r\n",
        "print(t_sp)"
      ],
      "execution_count": null,
      "outputs": [
        {
          "output_type": "stream",
          "text": [
            "['python', 'is', 'easy']\n"
          ],
          "name": "stdout"
        }
      ]
    },
    {
      "cell_type": "code",
      "metadata": {
        "colab": {
          "base_uri": "https://localhost:8080/"
        },
        "id": "gN4tX-jwveoZ",
        "outputId": "cd08b684-954a-401f-b19c-85571afe6998"
      },
      "source": [
        "#วิธีการรวมกัน\r\n",
        "print(':'.join(t_sp))"
      ],
      "execution_count": null,
      "outputs": [
        {
          "output_type": "stream",
          "text": [
            "python:is:easy\n"
          ],
          "name": "stdout"
        }
      ]
    },
    {
      "cell_type": "markdown",
      "metadata": {
        "id": "j7VAgrgGERVc"
      },
      "source": [
        "HW คำนวณเวลาเป็นวินาทีของเวลาต่อไปนี้โดยใช้คำสั่ง split() ช่วย (print ออกมาให้สวยงาม)                         \r\n",
        "12:30:15                 \r\n",
        "12:53:15                                \r\n",
        "00:59:25                                \r\n",
        "11:11:11                                \r\n",
        "16:06:09                                \r\n",
        "21:12:30                                \r\n",
        "10:06:15                                \r\n",
        "ตัวอย่าง > 00:01:10 = 70 วินาที        \r\n",
        "ตัวอย่าง > 01:00:01 = 3601 วินาที      \r\n"
      ]
    },
    {
      "cell_type": "code",
      "metadata": {
        "id": "3C-oQ5wcGGG0",
        "colab": {
          "base_uri": "https://localhost:8080/"
        },
        "outputId": "eb002812-a394-482d-f822-9a4a8ea4783a"
      },
      "source": [
        "q1='12:30:15'\r\n",
        "q1.split(':')\r\n",
        "list_q1=[12,30,15]\r\n",
        "z1=list_q1[0]*3600 #1 นาที = 60 วินาที ดังนัน 1 ชั่วโมง = 60*60 =3600 วินาที\r\n",
        "x1=list_q1[1]*60\r\n",
        "c1=list_q1[2]*1\r\n",
        "ans_q1=z1+x1+c1\r\n",
        "print(ans_q1)\r\n"
      ],
      "execution_count": null,
      "outputs": [
        {
          "output_type": "stream",
          "text": [
            "45015\n"
          ],
          "name": "stdout"
        }
      ]
    },
    {
      "cell_type": "code",
      "metadata": {
        "id": "HrxfUyimHBs_",
        "colab": {
          "base_uri": "https://localhost:8080/"
        },
        "outputId": "41387cfd-d486-4686-9286-88f3bbdf63a7"
      },
      "source": [
        "q2='13:41:07'\r\n",
        "q2.split(':')\r\n",
        "list_q2=[13,41,7]\r\n",
        "z2=list_q2[0]*3600 \r\n",
        "x2=list_q2[1]*60\r\n",
        "c2=list_q2[2]*1\r\n",
        "ans_q2=z2+x2+c2\r\n",
        "print(ans_q2)"
      ],
      "execution_count": null,
      "outputs": [
        {
          "output_type": "stream",
          "text": [
            "49267\n"
          ],
          "name": "stdout"
        }
      ]
    },
    {
      "cell_type": "code",
      "metadata": {
        "id": "e8TcMxSvPQTW",
        "colab": {
          "base_uri": "https://localhost:8080/"
        },
        "outputId": "c5c64a80-5124-4128-d97e-06c2e19e5276"
      },
      "source": [
        "q3='12:53:15'\r\n",
        "q3.split(':')\r\n",
        "list_q3=[12,53,15]\r\n",
        "z3=list_q3[0]*3600 \r\n",
        "x3=list_q3[1]*60\r\n",
        "c3=list_q3[2]*1\r\n",
        "ans_q3=z3+x3+c3\r\n",
        "print(ans_q3)"
      ],
      "execution_count": null,
      "outputs": [
        {
          "output_type": "stream",
          "text": [
            "46395\n"
          ],
          "name": "stdout"
        }
      ]
    },
    {
      "cell_type": "code",
      "metadata": {
        "id": "Z8mdSI-TPnw0",
        "colab": {
          "base_uri": "https://localhost:8080/"
        },
        "outputId": "863b9150-a105-4477-b4c8-494ee2a3af48"
      },
      "source": [
        "q4='00:59:25'\r\n",
        "q4.split(':')\r\n",
        "list_q4=[0,59,25]\r\n",
        "z4=list_q4[0]*3600 \r\n",
        "x4=list_q4[1]*60\r\n",
        "c4=list_q4[2]*1\r\n",
        "ans_q4=z4+x4+c4\r\n",
        "print(ans_q4)"
      ],
      "execution_count": null,
      "outputs": [
        {
          "output_type": "stream",
          "text": [
            "3565\n"
          ],
          "name": "stdout"
        }
      ]
    },
    {
      "cell_type": "code",
      "metadata": {
        "id": "gHY2_S0YP5mM",
        "colab": {
          "base_uri": "https://localhost:8080/"
        },
        "outputId": "4b2eb410-f00d-4eee-bc58-0f0b6b3092c9"
      },
      "source": [
        "q5='11:11:11'\r\n",
        "q5.split(':')\r\n",
        "list_q5=[11,11,11]\r\n",
        "z5=list_q5[0]*3600 \r\n",
        "x5=list_q5[1]*60\r\n",
        "c5=list_q5[2]*1\r\n",
        "ans_q5=z5+x5+c5\r\n",
        "print(ans_q5)"
      ],
      "execution_count": null,
      "outputs": [
        {
          "output_type": "stream",
          "text": [
            "40271\n"
          ],
          "name": "stdout"
        }
      ]
    },
    {
      "cell_type": "code",
      "metadata": {
        "id": "5kKBtvOwQGoT",
        "colab": {
          "base_uri": "https://localhost:8080/"
        },
        "outputId": "54af1052-348f-4dbf-d253-2678f98129b2"
      },
      "source": [
        "q6='16:06:09'\r\n",
        "q6.split(':')\r\n",
        "list_q6=[16,6,9]\r\n",
        "z6=list_q6[0]*3600 \r\n",
        "x6=list_q6[1]*60\r\n",
        "c6=list_q6[2]*1\r\n",
        "ans_q6=z6+x6+c6\r\n",
        "print(ans_q6)"
      ],
      "execution_count": null,
      "outputs": [
        {
          "output_type": "stream",
          "text": [
            "57969\n"
          ],
          "name": "stdout"
        }
      ]
    },
    {
      "cell_type": "code",
      "metadata": {
        "id": "-DpmBSVIQ1mq",
        "colab": {
          "base_uri": "https://localhost:8080/"
        },
        "outputId": "307f6fef-5704-4215-aa68-b7164bd23581"
      },
      "source": [
        "q7='21:12:30'\r\n",
        "q7.split(':')\r\n",
        "list_q7=[21,12,30]\r\n",
        "z7=list_q7[0]*3600 \r\n",
        "x7=list_q7[1]*60\r\n",
        "c7=list_q7[2]*1\r\n",
        "ans_q7=z7+x7+c7\r\n",
        "print(ans_q7)"
      ],
      "execution_count": null,
      "outputs": [
        {
          "output_type": "stream",
          "text": [
            "76350\n"
          ],
          "name": "stdout"
        }
      ]
    },
    {
      "cell_type": "code",
      "metadata": {
        "id": "UfbbLBJyRKtT",
        "colab": {
          "base_uri": "https://localhost:8080/"
        },
        "outputId": "490bd579-8122-4b58-a65f-02e05bc0c393"
      },
      "source": [
        "q8='10:06:15'\r\n",
        "q8.split(':')\r\n",
        "list_q8=[10,6,15]\r\n",
        "z8=list_q8[0]*3600 \r\n",
        "x8=list_q8[1]*60\r\n",
        "c8=list_q8[2]*1\r\n",
        "ans_q8=z8+x8+c8\r\n",
        "print(ans_q8)"
      ],
      "execution_count": null,
      "outputs": [
        {
          "output_type": "stream",
          "text": [
            "36375\n"
          ],
          "name": "stdout"
        }
      ]
    },
    {
      "cell_type": "markdown",
      "metadata": {
        "id": "5dvaUiFTOBzk"
      },
      "source": [
        "12 ม.ค. 2564"
      ]
    },
    {
      "cell_type": "markdown",
      "metadata": {
        "id": "1TuVI3PpOSsc"
      },
      "source": [
        "**เฉลยวิธีทำการบ้าน**"
      ]
    },
    {
      "cell_type": "code",
      "metadata": {
        "id": "Nv4XaeaNOHWE"
      },
      "source": [
        "q11='12:30:15'"
      ],
      "execution_count": null,
      "outputs": []
    },
    {
      "cell_type": "code",
      "metadata": {
        "id": "_cgRiq7ROYdy",
        "colab": {
          "base_uri": "https://localhost:8080/"
        },
        "outputId": "b946561a-d976-469f-8ceb-9fb52b221e19"
      },
      "source": [
        "q11_sp=q11.split(':')\r\n",
        "print(q11_sp)"
      ],
      "execution_count": null,
      "outputs": [
        {
          "output_type": "stream",
          "text": [
            "['12', '30', '15']\n"
          ],
          "name": "stdout"
        }
      ]
    },
    {
      "cell_type": "code",
      "metadata": {
        "id": "4A88md6-OtDS",
        "colab": {
          "base_uri": "https://localhost:8080/"
        },
        "outputId": "9f7a9e0e-cf67-45e0-b4b1-0e3ce050e18d"
      },
      "source": [
        "answer1=int(q11_sp[0])*3600+int(q11_sp[1])*60+int(q11_sp[2])\r\n",
        "print(answer1)"
      ],
      "execution_count": null,
      "outputs": [
        {
          "output_type": "stream",
          "text": [
            "45015\n"
          ],
          "name": "stdout"
        }
      ]
    },
    {
      "cell_type": "code",
      "metadata": {
        "id": "2MLLjyZlROh6",
        "colab": {
          "base_uri": "https://localhost:8080/"
        },
        "outputId": "38eda03d-0a90-4f09-bf61-8b59db04a650"
      },
      "source": [
        "print(f'เวลา {q11} คำนวณเป็นจำนวนวินาทีได้เป็น {answer1}')"
      ],
      "execution_count": null,
      "outputs": [
        {
          "output_type": "stream",
          "text": [
            "เวลา 12:30:15 คำนวณเป็นจำนวนวินาทีได้เป็น 45015\n"
          ],
          "name": "stdout"
        }
      ]
    },
    {
      "cell_type": "code",
      "metadata": {
        "id": "HxwjvdkcRvWj"
      },
      "source": [
        ""
      ],
      "execution_count": null,
      "outputs": []
    }
  ]
}