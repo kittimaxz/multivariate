{
  "nbformat": 4,
  "nbformat_minor": 0,
  "metadata": {
    "colab": {
      "name": "python101.ipynb",
      "provenance": [],
      "authorship_tag": "ABX9TyMZ2l47K2LfNmxIeai8JLOJ",
      "include_colab_link": true
    },
    "kernelspec": {
      "name": "python3",
      "display_name": "Python 3"
    }
  },
  "cells": [
    {
      "cell_type": "markdown",
      "metadata": {
        "id": "view-in-github",
        "colab_type": "text"
      },
      "source": [
        "<a href=\"https://colab.research.google.com/github/kittimaxz/multivariate/blob/main/python101.ipynb\" target=\"_parent\"><img src=\"https://colab.research.google.com/assets/colab-badge.svg\" alt=\"Open In Colab\"/></a>"
      ]
    },
    {
      "cell_type": "markdown",
      "metadata": {
        "id": "cbBEXdH5LguB"
      },
      "source": [
        "ตัวแปร variable"
      ]
    },
    {
      "cell_type": "markdown",
      "metadata": {
        "id": "i8FKRNgtMBUV"
      },
      "source": [
        "หลักกการตั้งชื่อ\r\n",
        "1. ตั้งให้สื่อ\r\n",
        "2. ภาษาอังกฤษ\r\n",
        "3. ใช้เลขได้แต่ห้ามขึ้นด้วยตัวเลข\r\n",
        "4. ห้ามเว้นวรรค\r\n",
        "5. ตัวเล็กกับตัวใหญ่ไม่เหมือนกัน"
      ]
    },
    {
      "cell_type": "markdown",
      "metadata": {
        "id": "6H7xPkNdMtE6"
      },
      "source": [
        "มี output อยู่ 2 mode : ออกหน้าจอ กับ เข้าไปเก็บในตัวแปร"
      ]
    },
    {
      "cell_type": "code",
      "metadata": {
        "colab": {
          "base_uri": "https://localhost:8080/"
        },
        "id": "NpNvp_o_LtzT",
        "outputId": "038692ea-b18c-441b-c1e5-671e7bdb4307"
      },
      "source": [
        " 3.14159 #hastag หรือ shap # คือ comment >>> อันนี้คือ output ที่ออกหน้าจอ จะไม่ถูกจัดเก็บไว้ หากต้องการใช้งานก็ต้องพิมพ์ใหม่อีกรอบ"
      ],
      "execution_count": null,
      "outputs": [
        {
          "output_type": "execute_result",
          "data": {
            "text/plain": [
              "3.14159"
            ]
          },
          "metadata": {
            "tags": []
          },
          "execution_count": 1
        }
      ]
    },
    {
      "cell_type": "code",
      "metadata": {
        "id": "WL1ZmUD3QaSd"
      },
      "source": [
        "pi=3.14159 # อันนี้คือ output ที่เข้าไปอยู่ในตัวแปร "
      ],
      "execution_count": null,
      "outputs": []
    },
    {
      "cell_type": "code",
      "metadata": {
        "colab": {
          "base_uri": "https://localhost:8080/"
        },
        "id": "EOubF8asQeKn",
        "outputId": "bf2b9b5a-5046-4597-cd16-81f85d8966b0"
      },
      "source": [
        "pi "
      ],
      "execution_count": null,
      "outputs": [
        {
          "output_type": "execute_result",
          "data": {
            "text/plain": [
              "3.14159"
            ]
          },
          "metadata": {
            "tags": []
          },
          "execution_count": 12
        }
      ]
    },
    {
      "cell_type": "code",
      "metadata": {
        "colab": {
          "base_uri": "https://localhost:8080/"
        },
        "id": "5Jp6ao_KNgXV",
        "outputId": "3ce3c303-f5bb-4d11-c3e7-d3e73ed0cb38"
      },
      "source": [
        "a=1234567 # a มีค่าและสามารถแสดงผลได้\r\n",
        "print(a) # คำสั่ง print คือการแสดงผล  ในตัวอย่างนี้มี 2 อย่างคือการรับค่าและการแสดงผลข้อมูล"
      ],
      "execution_count": null,
      "outputs": [
        {
          "output_type": "stream",
          "text": [
            "1234567\n"
          ],
          "name": "stdout"
        }
      ]
    },
    {
      "cell_type": "markdown",
      "metadata": {
        "id": "m7mzGfI5OZ2E"
      },
      "source": [
        "ชนิดของตัวแปร มี 3 ชนิด"
      ]
    },
    {
      "cell_type": "markdown",
      "metadata": {
        "id": "kwakSNLwOzw8"
      },
      "source": [
        "จำนวนเต็ม (integer,int)"
      ]
    },
    {
      "cell_type": "code",
      "metadata": {
        "colab": {
          "base_uri": "https://localhost:8080/"
        },
        "id": "4e2blVekO17y",
        "outputId": "aa6ffbeb-f5ea-4495-e0d9-87b3f06b6b37"
      },
      "source": [
        "aaa=1092\r\n",
        "print(aaa)"
      ],
      "execution_count": null,
      "outputs": [
        {
          "output_type": "stream",
          "text": [
            "1092\n"
          ],
          "name": "stdout"
        }
      ]
    },
    {
      "cell_type": "markdown",
      "metadata": {
        "id": "f7ZwO8JaO_an"
      },
      "source": [
        "จำนวนจริง(float)"
      ]
    },
    {
      "cell_type": "code",
      "metadata": {
        "colab": {
          "base_uri": "https://localhost:8080/"
        },
        "id": "znhesB-SPFYy",
        "outputId": "7f66f887-e9f9-41e3-9967-8e936282c344"
      },
      "source": [
        "bbb=11.\r\n",
        "print(bbb)"
      ],
      "execution_count": null,
      "outputs": [
        {
          "output_type": "stream",
          "text": [
            "11.0\n"
          ],
          "name": "stdout"
        }
      ]
    },
    {
      "cell_type": "markdown",
      "metadata": {
        "id": "uzsTngPzPMON"
      },
      "source": [
        "ตัวอักษร-ข้อความ (character และ text,string)"
      ]
    },
    {
      "cell_type": "code",
      "metadata": {
        "colab": {
          "base_uri": "https://localhost:8080/"
        },
        "id": "UpNraxs2PYl1",
        "outputId": "5f517131-d443-47ba-aef5-d46832c4fedf"
      },
      "source": [
        "ccc='123456' #เราใช้ single qute ' หรือ double quote \" ล้อมรอบตัวหนังสือเพื่อระบุว่าเป็น character-string (ใช้อะไรต้องปิดด้วยตัว)\r\n",
        "print(ccc)"
      ],
      "execution_count": null,
      "outputs": [
        {
          "output_type": "stream",
          "text": [
            "123456\n"
          ],
          "name": "stdout"
        }
      ]
    },
    {
      "cell_type": "code",
      "metadata": {
        "colab": {
          "base_uri": "https://localhost:8080/"
        },
        "id": "xhIsFhHeQFF3",
        "outputId": "14fdab03-c56d-4649-855c-4f2aa75cb3bc"
      },
      "source": [
        "aaa+bbb #float + int = float "
      ],
      "execution_count": null,
      "outputs": [
        {
          "output_type": "execute_result",
          "data": {
            "text/plain": [
              "1103.0"
            ]
          },
          "metadata": {
            "tags": []
          },
          "execution_count": 11
        }
      ]
    },
    {
      "cell_type": "code",
      "metadata": {
        "colab": {
          "base_uri": "https://localhost:8080/",
          "height": 163
        },
        "id": "VSSwV1HRQiui",
        "outputId": "7ba7fd4c-ea71-43a6-ce30-c756d0848ffc"
      },
      "source": [
        "bbb+ccc  #float + string ไม่สามารถบวกกันได้"
      ],
      "execution_count": null,
      "outputs": [
        {
          "output_type": "error",
          "ename": "TypeError",
          "evalue": "ignored",
          "traceback": [
            "\u001b[0;31m---------------------------------------------------------------------------\u001b[0m",
            "\u001b[0;31mTypeError\u001b[0m                                 Traceback (most recent call last)",
            "\u001b[0;32m<ipython-input-13-c95aa0bdc4a5>\u001b[0m in \u001b[0;36m<module>\u001b[0;34m()\u001b[0m\n\u001b[0;32m----> 1\u001b[0;31m \u001b[0mbbb\u001b[0m\u001b[0;34m+\u001b[0m\u001b[0mccc\u001b[0m\u001b[0;34m\u001b[0m\u001b[0;34m\u001b[0m\u001b[0m\n\u001b[0m",
            "\u001b[0;31mTypeError\u001b[0m: unsupported operand type(s) for +: 'float' and 'str'"
          ]
        }
      ]
    },
    {
      "cell_type": "code",
      "metadata": {
        "colab": {
          "base_uri": "https://localhost:8080/"
        },
        "id": "WYdVQGGNQrcV",
        "outputId": "e799bd27-5321-4680-bc01-d99b23fdc860"
      },
      "source": [
        "ddd='กิตติมา'\r\n",
        "print(ddd)"
      ],
      "execution_count": null,
      "outputs": [
        {
          "output_type": "stream",
          "text": [
            "กิตติมา\n"
          ],
          "name": "stdout"
        }
      ]
    },
    {
      "cell_type": "markdown",
      "metadata": {
        "id": "EBIJ-Rn1QzLd"
      },
      "source": [
        "การเปลี่ยนชนิดของตัวแปร variable casting"
      ]
    },
    {
      "cell_type": "code",
      "metadata": {
        "colab": {
          "base_uri": "https://localhost:8080/"
        },
        "id": "DmL11QT1Q9Uw",
        "outputId": "a1617d7d-0ffa-4ffe-b2f3-4ff1507f006f"
      },
      "source": [
        "aaa+int (ccc)"
      ],
      "execution_count": null,
      "outputs": [
        {
          "output_type": "execute_result",
          "data": {
            "text/plain": [
              "124548"
            ]
          },
          "metadata": {
            "tags": []
          },
          "execution_count": 16
        }
      ]
    },
    {
      "cell_type": "code",
      "metadata": {
        "colab": {
          "base_uri": "https://localhost:8080/"
        },
        "id": "cn3h5OzURkoy",
        "outputId": "1c1b5ed2-d789-4b3a-df2b-bc9a5eb440df"
      },
      "source": [
        "aaa+float (ccc)"
      ],
      "execution_count": null,
      "outputs": [
        {
          "output_type": "execute_result",
          "data": {
            "text/plain": [
              "124548.0"
            ]
          },
          "metadata": {
            "tags": []
          },
          "execution_count": 17
        }
      ]
    },
    {
      "cell_type": "code",
      "metadata": {
        "colab": {
          "base_uri": "https://localhost:8080/",
          "height": 35
        },
        "id": "XHOkQDKqRpA7",
        "outputId": "b5db965d-e7d4-4d61-e078-f6757c0b349f"
      },
      "source": [
        "str (aaa) # เป็นการเรียกชื่อตัวแปรเฉยๆ ซึ่งการใช้งานจริงอาจไม่แสดงผลอะไร"
      ],
      "execution_count": null,
      "outputs": [
        {
          "output_type": "execute_result",
          "data": {
            "application/vnd.google.colaboratory.intrinsic+json": {
              "type": "string"
            },
            "text/plain": [
              "'1092'"
            ]
          },
          "metadata": {
            "tags": []
          },
          "execution_count": 19
        }
      ]
    },
    {
      "cell_type": "markdown",
      "metadata": {
        "id": "hjnV50LnSJuT"
      },
      "source": [
        "# การดำเนินการ operation (operators +,-,*,/,%)"
      ]
    },
    {
      "cell_type": "code",
      "metadata": {
        "colab": {
          "base_uri": "https://localhost:8080/",
          "height": 163
        },
        "id": "j-fF7Eg_SY0i",
        "outputId": "c1eac4dc-99aa-461a-91f8-4e16a2a1c04f"
      },
      "source": [
        "a+b #eror เพราะไม่พบชื่อตัวแปร b"
      ],
      "execution_count": null,
      "outputs": [
        {
          "output_type": "error",
          "ename": "NameError",
          "evalue": "ignored",
          "traceback": [
            "\u001b[0;31m---------------------------------------------------------------------------\u001b[0m",
            "\u001b[0;31mNameError\u001b[0m                                 Traceback (most recent call last)",
            "\u001b[0;32m<ipython-input-20-ca730b97bf8a>\u001b[0m in \u001b[0;36m<module>\u001b[0;34m()\u001b[0m\n\u001b[0;32m----> 1\u001b[0;31m \u001b[0ma\u001b[0m\u001b[0;34m+\u001b[0m\u001b[0mb\u001b[0m\u001b[0;34m\u001b[0m\u001b[0;34m\u001b[0m\u001b[0m\n\u001b[0m",
            "\u001b[0;31mNameError\u001b[0m: name 'b' is not defined"
          ]
        }
      ]
    },
    {
      "cell_type": "code",
      "metadata": {
        "colab": {
          "base_uri": "https://localhost:8080/"
        },
        "id": "VA6DSwwASxol",
        "outputId": "0ffc9155-0995-4103-df73-be0e7559feca"
      },
      "source": [
        "aaa+bbb"
      ],
      "execution_count": null,
      "outputs": [
        {
          "output_type": "execute_result",
          "data": {
            "text/plain": [
              "1103.0"
            ]
          },
          "metadata": {
            "tags": []
          },
          "execution_count": 21
        }
      ]
    },
    {
      "cell_type": "code",
      "metadata": {
        "colab": {
          "base_uri": "https://localhost:8080/"
        },
        "id": "0AP75qzfS1US",
        "outputId": "9362c96b-2104-4723-b13c-a2a605eb0966"
      },
      "source": [
        "aaa-bbb"
      ],
      "execution_count": null,
      "outputs": [
        {
          "output_type": "execute_result",
          "data": {
            "text/plain": [
              "1081.0"
            ]
          },
          "metadata": {
            "tags": []
          },
          "execution_count": 22
        }
      ]
    },
    {
      "cell_type": "code",
      "metadata": {
        "colab": {
          "base_uri": "https://localhost:8080/"
        },
        "id": "xkzq5Gh8S4AN",
        "outputId": "75507f74-481d-4e45-f3bc-88a781070018"
      },
      "source": [
        "ab=aaa*bbb\r\n",
        "print(ab)"
      ],
      "execution_count": null,
      "outputs": [
        {
          "output_type": "stream",
          "text": [
            "12012.0\n"
          ],
          "name": "stdout"
        }
      ]
    },
    {
      "cell_type": "code",
      "metadata": {
        "colab": {
          "base_uri": "https://localhost:8080/"
        },
        "id": "4hHifZwSS_Wx",
        "outputId": "a480eab9-83ba-4c03-d64c-a7cbc9a87876"
      },
      "source": [
        "ab+int(ccc)"
      ],
      "execution_count": null,
      "outputs": [
        {
          "output_type": "execute_result",
          "data": {
            "text/plain": [
              "135468.0"
            ]
          },
          "metadata": {
            "tags": []
          },
          "execution_count": 24
        }
      ]
    },
    {
      "cell_type": "markdown",
      "metadata": {
        "id": "nCzafG-CTE40"
      },
      "source": [
        "% คือ modulo #การหารเอาเศษ"
      ]
    },
    {
      "cell_type": "code",
      "metadata": {
        "colab": {
          "base_uri": "https://localhost:8080/"
        },
        "id": "JuOJ1umPTbHI",
        "outputId": "a76bfad8-cfa9-4cc2-d0c4-9891ad34c93d"
      },
      "source": [
        "5%3"
      ],
      "execution_count": null,
      "outputs": [
        {
          "output_type": "execute_result",
          "data": {
            "text/plain": [
              "2"
            ]
          },
          "metadata": {
            "tags": []
          },
          "execution_count": 25
        }
      ]
    },
    {
      "cell_type": "code",
      "metadata": {
        "colab": {
          "base_uri": "https://localhost:8080/"
        },
        "id": "fNkqtDg6TuDM",
        "outputId": "313d2123-0566-42ba-e6f3-ad7decf30a33"
      },
      "source": [
        "7%3"
      ],
      "execution_count": null,
      "outputs": [
        {
          "output_type": "execute_result",
          "data": {
            "text/plain": [
              "1"
            ]
          },
          "metadata": {
            "tags": []
          },
          "execution_count": 26
        }
      ]
    },
    {
      "cell_type": "markdown",
      "metadata": {
        "id": "YqxuOgftT0By"
      },
      "source": [
        "คำสั่ง print แบบพิเศษ(การ format string)"
      ]
    },
    {
      "cell_type": "code",
      "metadata": {
        "colab": {
          "base_uri": "https://localhost:8080/"
        },
        "id": "OMlzL67xUCsT",
        "outputId": "0bc31327-0920-44fa-f067-6153f9f21330"
      },
      "source": [
        "print ('ตัวแปร') #สิ่งที่อยู่ภายในวงเล็บคือ ตัวแปร และ string "
      ],
      "execution_count": null,
      "outputs": [
        {
          "output_type": "stream",
          "text": [
            "ตัวแปร\n"
          ],
          "name": "stdout"
        }
      ]
    },
    {
      "cell_type": "code",
      "metadata": {
        "colab": {
          "base_uri": "https://localhost:8080/"
        },
        "id": "IhKVArSVUc1M",
        "outputId": "ac5b6701-f457-4859-cb70-71d218dc4140"
      },
      "source": [
        "print(f'% คือการหารเอาเศษ เช่น 7%3 = {7%3}') #เพิ่ม f หน้า 'string' c]t.=h {} ใส่ code"
      ],
      "execution_count": null,
      "outputs": [
        {
          "output_type": "stream",
          "text": [
            "% คือการหารเอาเศษ เช่น 7%3 = 1\n"
          ],
          "name": "stdout"
        }
      ]
    },
    {
      "cell_type": "code",
      "metadata": {
        "colab": {
          "base_uri": "https://localhost:8080/"
        },
        "id": "HAzWGBG6U5sM",
        "outputId": "57f55505-3980-47b6-bc7e-91239cf82495"
      },
      "source": [
        "print(f'% คือการหารเอาเศษ เช่น 7%3 = {7%3} \\\r\n",
        "แต่ \\n/ คือการหารปกติ เช่น 7/3 = {7/3} \\\r\n",
        "และ \\n// คือการหารเอาส่วน เช่น 7//3 = {7//3} \\\r\n",
        "หรือ \\n ใช้ int() เพื่อหารเอาส่วน เช่น int(7/3)={int(7/3)}')   #/n คือการขึ้นบรรทัดใหม่ / ใช้ในการตัด code แต่ com จะไม่เห็น"
      ],
      "execution_count": null,
      "outputs": [
        {
          "output_type": "stream",
          "text": [
            "% คือการหารเอาเศษ เช่น 7%3 = 1 แต่ \n",
            "/ คือการหารปกติ เช่น 7/3 = 2.3333333333333335 และ \n",
            "// คือการหารเอาส่วน เช่น 7//3 = 2 หรือ \n",
            " ใช้ int() เพื่อหารเอาส่วน เช่น int(7/3)=2\n"
          ],
          "name": "stdout"
        }
      ]
    },
    {
      "cell_type": "markdown",
      "metadata": {
        "id": "s8gToovYXFxf"
      },
      "source": [
        "DATA STRUCTURE (โครงสร้างข้อมูล)"
      ]
    },
    {
      "cell_type": "code",
      "metadata": {
        "colab": {
          "base_uri": "https://localhost:8080/"
        },
        "id": "eKXWuoBpXbOp",
        "outputId": "2a8a9b4e-bc51-49eb-8947-ea391edf9989"
      },
      "source": [
        "[111,'c','งง',aaa] #สามารถสร้างหลายตัวในที่เก็บเดียวกัน"
      ],
      "execution_count": null,
      "outputs": [
        {
          "output_type": "execute_result",
          "data": {
            "text/plain": [
              "[111, 'c', 'งง', 1092]"
            ]
          },
          "metadata": {
            "tags": []
          },
          "execution_count": 33
        }
      ]
    },
    {
      "cell_type": "markdown",
      "metadata": {
        "id": "D_QmYApxXNT4"
      },
      "source": [
        "List คือการเอาข้อมูลหลายๆตัวมาเรียงต่อกัน"
      ]
    },
    {
      "cell_type": "markdown",
      "metadata": {
        "id": "i5GMUMHajvRt"
      },
      "source": [
        "list สามารถสร้างได้ 2 แบบ ดังนี้"
      ]
    },
    {
      "cell_type": "markdown",
      "metadata": {
        "id": "WYxo5-hdXut1"
      },
      "source": [
        "แบบที่ 1 > square brackets"
      ]
    },
    {
      "cell_type": "code",
      "metadata": {
        "colab": {
          "base_uri": "https://localhost:8080/"
        },
        "id": "OuioiDMrXtzI",
        "outputId": "2dac5bbe-ca7f-4dc6-d804-d10b673c1378"
      },
      "source": [
        "list_a=[]\r\n",
        "print(list_a)"
      ],
      "execution_count": null,
      "outputs": [
        {
          "output_type": "stream",
          "text": [
            "[]\n"
          ],
          "name": "stdout"
        }
      ]
    },
    {
      "cell_type": "code",
      "metadata": {
        "colab": {
          "base_uri": "https://localhost:8080/"
        },
        "id": "VDAJUcVoX-tT",
        "outputId": "494634ad-f602-4bc8-e716-f6afb453fb61"
      },
      "source": [
        "list_b=[111,'c','งง',aaa]\r\n",
        "print(list_b)"
      ],
      "execution_count": null,
      "outputs": [
        {
          "output_type": "stream",
          "text": [
            "[111, 'c', 'งง', 1092]\n"
          ],
          "name": "stdout"
        }
      ]
    },
    {
      "cell_type": "markdown",
      "metadata": {
        "id": "ocKsCZCIj7SF"
      },
      "source": [
        "ลำดับที่อยู่ใน list มีความสำคัญ (ลำดับใน list เริ่มจาก 0,1,2,....)"
      ]
    },
    {
      "cell_type": "code",
      "metadata": {
        "colab": {
          "base_uri": "https://localhost:8080/",
          "height": 35
        },
        "id": "dS4tXO0JkMD7",
        "outputId": "8a009c6c-1b3f-43be-870d-3ccf93ea1d2f"
      },
      "source": [
        "list_b[2]"
      ],
      "execution_count": null,
      "outputs": [
        {
          "output_type": "execute_result",
          "data": {
            "application/vnd.google.colaboratory.intrinsic+json": {
              "type": "string"
            },
            "text/plain": [
              "'งง'"
            ]
          },
          "metadata": {
            "tags": []
          },
          "execution_count": 59
        }
      ]
    },
    {
      "cell_type": "markdown",
      "metadata": {
        "id": "1BP9-bmxYH7v"
      },
      "source": [
        "แบบที่ 2"
      ]
    },
    {
      "cell_type": "code",
      "metadata": {
        "colab": {
          "base_uri": "https://localhost:8080/"
        },
        "id": "gwW4_-o9YMqW",
        "outputId": "879089c5-f2e7-4a2a-948c-bdae5cb3d04f"
      },
      "source": [
        "list_c=list()\r\n",
        "print(list_c)"
      ],
      "execution_count": null,
      "outputs": [
        {
          "output_type": "stream",
          "text": [
            "[]\n"
          ],
          "name": "stdout"
        }
      ]
    },
    {
      "cell_type": "markdown",
      "metadata": {
        "id": "oCROtHMSYczW"
      },
      "source": [
        "append () เพิ่มสมาชิกใน list"
      ]
    },
    {
      "cell_type": "code",
      "metadata": {
        "colab": {
          "base_uri": "https://localhost:8080/"
        },
        "id": "9LB2XrCbYlSc",
        "outputId": "9c4011d2-3053-46d0-875d-fee0df4eb9ec"
      },
      "source": [
        "list_b.append('u')\r\n",
        "print(list_b)"
      ],
      "execution_count": null,
      "outputs": [
        {
          "output_type": "stream",
          "text": [
            "[111, 'c', 'งง', 1092, 'u']\n"
          ],
          "name": "stdout"
        }
      ]
    },
    {
      "cell_type": "markdown",
      "metadata": {
        "id": "1ZsYNqC0kp-U"
      },
      "source": [
        "ตัวที่อยู่ในวงเล็บหลังจากตัวแปร list เรียกว่า index ใช้สำหรับชี้ข้อมูลใน list  (ชี้ข้างหลัง,ชี้ข้างหน้า)"
      ]
    },
    {
      "cell_type": "markdown",
      "metadata": {
        "id": "wFTFwHTEks_B"
      },
      "source": [
        "0 คือสมาชิกตัวแรก,-1 คือสมาชิกตัวสุดท้าย"
      ]
    },
    {
      "cell_type": "code",
      "metadata": {
        "colab": {
          "base_uri": "https://localhost:8080/",
          "height": 35
        },
        "id": "WLYGa6B5Y3fk",
        "outputId": "81911eb5-d5c1-4637-a1fc-1eef4c1190fb"
      },
      "source": [
        "list_b[-1] "
      ],
      "execution_count": null,
      "outputs": [
        {
          "output_type": "execute_result",
          "data": {
            "application/vnd.google.colaboratory.intrinsic+json": {
              "type": "string"
            },
            "text/plain": [
              "'u'"
            ]
          },
          "metadata": {
            "tags": []
          },
          "execution_count": 61
        }
      ]
    },
    {
      "cell_type": "markdown",
      "metadata": {
        "id": "wuS3t_aNZjdG"
      },
      "source": [
        "string > list of characters"
      ]
    },
    {
      "cell_type": "code",
      "metadata": {
        "colab": {
          "base_uri": "https://localhost:8080/"
        },
        "id": "OTwVm9dfZsvI",
        "outputId": "5d65c0fc-890e-45f7-e25c-e8e285dcf959"
      },
      "source": [
        "t='python is easy'\r\n",
        "print(t)"
      ],
      "execution_count": null,
      "outputs": [
        {
          "output_type": "stream",
          "text": [
            "python is easy\n"
          ],
          "name": "stdout"
        }
      ]
    },
    {
      "cell_type": "code",
      "metadata": {
        "colab": {
          "base_uri": "https://localhost:8080/",
          "height": 35
        },
        "id": "T36Laj0FZ1pz",
        "outputId": "4ada4e6a-d49c-4da5-d012-9ec915c8c0d1"
      },
      "source": [
        "t[1]"
      ],
      "execution_count": null,
      "outputs": [
        {
          "output_type": "execute_result",
          "data": {
            "application/vnd.google.colaboratory.intrinsic+json": {
              "type": "string"
            },
            "text/plain": [
              "'y'"
            ]
          },
          "metadata": {
            "tags": []
          },
          "execution_count": 39
        }
      ]
    },
    {
      "cell_type": "code",
      "metadata": {
        "colab": {
          "base_uri": "https://localhost:8080/",
          "height": 35
        },
        "id": "3cPR8-vrZ4jw",
        "outputId": "b5dd5ffc-2bf2-47f5-dd9f-ef4ce552a716"
      },
      "source": [
        "t[-4]"
      ],
      "execution_count": null,
      "outputs": [
        {
          "output_type": "execute_result",
          "data": {
            "application/vnd.google.colaboratory.intrinsic+json": {
              "type": "string"
            },
            "text/plain": [
              "'e'"
            ]
          },
          "metadata": {
            "tags": []
          },
          "execution_count": 41
        }
      ]
    },
    {
      "cell_type": "code",
      "metadata": {
        "colab": {
          "base_uri": "https://localhost:8080/",
          "height": 35
        },
        "id": "b9Q28Ta4aHK7",
        "outputId": "8bc6ddff-a8ad-4851-e776-510c05e28ebc"
      },
      "source": [
        "t[6]"
      ],
      "execution_count": null,
      "outputs": [
        {
          "output_type": "execute_result",
          "data": {
            "application/vnd.google.colaboratory.intrinsic+json": {
              "type": "string"
            },
            "text/plain": [
              "' '"
            ]
          },
          "metadata": {
            "tags": []
          },
          "execution_count": 43
        }
      ]
    }
  ]
}